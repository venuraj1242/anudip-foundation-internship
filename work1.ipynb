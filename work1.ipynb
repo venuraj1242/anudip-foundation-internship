{
 "cells": [
  {
   "cell_type": "code",
   "execution_count": 11,
   "metadata": {},
   "outputs": [
    {
     "name": "stdout",
     "output_type": "stream",
     "text": [
      "{'stdid': 'std101', 'stdname': 'ashish kumar', 'standard': '10th', 'age': 15, 'hindi': 67, 'english': 89}\n"
     ]
    }
   ],
   "source": [
    "studentdata ={ \"stdid\":'std101', \"stdname\": 'ashish kumar', 'standard': '10th', 'age': 15, 'hindi':67, 'english':89}\n",
    "print(studentdata)"
   ]
  },
  {
   "cell_type": "code",
   "execution_count": 12,
   "metadata": {},
   "outputs": [
    {
     "data": {
      "text/plain": [
       "67"
      ]
     },
     "execution_count": 12,
     "metadata": {},
     "output_type": "execute_result"
    }
   ],
   "source": [
    "#delete element having key as hindi \n",
    "studentdata.pop('hindi')"
   ]
  },
  {
   "cell_type": "code",
   "execution_count": 13,
   "metadata": {},
   "outputs": [
    {
     "ename": "TypeError",
     "evalue": "pop expected at least 1 argument, got 0",
     "output_type": "error",
     "traceback": [
      "\u001b[1;31m---------------------------------------------------------------------------\u001b[0m",
      "\u001b[1;31mTypeError\u001b[0m                                 Traceback (most recent call last)",
      "Cell \u001b[1;32mIn[13], line 1\u001b[0m\n\u001b[1;32m----> 1\u001b[0m \u001b[43mstudentdata\u001b[49m\u001b[38;5;241;43m.\u001b[39;49m\u001b[43mpop\u001b[49m\u001b[43m(\u001b[49m\u001b[43m)\u001b[49m\n",
      "\u001b[1;31mTypeError\u001b[0m: pop expected at least 1 argument, got 0"
     ]
    }
   ],
   "source": [
    "studentdata.pop()"
   ]
  },
  {
   "cell_type": "code",
   "execution_count": null,
   "metadata": {},
   "outputs": [
    {
     "data": {
      "text/plain": [
       "15"
      ]
     },
     "execution_count": 6,
     "metadata": {},
     "output_type": "execute_result"
    }
   ],
   "source": [
    "studentdata.pop('age','english')"
   ]
  },
  {
   "cell_type": "code",
   "execution_count": null,
   "metadata": {},
   "outputs": [
    {
     "name": "stdout",
     "output_type": "stream",
     "text": [
      "{'stdid': 'std101', 'stdname': 'ashish kumar', 'standard': '10th', 'english': 89}\n"
     ]
    }
   ],
   "source": [
    "print(studentdata)"
   ]
  },
  {
   "cell_type": "code",
   "execution_count": null,
   "metadata": {},
   "outputs": [
    {
     "name": "stdout",
     "output_type": "stream",
     "text": [
      "{'stdid': 'std101', 'stdname': 'ashish kumar'}\n"
     ]
    }
   ],
   "source": [
    "# studentdata.popitem()\n",
    "# print(studentdata)"
   ]
  },
  {
   "cell_type": "code",
   "execution_count": 14,
   "metadata": {},
   "outputs": [
    {
     "name": "stdout",
     "output_type": "stream",
     "text": [
      "dict_keys(['stdid', 'stdname', 'standard', 'age', 'english'])\n"
     ]
    }
   ],
   "source": [
    "# keys() find all the keys of dic \n",
    "elements=studentdata.keys()\n",
    "print(elements)"
   ]
  },
  {
   "cell_type": "code",
   "execution_count": 15,
   "metadata": {},
   "outputs": [
    {
     "name": "stdout",
     "output_type": "stream",
     "text": [
      "dict_values(['std101', 'ashish kumar', '10th', 15, 89])\n"
     ]
    }
   ],
   "source": [
    "# find out all the elements\n",
    "elements=studentdata.values()\n",
    "print(elements)"
   ]
  },
  {
   "cell_type": "code",
   "execution_count": 17,
   "metadata": {},
   "outputs": [
    {
     "name": "stdout",
     "output_type": "stream",
     "text": [
      "dict_items([('stdid', 'std101'), ('stdname', 'ashish kumar'), ('standard', '10th'), ('age', 15), ('english', 89)])\n"
     ]
    }
   ],
   "source": [
    "# find out all the elements\n",
    "elements=studentdata.items()\n",
    "print(elements)"
   ]
  },
  {
   "cell_type": "code",
   "execution_count": 18,
   "metadata": {},
   "outputs": [
    {
     "name": "stdout",
     "output_type": "stream",
     "text": [
      "std101\n",
      "ashish kumar\n",
      "10th\n",
      "15\n",
      "89\n"
     ]
    }
   ],
   "source": [
    "# to find the values of all the elements\n",
    "for data in studentdata.values():\n",
    "    print(data)"
   ]
  },
  {
   "cell_type": "code",
   "execution_count": 20,
   "metadata": {},
   "outputs": [
    {
     "name": "stdout",
     "output_type": "stream",
     "text": [
      "None\n"
     ]
    }
   ],
   "source": [
    "x=studentdata.get('maths')\n",
    "print(x)"
   ]
  },
  {
   "cell_type": "code",
   "execution_count": 22,
   "metadata": {},
   "outputs": [
    {
     "name": "stdout",
     "output_type": "stream",
     "text": [
      "kill\n"
     ]
    }
   ],
   "source": [
    "x=studentdata.get('maths',\"kill\")\n",
    "print(x)"
   ]
  },
  {
   "cell_type": "code",
   "execution_count": 25,
   "metadata": {},
   "outputs": [
    {
     "name": "stdout",
     "output_type": "stream",
     "text": [
      "first= {'name': 'amit', 'age': 15, 'standard': '10th'}\n",
      "first= {'hindi': 67, 'age': 16, 'standard': '12th', 'english': 67}\n"
     ]
    }
   ],
   "source": [
    "# first dic object \n",
    "dicobj1={'name': 'amit', 'age': 15, 'standard': '10th'}\n",
    "print(\"first=\",dicobj1)\n",
    "dicobj2={'hindi': 67, 'age':16, 'standard': '12th','english':67}\n",
    "print(\"first=\",dicobj2)"
   ]
  },
  {
   "cell_type": "code",
   "execution_count": 26,
   "metadata": {},
   "outputs": [
    {
     "name": "stdout",
     "output_type": "stream",
     "text": [
      "{'name': 'amit', 'age': 16, 'standard': '12th', 'hindi': 67, 'english': 67}\n"
     ]
    }
   ],
   "source": [
    "# inseting all the elements of second dic into first \n",
    "dicobj1.update(dicobj2)\n",
    "print(dicobj1)"
   ]
  },
  {
   "cell_type": "code",
   "execution_count": 32,
   "metadata": {},
   "outputs": [
    {
     "name": "stdout",
     "output_type": "stream",
     "text": [
      "{'name': dict_values([67, 16, '12th', 67]), 'age': dict_values([67, 16, '12th', 67]), 'standard': dict_values([67, 16, '12th', 67]), 'hindi': dict_values([67, 16, '12th', 67]), 'english': dict_values([67, 16, '12th', 67])}\n"
     ]
    }
   ],
   "source": [
    "x=dicobj1.fromkeys(dicobj1.keys(),dicobj2.values())\n",
    "print(x)"
   ]
  },
  {
   "cell_type": "code",
   "execution_count": 48,
   "metadata": {},
   "outputs": [
    {
     "name": "stdout",
     "output_type": "stream",
     "text": [
      "{'name': 15, 'age': 15, 'standard': 15, 'hindi': 15, 'english': 15}\n"
     ]
    }
   ],
   "source": [
    "x=dicobj1.fromkeys(dicobj1.keys(),15)\n",
    "print(x)\n",
    "\n"
   ]
  },
  {
   "cell_type": "code",
   "execution_count": 49,
   "metadata": {},
   "outputs": [
    {
     "name": "stdout",
     "output_type": "stream",
     "text": [
      "5\n"
     ]
    }
   ],
   "source": [
    "x=len(dicobj1)\n",
    "print(x)"
   ]
  },
  {
   "cell_type": "code",
   "execution_count": 90,
   "metadata": {},
   "outputs": [
    {
     "name": "stdout",
     "output_type": "stream",
     "text": [
      "+---------+----------------+------------+-------+---------+-----------+--------+-----------+------------+---------+\n",
      "| stdid   | stdname        | standard   |   age |   hindi |   english |   math |   science |   computer |   total |\n",
      "+=========+================+============+=======+=========+===========+========+===========+============+=========+\n",
      "| sid101  | ashish kumar   | 10th       |    15 |      67 |        89 |     87 |        89 |         90 |     422 |\n",
      "+---------+----------------+------------+-------+---------+-----------+--------+-----------+------------+---------+\n",
      "| sid102  | abhishek kumar | 10th       |    14 |      85 |        45 |     48 |        90 |         45 |     313 |\n",
      "+---------+----------------+------------+-------+---------+-----------+--------+-----------+------------+---------+\n",
      "| sid103  | aman           | 10th       |    15 |      23 |        56 |     78 |        78 |         67 |     302 |\n",
      "+---------+----------------+------------+-------+---------+-----------+--------+-----------+------------+---------+\n",
      "| sid104  | rahul          | 10th       |    14 |      45 |        67 |     45 |        45 |         56 |     258 |\n",
      "+---------+----------------+------------+-------+---------+-----------+--------+-----------+------------+---------+\n",
      "| sid105  | ruby           | 10th       |    13 |      89 |        67 |     89 |        93 |         65 |     403 |\n",
      "+---------+----------------+------------+-------+---------+-----------+--------+-----------+------------+---------+\n",
      "| sid106  | suman          | 10th       |    13 |      90 |        46 |     67 |        67 |         67 |     337 |\n",
      "+---------+----------------+------------+-------+---------+-----------+--------+-----------+------------+---------+\n",
      "| sid107  | saurabh        | 10th       |    15 |      45 |        23 |     34 |        45 |         34 |     181 |\n",
      "+---------+----------------+------------+-------+---------+-----------+--------+-----------+------------+---------+\n",
      "| sid108  | sumit          | 10th       |    14 |      23 |        45 |     67 |        78 |         90 |     303 |\n",
      "+---------+----------------+------------+-------+---------+-----------+--------+-----------+------------+---------+\n",
      "| sid109  | kamlesh        | 10th       |    15 |      45 |        56 |     78 |        99 |         67 |     345 |\n",
      "+---------+----------------+------------+-------+---------+-----------+--------+-----------+------------+---------+\n",
      "| sid110  | rohan          | 10th       |    15 |      34 |        12 |     24 |        45 |         56 |     171 |\n",
      "+---------+----------------+------------+-------+---------+-----------+--------+-----------+------------+---------+\n"
     ]
    }
   ],
   "source": [
    "from tabulate import tabulate\n",
    "student={\n",
    "    1:{'stdid': 'sid101', 'sidname': 'ashish kumar', 'standard': '10th', 'age': 15, 'hindi': 67, 'english': 89, 'math': 87, 'science': 89, 'computer': 90, 'total': 422},\n",
    "    2:{'stdid': 'sid102', 'sidname': 'abhishek kumar', 'standard': '10th', 'age': 14, 'hindi': 85, 'english': 45, 'math': 48, 'science': 90, 'computer': 45, 'total': 313},\n",
    "    3:{'stdid': 'sid103', 'sidname': 'aman', 'standard': '10th', 'age': 15, 'hindi': 23, 'english': 56, 'math': 78, 'science': 78, 'computer': 67, 'total': 302},\n",
    "    4:{'stdid': 'sid104', 'sidname': 'rahul', 'standard': '10th', 'age': 14, 'hindi': 45, 'english': 67, 'math': 45, 'science': 45, 'computer': 56, 'total': 258},\n",
    "    5:{'stdid': 'sid105', 'sidname': 'ruby', 'standard': '10th', 'age': 13, 'hindi': 89, 'english': 67, 'math': 89, 'science': 93, 'computer': 65, 'total': 403},\n",
    "    6:{'stdid': 'sid106', 'sidname': 'suman', 'standard': '10th', 'age': 13, 'hindi': 90, 'english': 46, 'math': 67, 'science': 67, 'computer': 67, 'total': 337},\n",
    "    7:{'stdid': 'sid107', 'sidname': 'saurabh', 'standard': '10th', 'age': 15, 'hindi': 45, 'english': 23, 'math': 34, 'science': 45, 'computer': 34, 'total': 181},\n",
    "    8:{'stdid': 'sid108', 'sidname': 'sumit', 'standard': '10th', 'age': 14, 'hindi': 23, 'english': 45, 'math': 67, 'science': 78, 'computer': 90, 'total': 303},\n",
    "    9:{'stdid': 'sid109', 'sidname': 'kamlesh', 'standard': '10th', 'age': 15, 'hindi': 45, 'english': 56, 'math': 78, 'science': 99, 'computer': 67, 'total': 345},\n",
    "    10:{'stdid': 'sid110', 'sidname': 'rohan', 'standard': '10th', 'age': 15, 'hindi': 34, 'english': 12, 'math': 24, 'science': 45, 'computer': 56, 'total': 171}\n",
    "}\n",
    "# print(student)\n",
    "student_tabulate = tabulate(student.values(),headers={'stdid': 'stdid', 'sidname': 'stdname', 'standard': 'standard', 'age': 'age', 'hindi': 'hindi', 'english': 'english', 'math': 'math', 'science': 'science', 'computer': 'computer', 'total': 'total'},tablefmt=\"grid\")\n",
    "print(student_tabulate)"
   ]
  },
  {
   "cell_type": "code",
   "execution_count": 113,
   "metadata": {},
   "outputs": [
    {
     "name": "stdout",
     "output_type": "stream",
     "text": [
      "ashish kumar\n",
      "aman\n",
      "rahul\n",
      "ruby\n",
      "kamlesh\n"
     ]
    }
   ],
   "source": [
    "# display the name of students whose marks in english is greather than 50\n",
    "for i,j in student.items():  \n",
    "     if(j['english']>50):\n",
    "         print(j['sidname'])\n",
    "         "
   ]
  },
  {
   "cell_type": "code",
   "execution_count": 106,
   "metadata": {},
   "outputs": [
    {
     "name": "stdout",
     "output_type": "stream",
     "text": [
      "name age\n",
      "ruby 13\n",
      "ashish kumar 15\n",
      "aman 15\n",
      "kamlesh 15\n"
     ]
    }
   ],
   "source": [
    "# display students name and age of top four scorer of maths\n",
    "sorts = sorted(student.values(), key=lambda student: student['math'], reverse=True)\n",
    "four=sorts[:4]\n",
    "print('name','age')\n",
    "for i in four :\n",
    "    print(i['sidname'], i['age'])"
   ]
  },
  {
   "cell_type": "code",
   "execution_count": 111,
   "metadata": {},
   "outputs": [
    {
     "name": "stdout",
     "output_type": "stream",
     "text": [
      "id  name  age \n",
      "sid107 saurabh 15\n",
      "sid102 abhishek kumar 14\n",
      "sid104 rahul 14\n"
     ]
    }
   ],
   "source": [
    "# display name id age of student who are bottom three scorer computer\n",
    "sorts = sorted(student.values(), key=lambda student: student['computer'])\n",
    "four=sorts[:3]\n",
    "print('id ','name ','age ')\n",
    "for i in four :\n",
    "    print(i['stdid'],i['sidname'],i['age'])"
   ]
  }
 ],
 "metadata": {
  "kernelspec": {
   "display_name": "Python 3",
   "language": "python",
   "name": "python3"
  },
  "language_info": {
   "codemirror_mode": {
    "name": "ipython",
    "version": 3
   },
   "file_extension": ".py",
   "mimetype": "text/x-python",
   "name": "python",
   "nbconvert_exporter": "python",
   "pygments_lexer": "ipython3",
   "version": "3.11.3"
  }
 },
 "nbformat": 4,
 "nbformat_minor": 2
}
