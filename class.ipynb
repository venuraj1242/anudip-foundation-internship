{
 "cells": [
  {
   "cell_type": "code",
   "execution_count": 31,
   "metadata": {},
   "outputs": [],
   "source": [
    "import pandas as pd \n",
    "import matplotlib as plt"
   ]
  },
  {
   "cell_type": "code",
   "execution_count": 32,
   "metadata": {},
   "outputs": [
    {
     "data": {
      "text/html": [
       "<div>\n",
       "<style scoped>\n",
       "    .dataframe tbody tr th:only-of-type {\n",
       "        vertical-align: middle;\n",
       "    }\n",
       "\n",
       "    .dataframe tbody tr th {\n",
       "        vertical-align: top;\n",
       "    }\n",
       "\n",
       "    .dataframe thead th {\n",
       "        text-align: right;\n",
       "    }\n",
       "</style>\n",
       "<table border=\"1\" class=\"dataframe\">\n",
       "  <thead>\n",
       "    <tr style=\"text-align: right;\">\n",
       "      <th></th>\n",
       "      <th>customer_id</th>\n",
       "      <th>name</th>\n",
       "      <th>age</th>\n",
       "      <th>gender</th>\n",
       "      <th>city</th>\n",
       "      <th>product_category</th>\n",
       "      <th>purchase_amount</th>\n",
       "      <th>purchase_date</th>\n",
       "    </tr>\n",
       "  </thead>\n",
       "  <tbody>\n",
       "    <tr>\n",
       "      <th>0</th>\n",
       "      <td>0</td>\n",
       "      <td>John Smith</td>\n",
       "      <td>42</td>\n",
       "      <td>Male</td>\n",
       "      <td>New York</td>\n",
       "      <td>Electronics</td>\n",
       "      <td>123</td>\n",
       "      <td>15-02-2023</td>\n",
       "    </tr>\n",
       "    <tr>\n",
       "      <th>1</th>\n",
       "      <td>1</td>\n",
       "      <td>Jane Doe</td>\n",
       "      <td>25</td>\n",
       "      <td>Female</td>\n",
       "      <td>New York</td>\n",
       "      <td>Clothing</td>\n",
       "      <td>275</td>\n",
       "      <td>07-08-2023</td>\n",
       "    </tr>\n",
       "    <tr>\n",
       "      <th>2</th>\n",
       "      <td>2</td>\n",
       "      <td>Alice Johnson</td>\n",
       "      <td>38</td>\n",
       "      <td>Female</td>\n",
       "      <td>Chicago</td>\n",
       "      <td>Books</td>\n",
       "      <td>345</td>\n",
       "      <td>22-05-2023</td>\n",
       "    </tr>\n",
       "    <tr>\n",
       "      <th>3</th>\n",
       "      <td>3</td>\n",
       "      <td>John Doe</td>\n",
       "      <td>35</td>\n",
       "      <td>Male</td>\n",
       "      <td>Houston</td>\n",
       "      <td>Electronics</td>\n",
       "      <td>412</td>\n",
       "      <td>10-11-2023</td>\n",
       "    </tr>\n",
       "    <tr>\n",
       "      <th>4</th>\n",
       "      <td>4</td>\n",
       "      <td>Jane Smith</td>\n",
       "      <td>52</td>\n",
       "      <td>Female</td>\n",
       "      <td>Phoenix</td>\n",
       "      <td>Clothing</td>\n",
       "      <td>167</td>\n",
       "      <td>28-03-2023</td>\n",
       "    </tr>\n",
       "    <tr>\n",
       "      <th>5</th>\n",
       "      <td>5</td>\n",
       "      <td>Alice Johnson</td>\n",
       "      <td>28</td>\n",
       "      <td>Female</td>\n",
       "      <td>New York</td>\n",
       "      <td>Books</td>\n",
       "      <td>298</td>\n",
       "      <td>13-07-2023</td>\n",
       "    </tr>\n",
       "    <tr>\n",
       "      <th>6</th>\n",
       "      <td>6</td>\n",
       "      <td>John Doe</td>\n",
       "      <td>47</td>\n",
       "      <td>Male</td>\n",
       "      <td>Los Angeles</td>\n",
       "      <td>Electronics</td>\n",
       "      <td>376</td>\n",
       "      <td>21-09-2023</td>\n",
       "    </tr>\n",
       "    <tr>\n",
       "      <th>7</th>\n",
       "      <td>7</td>\n",
       "      <td>Jane Smith</td>\n",
       "      <td>31</td>\n",
       "      <td>Female</td>\n",
       "      <td>Chicago</td>\n",
       "      <td>Clothing</td>\n",
       "      <td>453</td>\n",
       "      <td>04-01-2023</td>\n",
       "    </tr>\n",
       "    <tr>\n",
       "      <th>8</th>\n",
       "      <td>8</td>\n",
       "      <td>Alice Johnson</td>\n",
       "      <td>60</td>\n",
       "      <td>Female</td>\n",
       "      <td>Houston</td>\n",
       "      <td>Books</td>\n",
       "      <td>182</td>\n",
       "      <td>06-12-2023</td>\n",
       "    </tr>\n",
       "    <tr>\n",
       "      <th>9</th>\n",
       "      <td>9</td>\n",
       "      <td>John Doe</td>\n",
       "      <td>22</td>\n",
       "      <td>Male</td>\n",
       "      <td>Houston</td>\n",
       "      <td>Electronics</td>\n",
       "      <td>321</td>\n",
       "      <td>17-04-2023</td>\n",
       "    </tr>\n",
       "    <tr>\n",
       "      <th>10</th>\n",
       "      <td>10</td>\n",
       "      <td>Jane Smith</td>\n",
       "      <td>48</td>\n",
       "      <td>Female</td>\n",
       "      <td>Houston</td>\n",
       "      <td>Clothing</td>\n",
       "      <td>246</td>\n",
       "      <td>25-06-2023</td>\n",
       "    </tr>\n",
       "    <tr>\n",
       "      <th>11</th>\n",
       "      <td>11</td>\n",
       "      <td>Alice Johnson</td>\n",
       "      <td>33</td>\n",
       "      <td>Female</td>\n",
       "      <td>Los Angeles</td>\n",
       "      <td>Books</td>\n",
       "      <td>397</td>\n",
       "      <td>08-10-2023</td>\n",
       "    </tr>\n",
       "    <tr>\n",
       "      <th>12</th>\n",
       "      <td>12</td>\n",
       "      <td>John Doe</td>\n",
       "      <td>55</td>\n",
       "      <td>Male</td>\n",
       "      <td>Chicago</td>\n",
       "      <td>Electronics</td>\n",
       "      <td>154</td>\n",
       "      <td>01-02-2023</td>\n",
       "    </tr>\n",
       "    <tr>\n",
       "      <th>13</th>\n",
       "      <td>13</td>\n",
       "      <td>Jane Smith</td>\n",
       "      <td>27</td>\n",
       "      <td>Female</td>\n",
       "      <td>Houston</td>\n",
       "      <td>Clothing</td>\n",
       "      <td>438</td>\n",
       "      <td>16-08-2023</td>\n",
       "    </tr>\n",
       "    <tr>\n",
       "      <th>14</th>\n",
       "      <td>14</td>\n",
       "      <td>Alice Johnson</td>\n",
       "      <td>62</td>\n",
       "      <td>Female</td>\n",
       "      <td>Phoenix</td>\n",
       "      <td>Books</td>\n",
       "      <td>171</td>\n",
       "      <td>22-12-2023</td>\n",
       "    </tr>\n",
       "    <tr>\n",
       "      <th>15</th>\n",
       "      <td>15</td>\n",
       "      <td>John Doe</td>\n",
       "      <td>37</td>\n",
       "      <td>Male</td>\n",
       "      <td>New York</td>\n",
       "      <td>Electronics</td>\n",
       "      <td>319</td>\n",
       "      <td>11-05-2023</td>\n",
       "    </tr>\n",
       "    <tr>\n",
       "      <th>16</th>\n",
       "      <td>16</td>\n",
       "      <td>Jane Smith</td>\n",
       "      <td>50</td>\n",
       "      <td>Female</td>\n",
       "      <td>Los Angeles</td>\n",
       "      <td>Clothing</td>\n",
       "      <td>235</td>\n",
       "      <td>29-07-2023</td>\n",
       "    </tr>\n",
       "    <tr>\n",
       "      <th>17</th>\n",
       "      <td>17</td>\n",
       "      <td>Alice Johnson</td>\n",
       "      <td>36</td>\n",
       "      <td>Female</td>\n",
       "      <td>Chicago</td>\n",
       "      <td>Books</td>\n",
       "      <td>384</td>\n",
       "      <td>15-11-2023</td>\n",
       "    </tr>\n",
       "    <tr>\n",
       "      <th>18</th>\n",
       "      <td>18</td>\n",
       "      <td>John Doe</td>\n",
       "      <td>24</td>\n",
       "      <td>Male</td>\n",
       "      <td>Houston</td>\n",
       "      <td>Electronics</td>\n",
       "      <td>402</td>\n",
       "      <td>30-03-2023</td>\n",
       "    </tr>\n",
       "    <tr>\n",
       "      <th>19</th>\n",
       "      <td>19</td>\n",
       "      <td>Jane Smith</td>\n",
       "      <td>53</td>\n",
       "      <td>Female</td>\n",
       "      <td>Phoenix</td>\n",
       "      <td>Clothing</td>\n",
       "      <td>163</td>\n",
       "      <td>12-01-2023</td>\n",
       "    </tr>\n",
       "  </tbody>\n",
       "</table>\n",
       "</div>"
      ],
      "text/plain": [
       "    customer_id           name  age  gender         city product_category  \\\n",
       "0             0     John Smith   42    Male     New York      Electronics   \n",
       "1             1       Jane Doe   25  Female     New York         Clothing   \n",
       "2             2  Alice Johnson   38  Female      Chicago            Books   \n",
       "3             3       John Doe   35    Male      Houston      Electronics   \n",
       "4             4     Jane Smith   52  Female      Phoenix         Clothing   \n",
       "5             5  Alice Johnson   28  Female     New York            Books   \n",
       "6             6       John Doe   47    Male  Los Angeles      Electronics   \n",
       "7             7     Jane Smith   31  Female      Chicago         Clothing   \n",
       "8             8  Alice Johnson   60  Female      Houston            Books   \n",
       "9             9       John Doe   22    Male      Houston      Electronics   \n",
       "10           10     Jane Smith   48  Female      Houston         Clothing   \n",
       "11           11  Alice Johnson   33  Female  Los Angeles            Books   \n",
       "12           12       John Doe   55    Male      Chicago      Electronics   \n",
       "13           13     Jane Smith   27  Female      Houston         Clothing   \n",
       "14           14  Alice Johnson   62  Female      Phoenix            Books   \n",
       "15           15       John Doe   37    Male     New York      Electronics   \n",
       "16           16     Jane Smith   50  Female  Los Angeles         Clothing   \n",
       "17           17  Alice Johnson   36  Female      Chicago            Books   \n",
       "18           18       John Doe   24    Male      Houston      Electronics   \n",
       "19           19     Jane Smith   53  Female      Phoenix         Clothing   \n",
       "\n",
       "    purchase_amount purchase_date  \n",
       "0               123    15-02-2023  \n",
       "1               275    07-08-2023  \n",
       "2               345    22-05-2023  \n",
       "3               412    10-11-2023  \n",
       "4               167    28-03-2023  \n",
       "5               298    13-07-2023  \n",
       "6               376    21-09-2023  \n",
       "7               453    04-01-2023  \n",
       "8               182    06-12-2023  \n",
       "9               321    17-04-2023  \n",
       "10              246    25-06-2023  \n",
       "11              397    08-10-2023  \n",
       "12              154    01-02-2023  \n",
       "13              438    16-08-2023  \n",
       "14              171    22-12-2023  \n",
       "15              319    11-05-2023  \n",
       "16              235    29-07-2023  \n",
       "17              384    15-11-2023  \n",
       "18              402    30-03-2023  \n",
       "19              163    12-01-2023  "
      ]
     },
     "execution_count": 32,
     "metadata": {},
     "output_type": "execute_result"
    }
   ],
   "source": [
    "df = pd.read_csv('class.csv')\n",
    "df"
   ]
  },
  {
   "cell_type": "code",
   "execution_count": 46,
   "metadata": {},
   "outputs": [
    {
     "data": {
      "text/plain": [
       "<Axes: xlabel='city'>"
      ]
     },
     "execution_count": 46,
     "metadata": {},
     "output_type": "execute_result"
    },
    {
     "data": {
      "image/png": "[encoded data removed]",
      "text/plain": [
       "<Figure size 640x480 with 1 Axes>"
      ]
     },
     "metadata": {},
     "output_type": "display_data"
    }
   ],
   "source": [
    "quantity = df.groupby('city')['customer_id'].count().sort_values(ascending=False)\n",
    "quantity.plot(kind='bar')"
   ]
  },
  {
   "cell_type": "code",
   "execution_count": 34,
   "metadata": {},
   "outputs": [
    {
     "name": "stdout",
     "output_type": "stream",
     "text": [
      "mean avg age  40.25\n"
     ]
    }
   ],
   "source": [
    "mean_age=df['age'].mean()\n",
    "print(\"mean avg age \",mean_age)"
   ]
  },
  {
   "cell_type": "code",
   "execution_count": 35,
   "metadata": {},
   "outputs": [
    {
     "name": "stdout",
     "output_type": "stream",
     "text": [
      "gender\n",
      "Female    13\n",
      "Male       7\n",
      "Name: count, dtype: int64\n"
     ]
    }
   ],
   "source": [
    "gender=df['gender'].value_counts()\n",
    "print(gender)"
   ]
  },
  {
   "cell_type": "code",
   "execution_count": 36,
   "metadata": {},
   "outputs": [
    {
     "data": {
      "text/plain": [
       "293.05"
      ]
     },
     "execution_count": 36,
     "metadata": {},
     "output_type": "execute_result"
    }
   ],
   "source": [
    "avg_sale=df['purchase_amount'].mean()\n",
    "avg_sale"
   ]
  },
  {
   "cell_type": "code",
   "execution_count": 37,
   "metadata": {},
   "outputs": [
    {
     "data": {
      "text/plain": [
       "5861"
      ]
     },
     "execution_count": 37,
     "metadata": {},
     "output_type": "execute_result"
    }
   ],
   "source": [
    "total_sale=df['purchase_amount'].sum()\n",
    "total_sale"
   ]
  },
  {
   "cell_type": "code",
   "execution_count": 43,
   "metadata": {},
   "outputs": [
    {
     "data": {
      "text/plain": [
       "<Axes: xlabel='product_category'>"
      ]
     },
     "execution_count": 43,
     "metadata": {},
     "output_type": "execute_result"
    },
    {
     "data": {
      "image/png": "[encoded data removed]",
      "text/plain": [
       "<Figure size 640x480 with 1 Axes>"
      ]
     },
     "metadata": {},
     "output_type": "display_data"
    }
   ],
   "source": [
    "product= df.groupby('product_category')['purchase_amount'].sum().sort_values(ascending=False)\n",
    "product.plot(kind='bar')"
   ]
  },
  {
   "cell_type": "code",
   "execution_count": 45,
   "metadata": {},
   "outputs": [
    {
     "data": {
      "text/plain": [
       "<Axes: xlabel='name'>"
      ]
     },
     "execution_count": 45,
     "metadata": {},
     "output_type": "execute_result"
    },
    {
     "data": {
      "image/png": "[encoded data removed]",
      "text/plain": [
       "<Figure size 640x480 with 1 Axes>"
      ]
     },
     "metadata": {},
     "output_type": "display_data"
    }
   ],
   "source": [
    "name = df.groupby('name')['purchase_amount'].mean().sort_values(ascending=False)\n",
    "name.plot(kind='bar')"
   ]
  },
  {
   "cell_type": "code",
   "execution_count": 47,
   "metadata": {},
   "outputs": [
    {
     "data": {
      "text/plain": [
       "<Axes: xlabel='purchase_date'>"
      ]
     },
     "execution_count": 47,
     "metadata": {},
     "output_type": "execute_result"
    },
    {
     "data": {
      "image/png": "[encoded data removed]",
      "text/plain": [
       "<Figure size 640x480 with 1 Axes>"
      ]
     },
     "metadata": {},
     "output_type": "display_data"
    }
   ],
   "source": [
    "name = df.groupby('purchase_date')['purchase_amount'].max().sort_values(ascending=False)\n",
    "name.plot(kind='bar')"
   ]
  },
  {
   "cell_type": "code",
   "execution_count": 48,
   "metadata": {},
   "outputs": [
    {
     "ename": "AttributeError",
     "evalue": "'Series' object has no attribute 'strptime'",
     "output_type": "error",
     "traceback": [
      "\u001b[1;31m---------------------------------------------------------------------------\u001b[0m",
      "\u001b[1;31mAttributeError\u001b[0m                            Traceback (most recent call last)",
      "\u001b[1;32m~\\AppData\\Local\\Temp\\ipykernel_10380\\1498889581.py\u001b[0m in \u001b[0;36m?\u001b[1;34m()\u001b[0m\n\u001b[1;32m----> 1\u001b[1;33m \u001b[0mdf\u001b[0m\u001b[1;33m[\u001b[0m\u001b[1;34m'week'\u001b[0m\u001b[1;33m]\u001b[0m\u001b[1;33m=\u001b[0m\u001b[0mdf\u001b[0m\u001b[1;33m[\u001b[0m\u001b[1;34m'purchase_date'\u001b[0m\u001b[1;33m]\u001b[0m\u001b[1;33m.\u001b[0m\u001b[0mstrptime\u001b[0m\u001b[1;33m(\u001b[0m\u001b[1;34m'%Y-%m-%d'\u001b[0m\u001b[1;33m)\u001b[0m\u001b[1;33m\u001b[0m\u001b[1;33m\u001b[0m\u001b[0m\n\u001b[0m",
      "\u001b[1;32mc:\\Users\\Venu Raj\\AppData\\Local\\Programs\\Python\\Python311\\Lib\\site-packages\\pandas\\core\\generic.py\u001b[0m in \u001b[0;36m?\u001b[1;34m(self, name)\u001b[0m\n\u001b[0;32m   6295\u001b[0m             \u001b[1;32mand\u001b[0m \u001b[0mname\u001b[0m \u001b[1;32mnot\u001b[0m \u001b[1;32min\u001b[0m \u001b[0mself\u001b[0m\u001b[1;33m.\u001b[0m\u001b[0m_accessors\u001b[0m\u001b[1;33m\u001b[0m\u001b[1;33m\u001b[0m\u001b[0m\n\u001b[0;32m   6296\u001b[0m             \u001b[1;32mand\u001b[0m \u001b[0mself\u001b[0m\u001b[1;33m.\u001b[0m\u001b[0m_info_axis\u001b[0m\u001b[1;33m.\u001b[0m\u001b[0m_can_hold_identifiers_and_holds_name\u001b[0m\u001b[1;33m(\u001b[0m\u001b[0mname\u001b[0m\u001b[1;33m)\u001b[0m\u001b[1;33m\u001b[0m\u001b[1;33m\u001b[0m\u001b[0m\n\u001b[0;32m   6297\u001b[0m         ):\n\u001b[0;32m   6298\u001b[0m             \u001b[1;32mreturn\u001b[0m \u001b[0mself\u001b[0m\u001b[1;33m[\u001b[0m\u001b[0mname\u001b[0m\u001b[1;33m]\u001b[0m\u001b[1;33m\u001b[0m\u001b[1;33m\u001b[0m\u001b[0m\n\u001b[1;32m-> 6299\u001b[1;33m         \u001b[1;32mreturn\u001b[0m \u001b[0mobject\u001b[0m\u001b[1;33m.\u001b[0m\u001b[0m__getattribute__\u001b[0m\u001b[1;33m(\u001b[0m\u001b[0mself\u001b[0m\u001b[1;33m,\u001b[0m \u001b[0mname\u001b[0m\u001b[1;33m)\u001b[0m\u001b[1;33m\u001b[0m\u001b[1;33m\u001b[0m\u001b[0m\n\u001b[0m",
      "\u001b[1;31mAttributeError\u001b[0m: 'Series' object has no attribute 'strptime'"
     ]
    }
   ],
   "source": []
  }
 ],
 "metadata": {
  "kernelspec": {
   "display_name": "Python 3",
   "language": "python",
   "name": "python3"
  },
  "language_info": {
   "codemirror_mode": {
    "name": "ipython",
    "version": 3
   },
   "file_extension": ".py",
   "mimetype": "text/x-python",
   "name": "python",
   "nbconvert_exporter": "python",
   "pygments_lexer": "ipython3",
   "version": "3.11.3"
  }
 },
 "nbformat": 4,
 "nbformat_minor": 2
}
