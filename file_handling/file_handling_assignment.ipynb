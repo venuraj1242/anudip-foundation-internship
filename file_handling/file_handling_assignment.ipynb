{
 "cells": [
  {
   "cell_type": "markdown",
   "metadata": {},
   "source": [
    "Assignment of File Handling"
   ]
  },
  {
   "cell_type": "markdown",
   "metadata": {},
   "source": [
    "\n",
    "1. program to count occurrence of the word \"India\" in the text file india.txt\n"
   ]
  },
  {
   "cell_type": "code",
   "execution_count": 7,
   "metadata": {},
   "outputs": [
    {
     "name": "stdout",
     "output_type": "stream",
     "text": [
      "5\n"
     ]
    }
   ],
   "source": [
    "# Write content to the file\n",
    "file = open(\"india.txt\", 'w')\n",
    "file.write(\"INDIA INDIA INDIA INDIA hello sarthak\\n INDIA hello\")\n",
    "file.close()\n",
    "\n",
    "# Open the file in read mode\n",
    "file = open(\"india.txt\", 'r')\n",
    "\n",
    "# Read the content of the file\n",
    "content = file.read()\n",
    "\n",
    "# Split the content into words\n",
    "words = content.split()\n",
    "\n",
    "# Initialize the counter for the word \"INDIA\"\n",
    "count = 0\n",
    "\n",
    "# Iterate through the words and count occurrences of \"INDIA\"\n",
    "for word in words:\n",
    "    if word == \"INDIA\":\n",
    "        count += 1\n",
    "\n",
    "# Print the count\n",
    "print(count)\n",
    "\n",
    "# Close the file\n",
    "file.close()\n"
   ]
  },
  {
   "cell_type": "markdown",
   "metadata": {},
   "source": [
    "2- to count and display the lines starting with \"T\" in text file story.txt.\n"
   ]
  },
  {
   "cell_type": "code",
   "execution_count": 8,
   "metadata": {},
   "outputs": [
    {
     "name": "stdout",
     "output_type": "stream",
     "text": [
      "The quick brown fox jumps over the lazy dog. \n",
      "Technology is advancing at an unprecedented pace.\n",
      "Tomorrow, we will explore more advanced topics.\n",
      "Taking small steps every day leads to big achievements.\n",
      "Number of lines starting with 'T': 4\n"
     ]
    }
   ],
   "source": [
    "# Write content to the file\n",
    "file = open(\"story.txt\", 'w')\n",
    "file.write(\"The quick brown fox jumps over the lazy dog. \\n\")\n",
    "file.write(\"INDIA is a diverse country with rich cultural heritage.\\n\")\n",
    "file.write(\"Technology is advancing at an unprecedented pace.\\n\")\n",
    "file.write(\"Hello sarthak, welcome to the python class.\\n\")\n",
    "file.write(\"Tomorrow, we will explore more advanced topics.\\n\")\n",
    "file.write(\"Taking small steps every day leads to big achievements.\\n\")\n",
    "file.close()\n",
    "\n",
    "# Open the file in read mode\n",
    "file = open(\"story.txt\", 'r')\n",
    "\n",
    "# Read the content of the file\n",
    "count = 0\n",
    "content = file.readlines()\n",
    "\n",
    "# Iterate over each line in the file content\n",
    "for line in content:\n",
    "    if line[0] == 'T':\n",
    "        print(line, end='')  # Print the line that starts with 'T'\n",
    "        count += 1\n",
    "\n",
    "# Print the count of lines starting with 'T'\n",
    "print(\"Number of lines starting with 'T':\", count)\n",
    "\n",
    "# Close the file\n",
    "file.close()\n"
   ]
  },
  {
   "cell_type": "markdown",
   "metadata": {},
   "source": [
    " 3- to count number of vowels and consonants\n"
   ]
  },
  {
   "cell_type": "code",
   "execution_count": 9,
   "metadata": {},
   "outputs": [
    {
     "name": "stdout",
     "output_type": "stream",
     "text": [
      "Number of vowels: 88\n",
      "Number of consonants: 155\n"
     ]
    }
   ],
   "source": [
    "# Write content to the file\n",
    "file = open(\"Myfile.txt\", 'w')\n",
    "file.write(\"The quick brown fox jumps over the lazy dog. \\n\")\n",
    "file.write(\"INDIA is a diverse country with rich cultural heritage.\\n\")\n",
    "file.write(\"Technology is advancing at an unprecedented pace.\\n\")\n",
    "file.write(\"Hello sarthak, welcome to the python class.\\n\")\n",
    "file.write(\"Tomorrow, we will explore more advanced topics.\\n\")\n",
    "file.write(\"Taking small steps every day leads to big achievements.\\n\")\n",
    "file.close()\n",
    "\n",
    "# Open the file in read mode\n",
    "file = open('Myfile.txt', 'r')\n",
    "\n",
    "# Read the content of the file\n",
    "data = file.read()\n",
    "\n",
    "# Initialize counters for vowels and consonants\n",
    "count_V, count_C = 0, 0\n",
    "\n",
    "# Iterate over each character in the file content\n",
    "for char in data:\n",
    "    if char.lower() in \"aeiou\":\n",
    "        count_V += 1\n",
    "    elif char.lower() in \"bcdfghjklmnpqrstvwxyz\":\n",
    "        count_C += 1\n",
    "\n",
    "# Print the counts\n",
    "print(\"Number of vowels:\", count_V)\n",
    "print(\"Number of consonants:\", count_C)\n",
    "\n",
    "# Close the file\n",
    "file.close()\n"
   ]
  },
  {
   "cell_type": "markdown",
   "metadata": {},
   "source": [
    "4- to count the number of words starting with \"i\" in a file Word.txt\n"
   ]
  },
  {
   "cell_type": "code",
   "execution_count": 10,
   "metadata": {},
   "outputs": [
    {
     "name": "stdout",
     "output_type": "stream",
     "text": [
      "INDIA\n",
      "is\n",
      "is\n",
      "Number of words starting with 'i': 3\n"
     ]
    }
   ],
   "source": [
    "# Write content to the file\n",
    "file = open(\"file.txt\", 'w')\n",
    "file.write(\"The quick brown fox jumps over the lazy dog. \\n\")\n",
    "file.write(\"INDIA is a diverse country with rich cultural heritage.\\n\")\n",
    "file.write(\"Technology is advancing at an unprecedented pace.\\n\")\n",
    "file.write(\"Hello sarthak dwivedi, welcome to the python class.\\n\")\n",
    "file.write(\"Tomorrow, we will explore more advanced topics.\\n\")\n",
    "file.write(\"Taking small steps every day leads to big achievements.\\n\")\n",
    "file.close()\n",
    "\n",
    "# Open the file in read mode\n",
    "file = open('file.txt', 'r')\n",
    "\n",
    "# Read the content of the file\n",
    "data = file.read()\n",
    "\n",
    "# Split the content into words\n",
    "words = data.split()\n",
    "\n",
    "# Initialize the counter for words starting with 'i'\n",
    "count_i = 0\n",
    "\n",
    "# Iterate over the words and count those starting with 'i'\n",
    "for word in words:\n",
    "    if word[0].lower() == 'i':\n",
    "        count_i += 1\n",
    "        print(word)\n",
    "\n",
    "# Print the count\n",
    "print(\"Number of words starting with 'i':\", count_i)\n",
    "\n",
    "# Close the file\n",
    "file.close()\n"
   ]
  },
  {
   "cell_type": "markdown",
   "metadata": {},
   "source": [
    "5- to display the lines having more than 5 words in a text file Notes.txt\n"
   ]
  },
  {
   "cell_type": "code",
   "execution_count": 11,
   "metadata": {},
   "outputs": [
    {
     "name": "stdout",
     "output_type": "stream",
     "text": [
      "The quick brown fox jumps over the lazy dog.\n",
      "INDIA is a diverse country with rich cultural heritage.\n",
      "Technology is advancing at an unprecedented pace.\n",
      "Tomorrow, we will explore more advanced topics.\n",
      "Taking small steps every day leads to big achievements.\n"
     ]
    }
   ],
   "source": [
    "# Write content to the file\n",
    "file = open(\"notes.txt\", 'w')\n",
    "file.write(\"The quick brown fox jumps over the lazy dog. \\n\")\n",
    "file.write(\"INDIA is a diverse country with rich cultural heritage.\\n\")\n",
    "file.write(\"Technology is advancing at an unprecedented pace.\\n\")\n",
    "file.write(\"Hello sarthak.\\n\")\n",
    "file.write(\"Tomorrow, we will explore more advanced topics.\\n\")\n",
    "file.write(\"Taking small steps every day leads to big achievements.\\n\")\n",
    "file.close()\n",
    "\n",
    "# Open the file in read mode\n",
    "file = open('notes.txt', 'r')\n",
    "\n",
    "# Read the content of the file\n",
    "data = file.readlines()\n",
    "\n",
    "# Iterate over each line in the file content\n",
    "for line in data:\n",
    "    # Split the line into words and check if it has more than 5 words\n",
    "    if len(line.split()) > 5:\n",
    "        print(line.strip())\n",
    "\n",
    "# Close the file\n",
    "file.close()\n"
   ]
  },
  {
   "cell_type": "markdown",
   "metadata": {},
   "source": [
    "6- to create a binary file \"Stu.dat\" and enter student's rollno,name,marks till the user wants\n"
   ]
  },
  {
   "cell_type": "code",
   "execution_count": 12,
   "metadata": {},
   "outputs": [
    {
     "name": "stdout",
     "output_type": "stream",
     "text": [
      "Roll No: 101\n",
      "Name: venu\n",
      "Marks: 68\n",
      "\n",
      "Roll No: 102\n",
      "Name: raj\n",
      "Marks: 89\n",
      "\n",
      "Roll No: 103\n",
      "Name: hello\n",
      "Marks: 98\n",
      "\n"
     ]
    }
   ],
   "source": [
    "import pickle as p\n",
    "\n",
    "# Get the number of students to input\n",
    "num_students = int(input(\"Enter the number of students: \"))\n",
    "students = []\n",
    "# Loop through each student\n",
    "for i in range(num_students):\n",
    "    # Collect student information\n",
    "    roll_no = input(\"Enter student's roll number: \")\n",
    "    name = input(\"Enter student's name: \")\n",
    "    marks = input(\"Enter student's marks: \")\n",
    "\n",
    "    # Create a dictionary to store the student's information\n",
    "    student = {\"roll_no\": roll_no, \"name\": name, \"marks\": marks}\n",
    "\n",
    "    # Add the student record to the list\n",
    "    students.append(student)\n",
    "# Open the file in binary write mode\n",
    "with open(\"Stu.dat\", \"wb\") as file:\n",
    "    # Dump the student list to the file\n",
    "    p.dump(students, file)\n",
    "\n",
    "# Open the file in binary read mode\n",
    "with open(\"Stu.dat\", \"rb\") as file:\n",
    "    # Load the student list from the file\n",
    "    loaded_students = p.load(file)\n",
    "\n",
    "    # Print the loaded students\n",
    "    for student in loaded_students:\n",
    "        print(\"Roll No:\", student[\"roll_no\"])\n",
    "        print(\"Name:\", student[\"name\"])\n",
    "        print(\"Marks:\", student[\"marks\"])\n",
    "        print()"
   ]
  },
  {
   "cell_type": "markdown",
   "metadata": {},
   "source": [
    "7-read binary file \"Stu.dat\" and print those students who have marks>81\n"
   ]
  },
  {
   "cell_type": "code",
   "execution_count": 13,
   "metadata": {},
   "outputs": [
    {
     "name": "stdout",
     "output_type": "stream",
     "text": [
      "{'roll_no': '102', 'name': 'raj', 'marks': '89'}\n",
      "{'roll_no': '103', 'name': 'hello', 'marks': '98'}\n"
     ]
    }
   ],
   "source": [
    "import pickle as p\n",
    "f= open(\"Stu.dat\",\"rb\")\n",
    "data=p.load(f)\n",
    "for i in data:\n",
    "    if int(i[\"marks\"])>81:\n",
    "        print(i)\n",
    "f.close()"
   ]
  }
 ],
 "metadata": {
  "kernelspec": {
   "display_name": "Python 3",
   "language": "python",
   "name": "python3"
  },
  "language_info": {
   "codemirror_mode": {
    "name": "ipython",
    "version": 3
   },
   "file_extension": ".py",
   "mimetype": "text/x-python",
   "name": "python",
   "nbconvert_exporter": "python",
   "pygments_lexer": "ipython3",
   "version": "3.11.3"
  }
 },
 "nbformat": 4,
 "nbformat_minor": 2
}
