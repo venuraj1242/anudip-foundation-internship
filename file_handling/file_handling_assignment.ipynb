{
 "cells": [
  {
   "cell_type": "markdown",
   "metadata": {},
   "source": [
    "Assignment of File Handling"
   ]
  },
  {
   "cell_type": "markdown",
   "metadata": {},
   "source": [
    "\n",
    "1. program to count occurrence of the word \"India\" in the text file india.txt\n"
   ]
  },
  {
   "cell_type": "code",
   "execution_count": 7,
   "metadata": {},
   "outputs": [
    {
     "name": "stdout",
     "output_type": "stream",
     "text": [
      "5\n"
     ]
    }
   ],
   "source": [
    "# Write content to the file\n",
    "file = open(\"india.txt\", 'w')\n",
    "file.write(\"INDIA INDIA INDIA INDIA hello sarthak\\n INDIA hello\")\n",
    "file.close()\n",
    "\n",
    "# Open the file in read mode\n",
    "file = open(\"india.txt\", 'r')\n",
    "\n",
    "# Read the content of the file\n",
    "content = file.read()\n",
    "\n",
    "# Split the content into words\n",
    "words = content.split()\n",
    "\n",
    "# Initialize the counter for the word \"INDIA\"\n",
    "count = 0\n",
    "\n",
    "# Iterate through the words and count occurrences of \"INDIA\"\n",
    "for word in words:\n",
    "    if word == \"INDIA\":\n",
    "        count += 1\n",
    "\n",
    "# Print the count\n",
    "print(count)\n",
    "\n",
    "# Close the file\n",
    "file.close()\n"
   ]
  },
  {
   "cell_type": "markdown",
   "metadata": {},
   "source": [
    "2- to count and display the lines starting with \"T\" in text file story.txt.\n"
   ]
  },
  {
   "cell_type": "code",
   "execution_count": 8,
   "metadata": {},
   "outputs": [
    {
     "name": "stdout",
     "output_type": "stream",
     "text": [
      "The quick brown fox jumps over the lazy dog. \n",
      "Technology is advancing at an unprecedented pace.\n",
      "Tomorrow, we will explore more advanced topics.\n",
      "Taking small steps every day leads to big achievements.\n",
      "Number of lines starting with 'T': 4\n"
     ]
    }
   ],
   "source": [
    "# Write content to the file\n",
    "file = open(\"story.txt\", 'w')\n",
    "file.write(\"The quick brown fox jumps over the lazy dog. \\n\")\n",
    "file.write(\"INDIA is a diverse country with rich cultural heritage.\\n\")\n",
    "file.write(\"Technology is advancing at an unprecedented pace.\\n\")\n",
    "file.write(\"Hello sarthak, welcome to the python class.\\n\")\n",
    "file.write(\"Tomorrow, we will explore more advanced topics.\\n\")\n",
    "file.write(\"Taking small steps every day leads to big achievements.\\n\")\n",
    "file.close()\n",
    "\n",
    "# Open the file in read mode\n",
    "file = open(\"story.txt\", 'r')\n",
    "\n",
    "# Read the content of the file\n",
    "count = 0\n",
    "content = file.readlines()\n",
    "\n",
    "# Iterate over each line in the file content\n",
    "for line in content:\n",
    "    if line[0] == 'T':\n",
    "        print(line, end='')  # Print the line that starts with 'T'\n",
    "        count += 1\n",
    "\n",
    "# Print the count of lines starting with 'T'\n",
    "print(\"Number of lines starting with 'T':\", count)\n",
    "\n",
    "# Close the file\n",
    "file.close()\n"
   ]
  },
  {
   "cell_type": "markdown",
   "metadata": {},
   "source": [
    " 3- to count number of vowels and consonants\n"
   ]
  },
  {
   "cell_type": "code",
   "execution_count": 9,
   "metadata": {},
   "outputs": [
    {
     "name": "stdout",
     "output_type": "stream",
     "text": [
      "Number of vowels: 88\n",
      "Number of consonants: 155\n"
     ]
    }
   ],
   "source": [
    "# Write content to the file\n",
    "file = open(\"Myfile.txt\", 'w')\n",
    "file.write(\"The quick brown fox jumps over the lazy dog. \\n\")\n",
    "file.write(\"INDIA is a diverse country with rich cultural heritage.\\n\")\n",
    "file.write(\"Technology is advancing at an unprecedented pace.\\n\")\n",
    "file.write(\"Hello sarthak, welcome to the python class.\\n\")\n",
    "file.write(\"Tomorrow, we will explore more advanced topics.\\n\")\n",
    "file.write(\"Taking small steps every day leads to big achievements.\\n\")\n",
    "file.close()\n",
    "\n",
    "# Open the file in read mode\n",
    "file = open('Myfile.txt', 'r')\n",
    "\n",
    "# Read the content of the file\n",
    "data = file.read()\n",
    "\n",
    "# Initialize counters for vowels and consonants\n",
    "count_V, count_C = 0, 0\n",
    "\n",
    "# Iterate over each character in the file content\n",
    "for char in data:\n",
    "    if char.lower() in \"aeiou\":\n",
    "        count_V += 1\n",
    "    elif char.lower() in \"bcdfghjklmnpqrstvwxyz\":\n",
    "        count_C += 1\n",
    "\n",
    "# Print the counts\n",
    "print(\"Number of vowels:\", count_V)\n",
    "print(\"Number of consonants:\", count_C)\n",
    "\n",
    "# Close the file\n",
    "file.close()\n"
   ]
  },
  {
   "cell_type": "markdown",
   "metadata": {},
   "source": [
    "4- to count the number of words starting with \"i\" in a file Word.txt\n"
   ]
  },
  {
   "cell_type": "code",
   "execution_count": 10,
   "metadata": {},
   "outputs": [
    {
     "name": "stdout",
     "output_type": "stream",
     "text": [
      "INDIA\n",
      "is\n",
      "is\n",
      "Number of words starting with 'i': 3\n"
     ]
    }
   ],
   "source": [
    "# Write content to the file\n",
    "file = open(\"file.txt\", 'w')\n",
    "file.write(\"The quick brown fox jumps over the lazy dog. \\n\")\n",
    "file.write(\"INDIA is a diverse country with rich cultural heritage.\\n\")\n",
    "file.write(\"Technology is advancing at an unprecedented pace.\\n\")\n",
    "file.write(\"Hello sarthak dwivedi, welcome to the python class.\\n\")\n",
    "file.write(\"Tomorrow, we will explore more advanced topics.\\n\")\n",
    "file.write(\"Taking small steps every day leads to big achievements.\\n\")\n",
    "file.close()\n",
    "\n",
    "# Open the file in read mode\n",
    "file = open('file.txt', 'r')\n",
    "\n",
    "# Read the content of the file\n",
    "data = file.read()\n",
    "\n",
    "# Split the content into words\n",
    "words = data.split()\n",
    "\n",
    "# Initialize the counter for words starting with 'i'\n",
    "count_i = 0\n",
    "\n",
    "# Iterate over the words and count those starting with 'i'\n",
    "for word in words:\n",
    "    if word[0].lower() == 'i':\n",
    "        count_i += 1\n",
    "        print(word)\n",
    "\n",
    "# Print the count\n",
    "print(\"Number of words starting with 'i':\", count_i)\n",
    "\n",
    "# Close the file\n",
    "file.close()\n"
   ]
  },
  {
   "cell_type": "markdown",
   "metadata": {},
   "source": [
    "5- to display the lines having more than 5 words in a text file Notes.txt\n"
   ]
  },
  {
   "cell_type": "code",
   "execution_count": 11,
   "metadata": {},
   "outputs": [
    {
     "name": "stdout",
     "output_type": "stream",
     "text": [
      "The quick brown fox jumps over the lazy dog.\n",
      "INDIA is a diverse country with rich cultural heritage.\n",
      "Technology is advancing at an unprecedented pace.\n",
      "Tomorrow, we will explore more advanced topics.\n",
      "Taking small steps every day leads to big achievements.\n"
     ]
    }
   ],
   "source": [
    "# Write content to the file\n",
    "file = open(\"notes.txt\", 'w')\n",
    "file.write(\"The quick brown fox jumps over the lazy dog. \\n\")\n",
    "file.write(\"INDIA is a diverse country with rich cultural heritage.\\n\")\n",
    "file.write(\"Technology is advancing at an unprecedented pace.\\n\")\n",
    "file.write(\"Hello sarthak.\\n\")\n",
    "file.write(\"Tomorrow, we will explore more advanced topics.\\n\")\n",
    "file.write(\"Taking small steps every day leads to big achievements.\\n\")\n",
    "file.close()\n",
    "\n",
    "# Open the file in read mode\n",
    "file = open('notes.txt', 'r')\n",
    "\n",
    "# Read the content of the file\n",
    "data = file.readlines()\n",
    "\n",
    "# Iterate over each line in the file content\n",
    "for line in data:\n",
    "    # Split the line into words and check if it has more than 5 words\n",
    "    if len(line.split()) > 5:\n",
    "        print(line.strip())\n",
    "\n",
    "# Close the file\n",
    "file.close()\n"
   ]
  },
  {
   "cell_type": "markdown",
   "metadata": {},
   "source": [
    "6- to create a binary file \"Stu.dat\" and enter student's rollno,name,marks till the user wants\n"
   ]
  },
  {
   "cell_type": "code",
   "execution_count": 12,
   "metadata": {},
   "outputs": [
    {
     "name": "stdout",
     "output_type": "stream",
     "text": [
      "Roll No: 101\n",
      "Name: venu\n",
      "Marks: 35\n",
      "\n"
     ]
    }
   ],
   "source": [
    "import pickle as p\n",
    "\n",
    "# Get the number of students to input\n",
    "num_students = int(input(\"Enter the number of students: \"))\n",
    "students = []\n",
    "# Loop through each student\n",
    "for i in range(num_students):\n",
    "    # Collect student information\n",
    "    roll_no = input(\"Enter student's roll number: \")\n",
    "    name = input(\"Enter student's name: \")\n",
    "    marks = input(\"Enter student's marks: \")\n",
    "\n",
    "    # Create a dictionary to store the student's information\n",
    "    student = {\"roll_no\": roll_no, \"name\": name, \"marks\": marks}\n",
    "\n",
    "    # Add the student record to the list\n",
    "    students.append(student)\n",
    "# Open the file in binary write mode\n",
    "with open(\"Stu.dat\", \"wb\") as file:\n",
    "    # Dump the student list to the file\n",
    "    p.dump(students, file)\n",
    "\n",
    "# Open the file in binary read mode\n",
    "with open(\"Stu.dat\", \"rb\") as file:\n",
    "    # Load the student list from the file\n",
    "    loaded_students = p.load(file)\n",
    "\n",
    "    # Print the loaded students\n",
    "    for student in loaded_students:\n",
    "        print(\"Roll No:\", student[\"roll_no\"])\n",
    "        print(\"Name:\", student[\"name\"])\n",
    "        print(\"Marks:\", student[\"marks\"])\n",
    "        print()"
   ]
  },
  {
   "cell_type": "markdown",
   "metadata": {},
   "source": [
    "7-read binary file \"Stu.dat\" and print those students who have marks>81\n"
   ]
  },
  {
   "cell_type": "code",
   "execution_count": 8,
   "metadata": {},
   "outputs": [
    {
     "ename": "OSError",
     "evalue": "[Errno 22] Invalid argument: 'D:\\\\intership\\x0cile_handling\\\\Stu.dat'",
     "output_type": "error",
     "traceback": [
      "\u001b[1;31m---------------------------------------------------------------------------\u001b[0m",
      "\u001b[1;31mOSError\u001b[0m                                   Traceback (most recent call last)",
      "Cell \u001b[1;32mIn[8], line 2\u001b[0m\n\u001b[0;32m      1\u001b[0m \u001b[38;5;28;01mimport\u001b[39;00m \u001b[38;5;21;01mpickle\u001b[39;00m \u001b[38;5;28;01mas\u001b[39;00m \u001b[38;5;21;01mp\u001b[39;00m\n\u001b[1;32m----> 2\u001b[0m f\u001b[38;5;241m=\u001b[39m \u001b[38;5;28;43mopen\u001b[39;49m\u001b[43m(\u001b[49m\u001b[38;5;124;43m\"\u001b[39;49m\u001b[38;5;124;43mD:\u001b[39;49m\u001b[38;5;124;43m\\\u001b[39;49m\u001b[38;5;124;43mintership\u001b[39;49m\u001b[38;5;130;43;01m\\f\u001b[39;49;00m\u001b[38;5;124;43mile_handling\u001b[39;49m\u001b[38;5;124;43m\\\u001b[39;49m\u001b[38;5;124;43mStu.dat\u001b[39;49m\u001b[38;5;124;43m\"\u001b[39;49m\u001b[43m,\u001b[49m\u001b[38;5;124;43m\"\u001b[39;49m\u001b[38;5;124;43mrb\u001b[39;49m\u001b[38;5;124;43m\"\u001b[39;49m\u001b[43m)\u001b[49m\n\u001b[0;32m      3\u001b[0m data\u001b[38;5;241m=\u001b[39mp\u001b[38;5;241m.\u001b[39mload(f)\n\u001b[0;32m      4\u001b[0m \u001b[38;5;28;01mfor\u001b[39;00m i \u001b[38;5;129;01min\u001b[39;00m data:\n",
      "File \u001b[1;32mc:\\Users\\Venu Raj\\AppData\\Local\\Programs\\Python\\Python311\\Lib\\site-packages\\IPython\\core\\interactiveshell.py:286\u001b[0m, in \u001b[0;36m_modified_open\u001b[1;34m(file, *args, **kwargs)\u001b[0m\n\u001b[0;32m    279\u001b[0m \u001b[38;5;28;01mif\u001b[39;00m file \u001b[38;5;129;01min\u001b[39;00m {\u001b[38;5;241m0\u001b[39m, \u001b[38;5;241m1\u001b[39m, \u001b[38;5;241m2\u001b[39m}:\n\u001b[0;32m    280\u001b[0m     \u001b[38;5;28;01mraise\u001b[39;00m \u001b[38;5;167;01mValueError\u001b[39;00m(\n\u001b[0;32m    281\u001b[0m         \u001b[38;5;124mf\u001b[39m\u001b[38;5;124m\"\u001b[39m\u001b[38;5;124mIPython won\u001b[39m\u001b[38;5;124m'\u001b[39m\u001b[38;5;124mt let you open fd=\u001b[39m\u001b[38;5;132;01m{\u001b[39;00mfile\u001b[38;5;132;01m}\u001b[39;00m\u001b[38;5;124m by default \u001b[39m\u001b[38;5;124m\"\u001b[39m\n\u001b[0;32m    282\u001b[0m         \u001b[38;5;124m\"\u001b[39m\u001b[38;5;124mas it is likely to crash IPython. If you know what you are doing, \u001b[39m\u001b[38;5;124m\"\u001b[39m\n\u001b[0;32m    283\u001b[0m         \u001b[38;5;124m\"\u001b[39m\u001b[38;5;124myou can use builtins\u001b[39m\u001b[38;5;124m'\u001b[39m\u001b[38;5;124m open.\u001b[39m\u001b[38;5;124m\"\u001b[39m\n\u001b[0;32m    284\u001b[0m     )\n\u001b[1;32m--> 286\u001b[0m \u001b[38;5;28;01mreturn\u001b[39;00m \u001b[43mio_open\u001b[49m\u001b[43m(\u001b[49m\u001b[43mfile\u001b[49m\u001b[43m,\u001b[49m\u001b[43m \u001b[49m\u001b[38;5;241;43m*\u001b[39;49m\u001b[43margs\u001b[49m\u001b[43m,\u001b[49m\u001b[43m \u001b[49m\u001b[38;5;241;43m*\u001b[39;49m\u001b[38;5;241;43m*\u001b[39;49m\u001b[43mkwargs\u001b[49m\u001b[43m)\u001b[49m\n",
      "\u001b[1;31mOSError\u001b[0m: [Errno 22] Invalid argument: 'D:\\\\intership\\x0cile_handling\\\\Stu.dat'"
     ]
    }
   ],
   "source": [
    "import pickle as p\n",
    "f= open(\"D:\\intership\\file_handling\\Stu.dat\",\"rb\")\n",
    "data=p.load(f)\n",
    "for i in data:\n",
    "    if int(i[2])>81:\n",
    "        print(i)\n",
    "f.close()"
   ]
  }
 ],
 "metadata": {
  "kernelspec": {
   "display_name": "Python 3",
   "language": "python",
   "name": "python3"
  },
  "language_info": {
   "codemirror_mode": {
    "name": "ipython",
    "version": 3
   },
   "file_extension": ".py",
   "mimetype": "text/x-python",
   "name": "python",
   "nbconvert_exporter": "python",
   "pygments_lexer": "ipython3",
   "version": "3.11.3"
  }
 },
 "nbformat": 4,
 "nbformat_minor": 2
}
