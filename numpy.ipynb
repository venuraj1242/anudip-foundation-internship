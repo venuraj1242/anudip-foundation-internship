{
 "cells": [
  {
   "cell_type": "markdown",
   "metadata": {},
   "source": [
    "1. What is Numpy\n",
    "NumPy, which stands for \"Numerical Python,\" is a popular Python library for numerical and scientific computing. It provides support for working with large, multi-dimensional arrays and matrices of data, along with a collection of mathematical functions to operate on these arrays.\n",
    "NumPy is a fundamental library for data manipulation and analysis in Python and is widely used in various fields such as data science, machine learning, scientific research, and engineering.\n",
    "Here are some key features and aspects of NumPy:\n",
    "* Multi-dimensional Arrays: NumPy's core data structure is the ndarray (short for n-dimensional array). It allows you to create arrays of various dimensions, including 1D, 2D, and higher-dimensional arrays. I\n",
    "* Efficient and Fast: NumPy is implemented in C and optimized for performance, making it much faster than standard Python lists when performing array operations. This efficiency is crucial for handling large datasets and complex mathematical computations.\n"
   ]
  },
  {
   "cell_type": "code",
   "execution_count": 2,
   "metadata": {},
   "outputs": [
    {
     "name": "stdout",
     "output_type": "stream",
     "text": [
      "[34]\n",
      "[10 30 25 43 21]\n",
      "[[10 30 25 43 21]\n",
      " [10 30 25 43 21]]\n",
      "[[10 30 25 43 21]\n",
      " [10 30 25 43 21]\n",
      " [10 30 25 43 21]]\n"
     ]
    }
   ],
   "source": [
    "import numpy as np\n",
    "a=np.array([34])\n",
    "b=np.array([10,30,25,43,21])\n",
    "c=np.array([[10,30,25,43,21],[10,30,25,43,21]])\n",
    "d=np.array([[10,30,25,43,21],[10,30,25,43,21],[10,30,25,43,21]])\n",
    "\n",
    "print(a)\n",
    "print(b)\n",
    "print(c)\n",
    "print(d)"
   ]
  },
  {
   "cell_type": "code",
   "execution_count": 3,
   "metadata": {},
   "outputs": [
    {
     "name": "stdout",
     "output_type": "stream",
     "text": [
      "34\n",
      "[10 30 25 43 21]\n",
      "[[10 30 25 43 21]\n",
      " [10 30 25 43 21]]\n",
      "[[10 30 25 43 21]\n",
      " [10 30 25 43 21]\n",
      " [10 30 25 43 21]]\n",
      "\n",
      "a: 0\n",
      "b: 1\n",
      "c: 2\n",
      "d: 2\n"
     ]
    }
   ],
   "source": [
    "import numpy as np\n",
    "a=np.array(34)\n",
    "b=np.array([10,30,25,43,21])\n",
    "c=np.array([[10,30,25,43,21],[10,30,25,43,21]])\n",
    "d = np.array([[10, 30, 25, 43, 21], [10, 30, 25, 43, 21], [10, 30, 25, 43, 21]])\n",
    "print(a)\n",
    "print(b)\n",
    "print(c)\n",
    "print(d)\n",
    "print()\n",
    "print(\"a:\",a.ndim)\n",
    "print(\"b:\",b.ndim)\n",
    "print(\"c:\",c.ndim)\n",
    "print(\"d:\",d.ndim)\n",
    "\n",
    "\n"
   ]
  },
  {
   "cell_type": "markdown",
   "metadata": {},
   "source": [
    "1. d array - vector\n",
    "2. d array - matrix\n",
    "3. d array - tensor"
   ]
  },
  {
   "cell_type": "code",
   "execution_count": 4,
   "metadata": {},
   "outputs": [
    {
     "name": "stdout",
     "output_type": "stream",
     "text": [
      "2\n"
     ]
    }
   ],
   "source": [
    "# index \n",
    "arr = np.array ([20,22,23,2,2])\n",
    "print(arr[3])"
   ]
  },
  {
   "cell_type": "code",
   "execution_count": 5,
   "metadata": {},
   "outputs": [
    {
     "name": "stdout",
     "output_type": "stream",
     "text": [
      "[20 23  2]\n"
     ]
    }
   ],
   "source": [
    "# sciling\n",
    "arr = np.array ([20,22,23,25,2])\n",
    "print(arr[0:5:2])"
   ]
  },
  {
   "cell_type": "markdown",
   "metadata": {},
   "source": [
    "### numpy\n",
    "string\n",
    "integer\n",
    "float\n",
    "boolean\n",
    "\n",
    "view~the view own the data and any change made to the view will affect the original array and any chnages made to the original array will be effect\n",
    "copy ~ is used copy the array"
   ]
  },
  {
   "cell_type": "code",
   "execution_count": 6,
   "metadata": {},
   "outputs": [
    {
     "name": "stdout",
     "output_type": "stream",
     "text": [
      "[20 22 23 25  2]\n",
      "[22 23 25  2]\n",
      "[ 20  22  23 100   2]\n",
      "[ 22  23 100   2]\n"
     ]
    }
   ],
   "source": [
    "arr = np.array ([20,22,23,25,2])\n",
    "sarr=arr[1:5]\n",
    "print(arr)\n",
    "print(sarr)\n",
    "sarr[2]=100\n",
    "print(arr)\n",
    "print(sarr)"
   ]
  },
  {
   "cell_type": "code",
   "execution_count": 7,
   "metadata": {},
   "outputs": [
    {
     "name": "stdout",
     "output_type": "stream",
     "text": [
      "[42  2  3  4  5]\n",
      "[1 2 3 4 5]\n"
     ]
    }
   ],
   "source": [
    "#copy()\n",
    "arr=np.array([1,2,3,4,5])\n",
    "arr2=arr.copy()\n",
    "arr[0]=42\n",
    "print(arr)\n",
    "print(arr2)\n"
   ]
  },
  {
   "cell_type": "code",
   "execution_count": 8,
   "metadata": {},
   "outputs": [
    {
     "name": "stdout",
     "output_type": "stream",
     "text": [
      "[42  2  3  4  5]\n",
      "[42  2  3  4  5]\n"
     ]
    }
   ],
   "source": [
    "#view()\n",
    "arr=np.array([1,2,3,4,5])\n",
    "arr2=arr.view()\n",
    "arr[0]=42\n",
    "print(arr)\n",
    "print(arr2)"
   ]
  },
  {
   "cell_type": "markdown",
   "metadata": {},
   "source": [
    "# zeros"
   ]
  },
  {
   "cell_type": "code",
   "execution_count": 9,
   "metadata": {},
   "outputs": [
    {
     "name": "stdout",
     "output_type": "stream",
     "text": [
      "[[0. 0.]\n",
      " [0. 0.]\n",
      " [0. 0.]\n",
      " [0. 0.]\n",
      " [0. 0.]\n",
      " [0. 0.]]\n"
     ]
    }
   ],
   "source": [
    "a=np.zeros((6,2))\n",
    "print(a)"
   ]
  },
  {
   "cell_type": "code",
   "execution_count": 10,
   "metadata": {},
   "outputs": [
    {
     "name": "stdout",
     "output_type": "stream",
     "text": [
      "[0 0 0 0 0 0]\n"
     ]
    }
   ],
   "source": [
    "a=np.zeros((6,), dtype=int)\n",
    "print(a)"
   ]
  },
  {
   "cell_type": "code",
   "execution_count": 11,
   "metadata": {},
   "outputs": [
    {
     "name": "stdout",
     "output_type": "stream",
     "text": [
      "[0. 0. 0. 0. 0. 0.]\n"
     ]
    }
   ],
   "source": [
    "a=np.zeros(6)\n",
    "print(a)"
   ]
  },
  {
   "cell_type": "markdown",
   "metadata": {},
   "source": [
    "### ones()"
   ]
  },
  {
   "cell_type": "code",
   "execution_count": 12,
   "metadata": {},
   "outputs": [
    {
     "name": "stdout",
     "output_type": "stream",
     "text": [
      "[[5. 5.]\n",
      " [5. 5.]\n",
      " [5. 5.]\n",
      " [5. 5.]\n",
      " [5. 5.]\n",
      " [5. 5.]]\n"
     ]
    }
   ],
   "source": [
    "a=np.ones((6,2))*5\n",
    "print(a)"
   ]
  },
  {
   "cell_type": "code",
   "execution_count": 13,
   "metadata": {},
   "outputs": [
    {
     "name": "stdout",
     "output_type": "stream",
     "text": [
      "[[1. 0. 0. 0. 0.]\n",
      " [0. 1. 0. 0. 0.]\n",
      " [0. 0. 1. 0. 0.]\n",
      " [0. 0. 0. 1. 0.]\n",
      " [0. 0. 0. 0. 1.]]\n"
     ]
    }
   ],
   "source": [
    "#eye\n",
    "arr=np.eye(5)\n",
    "print(arr)"
   ]
  },
  {
   "cell_type": "code",
   "execution_count": 14,
   "metadata": {},
   "outputs": [
    {
     "name": "stdout",
     "output_type": "stream",
     "text": [
      "[[3 0 0 0]\n",
      " [0 4 0 0]\n",
      " [0 0 1 0]\n",
      " [0 0 0 6]]\n",
      "2\n",
      "(4, 4)\n"
     ]
    }
   ],
   "source": [
    "arr=np.diag((3,4,1,6))\n",
    "print(arr)\n",
    "print(arr.ndim)\n",
    "print(arr.shape)"
   ]
  },
  {
   "cell_type": "code",
   "execution_count": 15,
   "metadata": {},
   "outputs": [
    {
     "name": "stdout",
     "output_type": "stream",
     "text": [
      "[10 30  3]\n",
      "\n",
      "[[3 0 0]\n",
      " [0 9 0]\n",
      " [0 0 5]]\n"
     ]
    }
   ],
   "source": [
    "arr=np.array([[10,30,25,43,21],[10,30,25,43,21],[1,2,3,4,5]])\n",
    "print(np.diag(arr))\n",
    "print()\n",
    "print(np.diag((3,9,5)))"
   ]
  },
  {
   "cell_type": "code",
   "execution_count": 16,
   "metadata": {},
   "outputs": [
    {
     "name": "stdout",
     "output_type": "stream",
     "text": [
      "[2 4]\n"
     ]
    }
   ],
   "source": [
    "arr=np.array([1,2,3,4,5,6,7])\n",
    "print(arr[1:5:2])"
   ]
  },
  {
   "cell_type": "markdown",
   "metadata": {},
   "source": [
    "### randint()"
   ]
  },
  {
   "cell_type": "code",
   "execution_count": 19,
   "metadata": {},
   "outputs": [
    {
     "name": "stdout",
     "output_type": "stream",
     "text": [
      "[5 3]\n"
     ]
    }
   ],
   "source": [
    "rand=np.random.randint(0,10,2)\n",
    "print(rand)"
   ]
  },
  {
   "cell_type": "code",
   "execution_count": 20,
   "metadata": {},
   "outputs": [
    {
     "name": "stdout",
     "output_type": "stream",
     "text": [
      "[]\n"
     ]
    }
   ],
   "source": [
    "rand=np.random.rand(0,10)\n",
    "print(rand)"
   ]
  },
  {
   "cell_type": "code",
   "execution_count": 22,
   "metadata": {},
   "outputs": [
    {
     "name": "stdout",
     "output_type": "stream",
     "text": [
      "[0.87611721 0.07934329 0.83246587 0.4498222  0.20573318 0.50293861\n",
      " 0.43783954 0.04467201 0.03626331 0.59746883]\n"
     ]
    }
   ],
   "source": [
    "rand=np.random.rand(10)\n",
    "print(rand)"
   ]
  },
  {
   "cell_type": "markdown",
   "metadata": {},
   "source": [
    "## reshape( )"
   ]
  },
  {
   "cell_type": "code",
   "execution_count": 25,
   "metadata": {},
   "outputs": [
    {
     "name": "stdout",
     "output_type": "stream",
     "text": [
      "[ 1  2  3  4  5 50]\n"
     ]
    },
    {
     "ename": "ValueError",
     "evalue": "cannot reshape array of size 6 into shape (3,3)",
     "output_type": "error",
     "traceback": [
      "\u001b[1;31m---------------------------------------------------------------------------\u001b[0m",
      "\u001b[1;31mValueError\u001b[0m                                Traceback (most recent call last)",
      "Cell \u001b[1;32mIn[25], line 3\u001b[0m\n\u001b[0;32m      1\u001b[0m arr\u001b[38;5;241m=\u001b[39mnp\u001b[38;5;241m.\u001b[39marray([\u001b[38;5;241m1\u001b[39m,\u001b[38;5;241m2\u001b[39m,\u001b[38;5;241m3\u001b[39m,\u001b[38;5;241m4\u001b[39m,\u001b[38;5;241m5\u001b[39m,\u001b[38;5;241m50\u001b[39m])\n\u001b[0;32m      2\u001b[0m \u001b[38;5;28mprint\u001b[39m(arr)\n\u001b[1;32m----> 3\u001b[0m arr2\u001b[38;5;241m=\u001b[39m\u001b[43marr\u001b[49m\u001b[38;5;241;43m.\u001b[39;49m\u001b[43mreshape\u001b[49m\u001b[43m(\u001b[49m\u001b[38;5;241;43m3\u001b[39;49m\u001b[43m,\u001b[49m\u001b[38;5;241;43m3\u001b[39;49m\u001b[43m)\u001b[49m\n\u001b[0;32m      4\u001b[0m \u001b[38;5;28mprint\u001b[39m(arr2)\n",
      "\u001b[1;31mValueError\u001b[0m: cannot reshape array of size 6 into shape (3,3)"
     ]
    }
   ],
   "source": [
    "arr=np.array([1,2,3,4,5,50])\n",
    "print(arr)\n",
    "arr2=arr.reshape(3,3)\n",
    "print(arr2)"
   ]
  },
  {
   "cell_type": "code",
   "execution_count": 37,
   "metadata": {},
   "outputs": [
    {
     "name": "stdout",
     "output_type": "stream",
     "text": [
      "<class 'numpy.ndarray'>\n",
      "[[1 2]\n",
      " [3 4]\n",
      " [5 6]]\n"
     ]
    }
   ],
   "source": [
    "arr=np.array([1,2,3,4,5,6])\n",
    "print(type(arr))\n",
    "arr2=arr.reshape(3,2)\n",
    "print(arr2)"
   ]
  },
  {
   "cell_type": "markdown",
   "metadata": {},
   "source": []
  },
  {
   "cell_type": "code",
   "execution_count": 28,
   "metadata": {},
   "outputs": [
    {
     "name": "stdout",
     "output_type": "stream",
     "text": [
      "[73 72 39 78 77 91 38 57 76 68 40 29]\n",
      "\n",
      "[[73 72 39]\n",
      " [78 77 91]\n",
      " [38 57 76]\n",
      " [68 40 29]]\n",
      "array value is : 72\n",
      "array value is : 78\n",
      "(4, 3)\n",
      "\n",
      "[[73 72 39 78]\n",
      " [77 91 38 57]\n",
      " [76 68 40 29]]\n",
      "\n",
      "[[73 72 39 78 77 91]\n",
      " [38 57 76 68 40 29]]\n"
     ]
    }
   ],
   "source": [
    "arr=np.random.randint(0,100,12)\n",
    "print(arr)\n",
    "print()\n",
    "arr=arr.reshape(4,3)\n",
    "print(arr)\n",
    "print(\"array value is :\",arr[0][1])\n",
    "print(\"array value is :\",arr[1][0])\n",
    "print(arr.shape)\n",
    "print()\n",
    "arr=arr.reshape(-1,4)\n",
    "print(arr)\n",
    "print()\n",
    "arr=arr.reshape(2,-1)\n",
    "print(arr)\n"
   ]
  },
  {
   "cell_type": "markdown",
   "metadata": {},
   "source": [
    "### seed it help generate the same random number "
   ]
  },
  {
   "cell_type": "code",
   "execution_count": 29,
   "metadata": {},
   "outputs": [
    {
     "name": "stdout",
     "output_type": "stream",
     "text": [
      "[37 86 87 18 90 69  8 53 33 32 40 26]\n"
     ]
    }
   ],
   "source": [
    "np.random.seed(145)\n",
    "arr=np.random.randint(0,100,12)\n",
    "print(arr)"
   ]
  },
  {
   "cell_type": "code",
   "execution_count": 35,
   "metadata": {},
   "outputs": [
    {
     "name": "stdout",
     "output_type": "stream",
     "text": [
      "<class 'numpy.ndarray'>\n",
      "\n",
      "[[442   8 269]\n",
      " [369 217 285]\n",
      " [ 22  55 201]\n",
      " [231 187 269]]\n",
      "\n",
      "[[369 217]\n",
      " [ 22  55]]\n"
     ]
    }
   ],
   "source": [
    "np.random.seed(111)\n",
    "arr=np.random.randint(1,500,30).reshape(6,5)\n",
    "print(type(arr))\n",
    "print()\n",
    "print(arr[2:,2:])\n",
    "print()\n",
    "print(arr[3:5,2:4])"
   ]
  },
  {
   "cell_type": "code",
   "execution_count": 39,
   "metadata": {},
   "outputs": [
    {
     "name": "stdout",
     "output_type": "stream",
     "text": [
      "new slicing: [3 4 8 5 6]\n",
      "new array [ 1 20  5  9  3  4  8  5  6  2 25  2 22 65  3 33]\n",
      "<class 'numpy.ndarray'>\n",
      "<class 'numpy.ndarray'>\n",
      "old slicing [0 0 0 0 0]\n",
      "old array [ 1 20  5  9  0  0  0  0  0  2 25  2 22 65  3 33]\n"
     ]
    }
   ],
   "source": [
    "import numpy as np\n",
    "ar=np.array([1,20,5,9,3,4,8,5,6,2,25,2,22,65,3,33])\n",
    "slicing=ar[4:9]\n",
    "print(\"new slicing:\",slicing)\n",
    "print(\"new array\",ar)\n",
    "print(type(slicing))\n",
    "print(type(ar))\n",
    "slicing[:]=0\n",
    "print(\"old slicing\",slicing)\n",
    "print(\"old array\",ar)"
   ]
  },
  {
   "cell_type": "markdown",
   "metadata": {},
   "source": [
    "## arange( ,)it help generate sequence of number"
   ]
  },
  {
   "cell_type": "code",
   "execution_count": 49,
   "metadata": {},
   "outputs": [
    {
     "name": "stdout",
     "output_type": "stream",
     "text": [
      "[ 1  2  3  4  5  6  7  8  9 10 11 12 13 14]\n",
      "[ 1  3  5  7  9 11 13]\n",
      "[ 2  4  6  8 10 12 14]\n",
      "[ 9 10 11 12 13 14]\n",
      "[ 1  0  3  0  5  0  7  0  9  0 11  0 13  0]\n",
      "[ 3  4  5  6  7  8  9 10 11 12 13 14 15 16]\n",
      "[ 2  4  6  8 10 12 14 16 18 20 22 24 26 28]\n",
      "[  1   4   9  16  25  36  49  64  81 100 121 144 169 196]\n"
     ]
    }
   ],
   "source": [
    "ar=np.arange(1,15)\n",
    "print(ar)\n",
    "print(ar[ar%2!=0])\n",
    "print(ar[ar%2==0])\n",
    "print(ar[ar>8])\n",
    "ar[ar%2==0]=0\n",
    "print(ar)\n",
    "ar=np.arange(1,15)\n",
    "print(ar+2)\n",
    "print(ar*2)\n",
    "print(ar**2)\n",
    "\n"
   ]
  },
  {
   "cell_type": "code",
   "execution_count": 50,
   "metadata": {},
   "outputs": [
    {
     "name": "stdout",
     "output_type": "stream",
     "text": [
      "1\n",
      "65\n",
      "0\n",
      "13\n",
      "[1.         4.47213595 2.23606798 3.         1.73205081 2.\n",
      " 2.82842712 2.23606798 2.44948974 1.41421356 5.         1.41421356\n",
      " 4.69041576 8.06225775 1.73205081 5.74456265]\n",
      "[ 0.84147098  0.91294525 -0.95892427  0.41211849  0.14112001 -0.7568025\n",
      "  0.98935825 -0.95892427 -0.2794155   0.90929743 -0.13235175  0.90929743\n",
      " -0.00885131  0.82682868  0.14112001  0.99991186]\n",
      "[ 0.54030231  0.40808206  0.28366219 -0.91113026 -0.9899925  -0.65364362\n",
      " -0.14550003  0.28366219  0.96017029 -0.41614684  0.99120281 -0.41614684\n",
      " -0.99996083 -0.56245385 -0.9899925  -0.01327675]\n"
     ]
    }
   ],
   "source": [
    "ar=np.array([1,20,5,9,3,4,8,5,6,2,25,2,22,65,3,33])\n",
    "print(np.min(ar))\n",
    "print(np.max(ar))\n",
    "print(np.argmin(ar))\n",
    "print(np.argmax(ar))\n",
    "print(np.sqrt(ar))\n",
    "print(np.sin(ar))\n",
    "print(np.cos(ar))"
   ]
  },
  {
   "cell_type": "markdown",
   "metadata": {},
   "source": [
    "axis=0 colmun\n",
    "axis=1 row"
   ]
  },
  {
   "cell_type": "code",
   "execution_count": 53,
   "metadata": {},
   "outputs": [
    {
     "name": "stdout",
     "output_type": "stream",
     "text": [
      "[[16 11 13]\n",
      " [17 13 16]\n",
      " [ 3 16 11]]\n",
      "116\n",
      "[ 16  27  40  57  70  86  89 105 116]\n",
      "3\n",
      "17\n",
      "--------------------\n",
      "[40 46 30]\n",
      "\n",
      "[[16 27 40]\n",
      " [17 30 46]\n",
      " [ 3 19 30]]\n",
      "\n",
      "[11 13  3]\n",
      "\n",
      "[16 17 16]\n",
      "--------------------\n",
      "[36 40 40]\n",
      "\n",
      "[[16 11 13]\n",
      " [33 24 29]\n",
      " [36 40 40]]\n",
      "\n",
      "[ 3 11 11]\n",
      "\n",
      "[17 16 16]\n"
     ]
    }
   ],
   "source": [
    "np.random.seed(122)\n",
    "mat=np.random.randint(1,21,9).reshape(3,3)\n",
    "print(mat)\n",
    "print(np.sum(mat))\n",
    "print(np.cumsum(mat))\n",
    "print(np.min(mat))\n",
    "print(np.max(mat))\n",
    "print(\"--------------------\")\n",
    "print(np.sum(mat,axis=1))\n",
    "print()\n",
    "print(np.cumsum(mat,axis=1))\n",
    "print()\n",
    "print(np.min(mat,axis=1))\n",
    "print()\n",
    "print(np.max(mat,axis=1))\n",
    "print(\"--------------------\")\n",
    "print(np.sum(mat,axis=0))\n",
    "print()\n",
    "print(np.cumsum(mat,axis=0))\n",
    "print()\n",
    "print(np.min(mat,axis=0))\n",
    "print()\n",
    "print(np.max(mat,axis=0))\n"
   ]
  },
  {
   "cell_type": "code",
   "execution_count": 54,
   "metadata": {},
   "outputs": [
    {
     "name": "stdout",
     "output_type": "stream",
     "text": [
      "[16 11 13 17 13 16  3 16 11 10]\n",
      "\n",
      "[13 16 16 11 16 10 11 13 17  3]\n",
      "\n",
      "(array([ 3, 10, 11, 13, 16, 17]), array([9, 5, 3, 0, 1, 8], dtype=int64), array([1, 1, 2, 2, 3, 1], dtype=int64))\n",
      "\n",
      "6\n"
     ]
    }
   ],
   "source": [
    "np.random.seed(122)\n",
    "mat=np.random.randint(1,21,10)\n",
    "print(mat)\n",
    "print()\n",
    "np.random.shuffle(mat)\n",
    "print(mat)\n",
    "print()\n",
    "print(np.unique(mat,return_index=True,return_counts=True))\n",
    "print()\n",
    "print(np.unique(mat).size)"
   ]
  }
 ],
 "metadata": {
  "kernelspec": {
   "display_name": "Python 3",
   "language": "python",
   "name": "python3"
  },
  "language_info": {
   "codemirror_mode": {
    "name": "ipython",
    "version": 3
   },
   "file_extension": ".py",
   "mimetype": "text/x-python",
   "name": "python",
   "nbconvert_exporter": "python",
   "pygments_lexer": "ipython3",
   "version": "3.11.3"
  }
 },
 "nbformat": 4,
 "nbformat_minor": 2
}
