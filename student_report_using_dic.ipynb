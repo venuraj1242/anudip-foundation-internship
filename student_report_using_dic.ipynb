{
 "cells": [
  {
   "cell_type": "code",
   "execution_count": null,
   "metadata": {},
   "outputs": [
    {
     "ename": "",
     "evalue": "",
     "output_type": "error",
     "traceback": [
      "\u001b[1;31mThe file 'string.py' seems to be overriding built in modules and interfering with the startup of the kernel. Consider renaming the file and starting the kernel again.\n",
      "\u001b[1;31mClick <a href='https://aka.ms/kernelFailuresOverridingBuiltInModules'>here</a> for more info."
     ]
    }
   ],
   "source": [
    "from tabulate import tabulate\n",
    "student={\n",
    "    1:{'stdid': 'sid101', 'sidname': 'ashish kumar', 'standard': '10th', 'age': 15, 'hindi': 67, 'english': 89, 'math': 87, 'science': 89, 'computer': 90, 'total': 422},\n",
    "    2:{'stdid': 'sid102', 'sidname': 'abhishek kumar', 'standard': '10th', 'age': 14, 'hindi': 85, 'english': 45, 'math': 48, 'science': 90, 'computer': 45, 'total': 313},\n",
    "    3:{'stdid': 'sid103', 'sidname': 'aman', 'standard': '10th', 'age': 15, 'hindi': 23, 'english': 56, 'math': 78, 'science': 78, 'computer': 67, 'total': 302},\n",
    "    4:{'stdid': 'sid104', 'sidname': 'rahul', 'standard': '10th', 'age': 14, 'hindi': 45, 'english': 67, 'math': 45, 'science': 45, 'computer': 56, 'total': 258},\n",
    "    5:{'stdid': 'sid105', 'sidname': 'ruby', 'standard': '10th', 'age': 13, 'hindi': 89, 'english': 67, 'math': 89, 'science': 93, 'computer': 65, 'total': 403},\n",
    "    6:{'stdid': 'sid106', 'sidname': 'suman', 'standard': '10th', 'age': 13, 'hindi': 90, 'english': 46, 'math': 67, 'science': 67, 'computer': 67, 'total': 337},\n",
    "    7:{'stdid': 'sid107', 'sidname': 'saurabh', 'standard': '10th', 'age': 15, 'hindi': 45, 'english': 23, 'math': 34, 'science': 45, 'computer': 34, 'total': 181},\n",
    "    8:{'stdid': 'sid108', 'sidname': 'sumit', 'standard': '10th', 'age': 14, 'hindi': 23, 'english': 45, 'math': 67, 'science': 78, 'computer': 90, 'total': 303},\n",
    "    9:{'stdid': 'sid109', 'sidname': 'kamlesh', 'standard': '10th', 'age': 15, 'hindi': 45, 'english': 56, 'math': 78, 'science': 99, 'computer': 67, 'total': 345},\n",
    "    10:{'stdid': 'sid110', 'sidname': 'rohan', 'standard': '10th', 'age': 15, 'hindi': 34, 'english': 12, 'math': 24, 'science': 45, 'computer': 56, 'total': 171}\n",
    "}\n",
    "# print(student)\n",
    "student_tabulate = tabulate(student.values(),headers={'stdid': 'stdid', 'sidname': 'stdname', 'standard': 'standard', 'age': 'age', 'hindi': 'hindi', 'english': 'english', 'math': 'math', 'science': 'science', 'computer': 'computer', 'total': 'total'},tablefmt=\"grid\")\n",
    "print(student_tabulate)"
   ]
  },
  {
   "cell_type": "code",
   "execution_count": null,
   "metadata": {},
   "outputs": [
    {
     "ename": "",
     "evalue": "",
     "output_type": "error",
     "traceback": [
      "\u001b[1;31mThe file 'string.py' seems to be overriding built in modules and interfering with the startup of the kernel. Consider renaming the file and starting the kernel again.\n",
      "\u001b[1;31mClick <a href='https://aka.ms/kernelFailuresOverridingBuiltInModules'>here</a> for more info."
     ]
    }
   ],
   "source": [
    "# display the name of students whose marks in english is greather than 50\n",
    "for i,j in student.items():  \n",
    "     if(j['english']>50):\n",
    "         print(j['sidname'])"
   ]
  },
  {
   "cell_type": "code",
   "execution_count": null,
   "metadata": {},
   "outputs": [
    {
     "ename": "",
     "evalue": "",
     "output_type": "error",
     "traceback": [
      "\u001b[1;31mThe file 'string.py' seems to be overriding built in modules and interfering with the startup of the kernel. Consider renaming the file and starting the kernel again.\n",
      "\u001b[1;31mClick <a href='https://aka.ms/kernelFailuresOverridingBuiltInModules'>here</a> for more info."
     ]
    }
   ],
   "source": [
    "# display students name and age of top four scorer of maths\n",
    "sorts = sorted(student.values(), key=lambda student: student['math'], reverse=True)\n",
    "four=sorts[:4]\n",
    "print('name','age')\n",
    "for i in four :\n",
    "    print(i['sidname'], i['age'])"
   ]
  },
  {
   "cell_type": "code",
   "execution_count": null,
   "metadata": {},
   "outputs": [
    {
     "ename": "",
     "evalue": "",
     "output_type": "error",
     "traceback": [
      "\u001b[1;31mThe file 'string.py' seems to be overriding built in modules and interfering with the startup of the kernel. Consider renaming the file and starting the kernel again.\n",
      "\u001b[1;31mClick <a href='https://aka.ms/kernelFailuresOverridingBuiltInModules'>here</a> for more info."
     ]
    }
   ],
   "source": [
    "# display name id age of student who are bottom three scorer computer\n",
    "sorts = sorted(student.values(), key=lambda student: student['computer'])\n",
    "four=sorts[:3]\n",
    "print('id ','name ','age ')\n",
    "for i in four :\n",
    "    print(i['stdid'],i['sidname'],i['age'])"
   ]
  }
 ],
 "metadata": {
  "kernelspec": {
   "display_name": "Python 3",
   "language": "python",
   "name": "python3"
  },
  "language_info": {
   "codemirror_mode": {
    "name": "ipython",
    "version": 3
   },
   "file_extension": ".py",
   "mimetype": "text/x-python",
   "name": "python",
   "nbconvert_exporter": "python",
   "pygments_lexer": "ipython3",
   "version": "3.11.3"
  }
 },
 "nbformat": 4,
 "nbformat_minor": 2
}
