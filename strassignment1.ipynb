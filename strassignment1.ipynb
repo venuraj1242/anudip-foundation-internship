{
 "cells": [
  {
   "cell_type": "markdown",
   "metadata": {},
   "source": [
    "1. Declare a div() function with two parameters. Then call the function and pass two\n",
    "numbers and display their division"
   ]
  },
  {
   "cell_type": "code",
   "execution_count": 16,
   "metadata": {},
   "outputs": [
    {
     "name": "stdout",
     "output_type": "stream",
     "text": [
      "The division of 10 by 2 is: 5.0\n",
      "not allowed\n"
     ]
    }
   ],
   "source": [
    "def div(a, b):\n",
    "    if(b>0):\n",
    "        result = a / b\n",
    "        print(\"The division of\", a, \"by\", b, \"is:\", result)\n",
    "    else:\n",
    "        print(\"not allowed\")\n",
    "\n",
    "# Example\n",
    "div(10, 2)\n",
    "div(10, 0)"
   ]
  },
  {
   "cell_type": "markdown",
   "metadata": {},
   "source": [
    "2. Declare a square() function with one parameter.Then call the function and pass\n",
    "one number and display the square of that number ."
   ]
  },
  {
   "cell_type": "code",
   "execution_count": 17,
   "metadata": {},
   "outputs": [
    {
     "name": "stdout",
     "output_type": "stream",
     "text": [
      "The square of  4 is: 16\n",
      "The square of  7 is: 49\n"
     ]
    }
   ],
   "source": [
    "def square(n):\n",
    "    result = n ** 2\n",
    "    print(\"The square of \",n, \"is:\" ,result)\n",
    "\n",
    "# Example usage\n",
    "square(4)  # Should output: The square of 4 is: 16\n",
    "square(7)  # Should output: The square of 7 is: 49\n"
   ]
  },
  {
   "cell_type": "markdown",
   "metadata": {},
   "source": [
    "3.Using max() and min() functions display the maximum and minimum of 5 random\n",
    "numbers."
   ]
  },
  {
   "cell_type": "code",
   "execution_count": 18,
   "metadata": {},
   "outputs": [
    {
     "name": "stdout",
     "output_type": "stream",
     "text": [
      "Random Numbers: [83, 29, 15, 19, 82]\n",
      "The maximum number is: 83\n",
      "The minimum number is: 15\n"
     ]
    }
   ],
   "source": [
    "import random\n",
    "\n",
    "# Generate 5 random numbers\n",
    "random_numbers = [random.randint(1, 100) for _ in range(5)]\n",
    "\n",
    "# Display the random numbers\n",
    "print(\"Random Numbers:\", random_numbers)\n",
    "\n",
    "# Find and display the maximum and minimum numbers\n",
    "max_number = max(random_numbers)\n",
    "min_number = min(random_numbers)\n",
    "\n",
    "print(\"The maximum number is:\", max_number)\n",
    "print(\"The minimum number is:\", min_number)\n"
   ]
  },
  {
   "cell_type": "markdown",
   "metadata": {},
   "source": [
    "4. Accept a name from the user and display that in lower case using lower()\n",
    "function"
   ]
  },
  {
   "cell_type": "code",
   "execution_count": 19,
   "metadata": {},
   "outputs": [
    {
     "name": "stdout",
     "output_type": "stream",
     "text": [
      "Your name in lowercase is: your  name \n"
     ]
    }
   ],
   "source": [
    "# Accept a name from the user\n",
    "name = input(\"Enter your name: \")\n",
    "\n",
    "# Convert the name to lowercase\n",
    "lower_name = name.lower()\n",
    "\n",
    "# Display the name in lowercase\n",
    "print(\"Your name in lowercase is:\", lower_name)\n"
   ]
  },
  {
   "cell_type": "markdown",
   "metadata": {},
   "source": [
    "1. Write a Python program to count the occurrences of each word in a\n",
    "given sentence"
   ]
  },
  {
   "cell_type": "code",
   "execution_count": 20,
   "metadata": {},
   "outputs": [
    {
     "name": "stdout",
     "output_type": "stream",
     "text": [
      "Word occurrences:\n",
      "to 2\n",
      "change 2\n",
      "the 3\n",
      "overall 1\n",
      "look 2\n",
      "of 1\n",
      "your 1\n",
      "document. 1\n",
      "available 1\n",
      "in 1\n",
      "gallery 1\n"
     ]
    }
   ],
   "source": [
    "def count_word(sentence):\n",
    "    # Convert the sentence to lowercase and split it into words\n",
    "    words = sentence.lower().split()\n",
    "\n",
    "    # Create a dictionary to store the word counts\n",
    "    word_counts = {}\n",
    "\n",
    "    # Count the occurrences of each word\n",
    "    for word in words:\n",
    "        if word in word_counts:\n",
    "            word_counts[word] += 1\n",
    "        else:\n",
    "            word_counts[word] = 1\n",
    "\n",
    "    return word_counts\n",
    "\n",
    "# Accept a sentence from the user\n",
    "sentence = \"To change the overall look of your document. To change the look available in the gallery\"\n",
    "\n",
    "# Get the word occurrences\n",
    "word_counts = count_word(sentence)\n",
    "\n",
    "# Display the word occurrences\n",
    "print(\"Word occurrences:\")\n",
    "for word, count in word_counts.items():\n",
    "    print(word, count)\n"
   ]
  },
  {
   "cell_type": "markdown",
   "metadata": {},
   "source": [
    " 2. Write a Python program to remove a newline in Python"
   ]
  },
  {
   "cell_type": "code",
   "execution_count": 21,
   "metadata": {},
   "outputs": [
    {
     "name": "stdout",
     "output_type": "stream",
     "text": [
      "remove newline is:  Best  Deeptech  Python  Training \n"
     ]
    }
   ],
   "source": [
    "# Accept a string  from the user\n",
    "name =  \"\\nBest \\nDeeptech \\nPython \\nTraining\\n\"\n",
    "\n",
    "names= name.replace(\"\\n\",\" \")\n",
    "\n",
    "# Display \n",
    "print(\"remove newline is:\", names)\n"
   ]
  },
  {
   "cell_type": "markdown",
   "metadata": {},
   "source": [
    "3.Write a Python program to reverse words in a string"
   ]
  },
  {
   "cell_type": "code",
   "execution_count": 22,
   "metadata": {},
   "outputs": [
    {
     "name": "stdout",
     "output_type": "stream",
     "text": [
      "Original sentence:\n",
      "Deeptech Python Training\n",
      "\n",
      "Reversed words sentence:\n",
      "Training Python Deeptech\n"
     ]
    }
   ],
   "source": [
    "def reversestring(sentence):\n",
    "    # Split the sentence into words\n",
    "    words = sentence.split()\n",
    "    # Initialize an empty list to store reversed words\n",
    "    reversed_words = []\n",
    "    # Iterate over the words list in reverse order\n",
    "    for word in reversed(words):\n",
    "        reversed_words.append(word)\n",
    "    # Join the reversed list of words back into a string\n",
    "    reversed_sentence = ' '.join(reversed_words)\n",
    "    return reversed_sentence\n",
    "\n",
    "# Accept a sentence from the user\n",
    "sentence = \"Deeptech Python Training\"\n",
    "\n",
    "# Reverse the words in the sentence\n",
    "reversed_sentence = reversestring(sentence)\n",
    "\n",
    "# Display the result\n",
    "print(\"Original sentence:\")\n",
    "print(sentence)\n",
    "print(\"\\nReversed words sentence:\")\n",
    "print(reversed_sentence)\n"
   ]
  },
  {
   "cell_type": "markdown",
   "metadata": {},
   "source": [
    "4. Write a Python program to count and display the vowels of a given\n",
    "text"
   ]
  },
  {
   "cell_type": "code",
   "execution_count": 23,
   "metadata": {},
   "outputs": [
    {
     "name": "stdout",
     "output_type": "stream",
     "text": [
      "Number of vowels in the given text: 8\n"
     ]
    }
   ],
   "source": [
    "def count_vowels(text):\n",
    "    vowels = 'aeiouAEIOU'\n",
    "    count = 0\n",
    "    for char in text:\n",
    "        if char in vowels:\n",
    "            count += 1\n",
    "    return count\n",
    "\n",
    "# Accept text from the user\n",
    "text = \"Welcome to python Training\"\n",
    "\n",
    "# Count the vowels\n",
    "vowel_count = count_vowels(text)\n",
    "\n",
    "# Display the result\n",
    "print(\"Number of vowels in the given text:\", vowel_count)\n"
   ]
  },
  {
   "cell_type": "markdown",
   "metadata": {},
   "source": [
    "1. Write a Python program to Count all letters, digits, and special\n",
    "symbols from the given string"
   ]
  },
  {
   "cell_type": "code",
   "execution_count": 24,
   "metadata": {},
   "outputs": [
    {
     "name": "stdout",
     "output_type": "stream",
     "text": [
      "Number of letters: 8\n",
      "Number of digits: 3\n",
      "Number of special symbols: 4\n"
     ]
    }
   ],
   "source": [
    "def count_elements(text):\n",
    "    \n",
    "    letters = 0\n",
    "    digits = 0\n",
    "    symbols = 0\n",
    "\n",
    "    for char in text:\n",
    "        if char.isalpha():\n",
    "            letters += 1\n",
    "        elif char.isdigit():\n",
    "            digits += 1\n",
    "        else:\n",
    "            symbols += 1\n",
    "\n",
    "    return letters, digits, symbols\n",
    "\n",
    "# Accept text from the user\n",
    "text = \"P@#yn26at^&i5ve\"\n",
    "\n",
    "# Count the letters, digits, and symbols\n",
    "letters, digits, symbols = count_elements(text)\n",
    "\n",
    "# Display the result\n",
    "print(\"Number of letters:\", letters)\n",
    "print(\"Number of digits:\", digits)\n",
    "print(\"Number of special symbols:\", symbols)\n"
   ]
  },
  {
   "cell_type": "markdown",
   "metadata": {},
   "source": [
    "2. Write a Python program to remove duplicate characters of a given\n",
    "string."
   ]
  },
  {
   "cell_type": "code",
   "execution_count": 25,
   "metadata": {},
   "outputs": [
    {
     "name": "stdout",
     "output_type": "stream",
     "text": [
      "String after removing duplicate words: String and Function\n"
     ]
    }
   ],
   "source": [
    "def remove_duplicates(text):\n",
    "    seen = set()\n",
    "    result = []\n",
    "    words = text.split()\n",
    "    for word in words:\n",
    "        if word not in seen:\n",
    "            seen.add(word)\n",
    "            result.append(word)\n",
    "    return ' '.join(result)\n",
    "\n",
    "# Accept text from the user\n",
    "text =\"String and String Function\"\n",
    "# Remove duplicate words\n",
    "unique_text = remove_duplicates(text)\n",
    "\n",
    "# Display the result\n",
    "print(\"String after removing duplicate words:\", unique_text)\n"
   ]
  },
  {
   "cell_type": "markdown",
   "metadata": {},
   "source": [
    "3. Write a Python program to count Uppercase, Lowercase, special\n",
    "character and numeric values in a given string\n",
    "\n"
   ]
  },
  {
   "cell_type": "code",
   "execution_count": 26,
   "metadata": {},
   "outputs": [
    {
     "name": "stdout",
     "output_type": "stream",
     "text": [
      "UpperCase: 5\n",
      "LowerCase: 18\n",
      "NumberCase: 5\n",
      "SpecialCase: 11\n"
     ]
    }
   ],
   "source": [
    "def count_characters(text):\n",
    "    upper_case = 0\n",
    "    lower_case = 0\n",
    "    numeric_case = 0\n",
    "    special_case = 0\n",
    "\n",
    "    for char in text:\n",
    "        if char.isupper():\n",
    "            upper_case += 1\n",
    "        elif char.islower():\n",
    "            lower_case += 1\n",
    "        elif char.isdigit():\n",
    "            numeric_case += 1\n",
    "        else:\n",
    "            special_case += 1\n",
    "\n",
    "    return upper_case, lower_case, numeric_case, special_case\n",
    "\n",
    "# Accept text from the user\n",
    "text =\"Hell0 W0rld ! 123 * # welcome to pYtHoN\"\n",
    "\n",
    "# Count the characters\n",
    "upper_case, lower_case, numeric_case, special_case = count_characters(text)\n",
    "\n",
    "# Display the result\n",
    "print(\"UpperCase:\", upper_case)\n",
    "print(\"LowerCase:\", lower_case)\n",
    "print(\"NumberCase:\", numeric_case)\n",
    "print(\"SpecialCase:\", special_case)\n"
   ]
  },
  {
   "cell_type": "markdown",
   "metadata": {},
   "source": [
    "4. Write a Python Count vowels in a string\n"
   ]
  },
  {
   "cell_type": "code",
   "execution_count": 27,
   "metadata": {},
   "outputs": [
    {
     "name": "stdout",
     "output_type": "stream",
     "text": [
      "Total vowels are: 8\n"
     ]
    }
   ],
   "source": [
    "def count_vowels(text):\n",
    "    vowels = 'aeiouAEIOU'\n",
    "    count = 0\n",
    "    for char in text:\n",
    "        if char in vowels:\n",
    "            count += 1\n",
    "    return count\n",
    "\n",
    "# Accept text from the user\n",
    "text =  \"Welcome to Python Assignment\"\n",
    "\n",
    "# Count the vowels\n",
    "vowel_count = count_vowels(text)\n",
    "\n",
    "# Display the result\n",
    "print(\"Total vowels are:\", vowel_count)\n"
   ]
  }
 ],
 "metadata": {
  "kernelspec": {
   "display_name": "Python 3",
   "language": "python",
   "name": "python3"
  },
  "language_info": {
   "codemirror_mode": {
    "name": "ipython",
    "version": 3
   },
   "file_extension": ".py",
   "mimetype": "text/x-python",
   "name": "python",
   "nbconvert_exporter": "python",
   "pygments_lexer": "ipython3",
   "version": "3.11.3"
  }
 },
 "nbformat": 4,
 "nbformat_minor": 2
}
