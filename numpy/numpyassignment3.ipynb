{
 "cells": [
  {
   "cell_type": "markdown",
   "metadata": {},
   "source": [
    "1. Suppose you have a dataset containing daily temperature readings for a city, and you\n",
    "want to identify days with extreme temperature conditions. Find days where the\n",
    "temperature either exceeded 35 degrees Celsius (hot day) or dropped below 5 degrees\n",
    "Celsius (cold day).\n",
    "Input:\n",
    "temperatures = np.array([32.5, 34.2, 36.8, 29.3, 31.0, 38.7, 23.1, 18.5, 22.8, 37.2])"
   ]
  },
  {
   "cell_type": "code",
   "execution_count": 2,
   "metadata": {},
   "outputs": [
    {
     "name": "stdout",
     "output_type": "stream",
     "text": [
      "[[2 5 9]]\n",
      "[36.8 38.7 37.2]\n"
     ]
    }
   ],
   "source": [
    "import numpy as np\n",
    "temperatures=np.array([32.5,34.2,36.8,29.3,31.0,38.7,23.1,18.5,22.8,37.2])\n",
    "index=np.array(np.where(temperatures>35))\n",
    "print(index)\n",
    "t=(temperatures[temperatures>35])\n",
    "\n",
    "print(t)\n"
   ]
  },
  {
   "cell_type": "code",
   "execution_count": 3,
   "metadata": {},
   "outputs": [
    {
     "name": "stdout",
     "output_type": "stream",
     "text": [
      "Hot Days:\n",
      "Day  Temperature (°C)\n",
      "3 36.8\n",
      "6 38.7\n",
      "10 37.2\n",
      "\n",
      "Cold Days:\n",
      "Day  Temperature (°C)\n",
      "11 4.0\n",
      "12 -4.0\n",
      "13 -12.0\n"
     ]
    }
   ],
   "source": [
    "temperatures = np.array([32.5, 34.2, 36.8, 29.3, 31.0, 38.7, 23.1, 18.5, 22.8, 37.2, 4.0, -4.0, -12.0])\n",
    "\n",
    "hot_days_indices = np.where(temperatures > 35)[0]\n",
    "cold_days_indices = np.where(temperatures < 5)[0]\n",
    "\n",
    "print(\"Hot Days:\")\n",
    "print(\"Day  Temperature (°C)\")\n",
    "for day in hot_days_indices:\n",
    "    print(day+1,    temperatures[day])\n",
    "\n",
    "print(\"\\nCold Days:\")\n",
    "print(\"Day  Temperature (°C)\")\n",
    "for day in cold_days_indices:\n",
    "    print(day+1,   temperatures[day])"
   ]
  },
  {
   "cell_type": "markdown",
   "metadata": {},
   "source": [
    "2. Suppose you have a dataset containing monthly sales data for a company, and you\n",
    "want to split this data into quarterly reports for analysis and reporting purposes.\n",
    "Input:\n",
    "monthly_sales = np.array([120, 135, 148, 165, 180, 155, 168, 190, 205, 198, 210, 225])"
   ]
  },
  {
   "cell_type": "code",
   "execution_count": 4,
   "metadata": {},
   "outputs": [
    {
     "name": "stdout",
     "output_type": "stream",
     "text": [
      "Quarter 1 Sales (in thousands of dollars):\n",
      "[120 135 148]\n",
      "\n",
      "Quarter 2 Sales (in thousands of dollars):\n",
      "[165 180 155]\n",
      "\n",
      "Quarter 3 Sales (in thousands of dollars):\n",
      "[168 190 205]\n",
      "\n",
      "Quarter 4 Sales (in thousands of dollars):\n",
      "[198 210 225]\n"
     ]
    }
   ],
   "source": [
    "\n",
    "monthly_sales = np.array([120, 135, 148, 165, 180, 155, 168, 190, 205, 198, 210, 225])\n",
    "\n",
    "quarterly_sales = monthly_sales.reshape(4, 3)\n",
    "\n",
    "print(\"Quarter 1 Sales (in thousands of dollars):\")\n",
    "print(quarterly_sales[0])\n",
    "print(\"\\nQuarter 2 Sales (in thousands of dollars):\")\n",
    "print(quarterly_sales[1])\n",
    "print(\"\\nQuarter 3 Sales (in thousands of dollars):\")\n",
    "print(quarterly_sales[2])\n",
    "print(\"\\nQuarter 4 Sales (in thousands of dollars):\")\n",
    "print(quarterly_sales[3])\n"
   ]
  },
  {
   "cell_type": "markdown",
   "metadata": {},
   "source": [
    "3. Suppose you have a dataset containing customer data, and you want to split this data\n",
    "into two groups: one group for customers who made a purchase in the last 30 days and\n",
    "another group for customers who haven't made a purchase in the last 30 days.\n",
    "Input:\n",
    "customer_ids = np.array([101, 102, 103, 104, 105, 106, 107, 108, 109, 110])\n",
    "last_purchase_days_ago = np.array([5, 15, 20, 25, 30, 35, 40, 45, 50, 55])"
   ]
  },
  {
   "cell_type": "code",
   "execution_count": 5,
   "metadata": {},
   "outputs": [
    {
     "name": "stdout",
     "output_type": "stream",
     "text": [
      "active customer\n",
      "[101. 102. 103. 104. 105.]\n",
      "inactive customer\n",
      "[106. 107. 108. 109. 110.]\n"
     ]
    }
   ],
   "source": [
    "customer_ids = np.array([101, 102, 103, 104, 105, 106, 107, 108, 109, 110])\n",
    "last_purchase = np.array([5, 15, 20, 25, 30, 35, 40, 45, 50, 55])\n",
    "\n",
    "new=np.array([])\n",
    "ne2=np.array([])\n",
    "i=0\n",
    "while i<len(last_purchase):\n",
    "    if last_purchase[i]>30:\n",
    "        new=np.append(new,customer_ids[i])\n",
    "    else:\n",
    "        ne2=np.append(ne2,customer_ids[i])\n",
    "    i+=1\n",
    "print(\"active customer\")\n",
    "print(ne2)\n",
    "print(\"inactive customer\")\n",
    "print(new)"
   ]
  },
  {
   "cell_type": "markdown",
   "metadata": {},
   "source": [
    "4.Suppose you have two sets of employee data—one containing information about\n",
    "full-time employees and another containing information about part-time employees. You\n",
    "want to combine this data to create a comprehensive employee dataset for HR analysis.\n",
    "Input:\n",
    "Employee data for full-time employees\n",
    "full_time_employees = np.array([\n",
    "[101, 'John Doe', 'Full-Time', 55000],\n",
    "[102, 'Jane Smith', 'Full-Time', 60000],\n",
    "[103, 'Mike Johnson', 'Full-Time', 52000]\n",
    "])\n",
    "Employee data for part-time employees\n",
    "part_time_employees = np.array([\n",
    "[201, 'Alice Brown', 'Part-Time', 25000],\n",
    "[202, 'Bob Wilson', 'Part-Time', 28000],\n",
    "[203, 'Emily Davis', 'Part-Time', 22000]\n",
    "])"
   ]
  },
  {
   "cell_type": "code",
   "execution_count": 6,
   "metadata": {},
   "outputs": [
    {
     "name": "stdout",
     "output_type": "stream",
     "text": [
      "Comprehensive Employee Dataset:\n",
      "[['101' 'John Doe' 'Full-Time' '55000']\n",
      " ['102' 'Jane Smith' 'Full-Time' '60000']\n",
      " ['103' 'Mike Johnson' 'Full-Time' '52000']\n",
      " ['201' 'Alice Brown' 'Part-Time' '25000']\n",
      " ['202' 'Bob Wilson' 'Part-Time' '28000']\n",
      " ['203' 'Emily Davis' 'Part-Time' '22000']]\n"
     ]
    }
   ],
   "source": [
    "full_time_employees = np.array([\n",
    "[101, 'John Doe', 'Full-Time', 55000],\n",
    "[102, 'Jane Smith', 'Full-Time', 60000],\n",
    "[103, 'Mike Johnson', 'Full-Time', 52000]\n",
    "])\n",
    "\n",
    "part_time_employees = np.array([\n",
    "[201, 'Alice Brown', 'Part-Time', 25000],\n",
    "[202, 'Bob Wilson', 'Part-Time', 28000],\n",
    "[203, 'Emily Davis', 'Part-Time', 22000]\n",
    "])\n",
    "all_employees = np.concatenate((full_time_employees, part_time_employees))\n",
    "\n",
    "print(\"Comprehensive Employee Dataset:\")\n",
    "print(all_employees)"
   ]
  },
  {
   "cell_type": "markdown",
   "metadata": {},
   "source": [
    "1. How to find the mean of every NumPy array in the given list?\n",
    "Input:\n",
    "list = [\n",
    "np.array([3, 2, 8, 9]),\n",
    "np.array([4, 12, 34, 25, 78]),\n",
    "np.array([23, 12, 67])\n",
    "]"
   ]
  },
  {
   "cell_type": "code",
   "execution_count": 13,
   "metadata": {},
   "outputs": [
    {
     "name": "stdout",
     "output_type": "stream",
     "text": [
      "Mean of Each array: [5.5, 30.6, 34.0]\n"
     ]
    }
   ],
   "source": [
    "lists = [\n",
    "np.array([3, 2, 8, 9]),\n",
    "np.array([4, 12, 34, 25, 78]),\n",
    "np.array([23, 12, 67])\n",
    "]\n",
    "\n",
    "means = [np.mean(arr) for arr in lists]\n",
    "print(\"Mean of Each array:\", means)"
   ]
  },
  {
   "cell_type": "markdown",
   "metadata": {},
   "source": [
    "2. Compute the median of the flattened NumPy array\n",
    "Input: x_odd = np.array([1, 2, 3, 4, 5, 6, 7])"
   ]
  },
  {
   "cell_type": "code",
   "execution_count": 15,
   "metadata": {},
   "outputs": [
    {
     "name": "stdout",
     "output_type": "stream",
     "text": [
      "[1 2 3 4 5 6 7]\n",
      "4.0\n"
     ]
    }
   ],
   "source": [
    "x_odd = np.array([1, 2, 3, 4, 5, 6, 7])\n",
    "print(x_odd)\n",
    "medians=np.median(x_odd)\n",
    "print(medians)"
   ]
  },
  {
   "cell_type": "markdown",
   "metadata": {},
   "source": [
    "3. Compute the standard deviation of the NumPy array\n",
    "Input: arr = [20, 2, 7, 1, 34]"
   ]
  },
  {
   "cell_type": "code",
   "execution_count": 16,
   "metadata": {},
   "outputs": [
    {
     "name": "stdout",
     "output_type": "stream",
     "text": [
      "standard deviation: 12.576167937809991\n"
     ]
    }
   ],
   "source": [
    "arr = [20, 2, 7, 1, 34]\n",
    "std_arr=np.std(arr)\n",
    "print(\"standard deviation:\",std_arr)\n"
   ]
  },
  {
   "cell_type": "markdown",
   "metadata": {},
   "source": [
    "4.Suppose you have a CSV file named 'house_prices.csv' with price information, and\n",
    "you want to perform the following operations:\n",
    "●\n",
    "1.Read the data from the CSV file into a NumPy array.\n",
    "●\n",
    "2.Calculate the average of house prices.\n",
    "●\n",
    "3.Identify house price above the average.\n",
    "●\n",
    "4.Save the list of high prices to a new CSV file."
   ]
  }
 ],
 "metadata": {
  "kernelspec": {
   "display_name": "Python 3",
   "language": "python",
   "name": "python3"
  },
  "language_info": {
   "codemirror_mode": {
    "name": "ipython",
    "version": 3
   },
   "file_extension": ".py",
   "mimetype": "text/x-python",
   "name": "python",
   "nbconvert_exporter": "python",
   "pygments_lexer": "ipython3",
   "version": "3.11.3"
  }
 },
 "nbformat": 4,
 "nbformat_minor": 2
}
