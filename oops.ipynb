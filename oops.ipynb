{
 "cells": [
  {
   "cell_type": "markdown",
   "metadata": {},
   "source": [
    "self is use call the data member and method "
   ]
  },
  {
   "cell_type": "code",
   "execution_count": 6,
   "metadata": {},
   "outputs": [
    {
     "name": "stdout",
     "output_type": "stream",
     "text": [
      "study 3 hour xyz\n"
     ]
    }
   ],
   "source": [
    "class student :\n",
    "    name=\"xyz\"\n",
    "    age=0\n",
    "    def study (self):\n",
    "        print(\"study 3 hour\",self.name)\n",
    "        \n",
    "obj=student()\n",
    "obj.study()"
   ]
  },
  {
   "cell_type": "code",
   "execution_count": 7,
   "metadata": {},
   "outputs": [
    {
     "name": "stdout",
     "output_type": "stream",
     "text": [
      "study 3 hour xyz\n",
      "sleep 8 hour\n"
     ]
    }
   ],
   "source": [
    "class student :\n",
    "    name=\"xyz\"\n",
    "    age=0\n",
    "    def study (self):\n",
    "        print(\"study 3 hour\",self.name)\n",
    "        self.sleep()\n",
    "    def sleep (self):\n",
    "        print(\"sleep 8 hour\")\n",
    "    \n",
    "obj=student()\n",
    "obj.study()"
   ]
  },
  {
   "cell_type": "markdown",
   "metadata": {},
   "source": [
    "inheritance"
   ]
  },
  {
   "cell_type": "code",
   "execution_count": 9,
   "metadata": {},
   "outputs": [
    {
     "name": "stdout",
     "output_type": "stream",
     "text": [
      "a\n"
     ]
    }
   ],
   "source": [
    "class a:\n",
    "    def show(self):\n",
    "        print(\"a\")\n",
    "\n",
    "\n",
    "class b(a):  # inherit the class a\n",
    "    def demo (self):\n",
    "        print(\"demo method\")\n",
    "\n",
    "\n",
    "class c(a):  # inherit the class a\n",
    "    pass\n",
    "\n",
    "\n",
    "class d(b, c): #inherit the class b, c\n",
    "    pass\n",
    "obj=c()\n",
    "obj.show()\n",
    "# obj.demo() #error"
   ]
  },
  {
   "cell_type": "markdown",
   "metadata": {},
   "source": [
    "python does not support method overloading "
   ]
  },
  {
   "cell_type": "code",
   "execution_count": 11,
   "metadata": {},
   "outputs": [
    {
     "ename": "TypeError",
     "evalue": "setdata() missing 1 required positional argument: 'age'",
     "output_type": "error",
     "traceback": [
      "\u001b[1;31m---------------------------------------------------------------------------\u001b[0m",
      "\u001b[1;31mTypeError\u001b[0m                                 Traceback (most recent call last)",
      "Cell \u001b[1;32mIn[11], line 5\u001b[0m\n\u001b[0;32m      3\u001b[0m \u001b[38;5;28;01mdef\u001b[39;00m \u001b[38;5;21msetdata\u001b[39m(\u001b[38;5;28mid\u001b[39m , name, age ):\n\u001b[0;32m      4\u001b[0m     \u001b[38;5;28mprint\u001b[39m(\u001b[38;5;124m\"\u001b[39m\u001b[38;5;124mid ,name , age\u001b[39m\u001b[38;5;124m\"\u001b[39m)\n\u001b[1;32m----> 5\u001b[0m \u001b[43msetdata\u001b[49m\u001b[43m(\u001b[49m\u001b[38;5;241;43m102\u001b[39;49m\u001b[43m,\u001b[49m\u001b[38;5;124;43m\"\u001b[39;49m\u001b[38;5;124;43mhello\u001b[39;49m\u001b[38;5;124;43m\"\u001b[39;49m\u001b[43m)\u001b[49m\n",
      "\u001b[1;31mTypeError\u001b[0m: setdata() missing 1 required positional argument: 'age'"
     ]
    }
   ],
   "source": [
    "# method overloading\n",
    "def setdata(id , name ):\n",
    "    print(\"id, name\")\n",
    "def setdata(id , name, age ):\n",
    "    print(\"id ,name , age\")\n",
    "setdata(102,\"hello\")"
   ]
  },
  {
   "cell_type": "code",
   "execution_count": 12,
   "metadata": {},
   "outputs": [
    {
     "name": "stdout",
     "output_type": "stream",
     "text": [
      "165\n"
     ]
    }
   ],
   "source": [
    "def sum(a,b,c):\n",
    "    print(a+b+c)\n",
    "sum(10,89,66)"
   ]
  },
  {
   "cell_type": "code",
   "execution_count": 13,
   "metadata": {},
   "outputs": [
    {
     "name": "stdout",
     "output_type": "stream",
     "text": [
      "122\n"
     ]
    }
   ],
   "source": [
    "def sum(a,b,c=23):\n",
    "    print(a+b+c)\n",
    "sum(10,89)"
   ]
  },
  {
   "cell_type": "markdown",
   "metadata": {},
   "source": [
    "method overridding\n",
    "Polymorphism with Inheritance:\n",
    "\n",
    "Polymorphism lets us define methods in the child class that have the same name as the methods in the parent class. In inheritance, the child class inherits the methods from the parent class. However, it is possible to modify a method in a child class that it has inherited from the parent class. This is particularly useful in cases where the method inherited from the parent class doesn't quite fit the child class. In such cases, we re-implement the method in the child class. This process of re-implementing a method in the child class is known as Method Overriding."
   ]
  },
  {
   "cell_type": "code",
   "execution_count": 20,
   "metadata": {},
   "outputs": [],
   "source": [
    "class Bird:\n",
    "    def intro (self):\n",
    "        print(\"There are many types of birds.\")\n",
    "    def flight(self):\n",
    "        print(\"Most of the birds can fly but some cannot.\")\n",
    "class sparrow (Bird):\n",
    "    def flight(self):\n",
    "        print(\"i can fly\")\n",
    "class ostrich(Bird):\n",
    "    def flight(self):\n",
    "        print (\"i can't fly\")"
   ]
  },
  {
   "cell_type": "markdown",
   "metadata": {},
   "source": [
    "_protected\n",
    "__private"
   ]
  },
  {
   "cell_type": "code",
   "execution_count": 30,
   "metadata": {},
   "outputs": [
    {
     "name": "stdout",
     "output_type": "stream",
     "text": [
      "this is show  abc\n",
      "this is show  xyz\n"
     ]
    }
   ],
   "source": [
    "class A:\n",
    "    __name=\"abc\"\n",
    "    def setter(self):\n",
    "        self.__name=\"xyz\"\n",
    "    def getter(self):\n",
    "        return (self.__name)\n",
    "class B(A):\n",
    "    def show(self):\n",
    "        print(\"this is show \",self.getter())\n",
    "obj=B()\n",
    "obj.show()\n",
    "obj.setter()\n",
    "obj.show()"
   ]
  }
 ],
 "metadata": {
  "kernelspec": {
   "display_name": "Python 3",
   "language": "python",
   "name": "python3"
  },
  "language_info": {
   "codemirror_mode": {
    "name": "ipython",
    "version": 3
   },
   "file_extension": ".py",
   "mimetype": "text/x-python",
   "name": "python",
   "nbconvert_exporter": "python",
   "pygments_lexer": "ipython3",
   "version": "3.11.3"
  }
 },
 "nbformat": 4,
 "nbformat_minor": 2
}
