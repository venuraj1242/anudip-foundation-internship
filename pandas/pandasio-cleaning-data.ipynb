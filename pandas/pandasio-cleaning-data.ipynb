{
 "cells": [
  {
   "cell_type": "markdown",
   "metadata": {},
   "source": [
    "## What is a CSV?\n",
    "CSV stands for “Comma Separated Values”. It is the simplest form of storing data in\n",
    "tabular form as plain text. It is important to know how to work with CSV because we\n",
    "mostly rely on CSV data in our day-to-day lives as data scientists."
   ]
  },
  {
   "cell_type": "markdown",
   "metadata": {},
   "source": [
    "How to write CSV Files in Python Using Pandas \n",
    "### to_csv()"
   ]
  },
  {
   "cell_type": "code",
   "execution_count": 2,
   "metadata": {},
   "outputs": [
    {
     "name": "stdout",
     "output_type": "stream",
     "text": [
      "Data has been written to output.csv\n"
     ]
    }
   ],
   "source": [
    "import pandas as pd\n",
    "# Create a Pandas DataFrame\n",
    "data = {\n",
    "'Name': ['Alice', 'Bob', 'Charlie'],\n",
    "'Age': [25, 30, 35]\n",
    "}\n",
    "df = pd.DataFrame(data)\n",
    "\n",
    "csv_file_path = 'output.csv'\n",
    "# Write the DataFrame to a CSV file\n",
    "df.to_csv(csv_file_path, index=False) \n",
    "\n",
    "print(f'Data has been written to {csv_file_path}')"
   ]
  },
  {
   "cell_type": "markdown",
   "metadata": {},
   "source": [
    "How to Read CSV Files in Python Using Pandas?"
   ]
  },
  {
   "cell_type": "code",
   "execution_count": 3,
   "metadata": {},
   "outputs": [
    {
     "name": "stdout",
     "output_type": "stream",
     "text": [
      "Data has been written to output1.csv\n"
     ]
    }
   ],
   "source": [
    "data = {\n",
    "'OrderID': [101, 102, 103, 104, 105],\n",
    "'Product': ['Widget', 'Gadget', 'Widget', 'Doodad', 'Widget'],\n",
    "'Quantity': [10, 5, 0, 7, 15],\n",
    "'Status': ['Shipped', 'Canceled', 'Canceled', 'Shipped', 'Shipped']\n",
    "}\n",
    "df = pd.DataFrame(data)\n",
    "\n",
    "csv_file_path = 'output1.csv'\n",
    "# Write the DataFrame to a CSV file\n",
    "df.to_csv(csv_file_path, index=False) \n",
    "\n",
    "print(f'Data has been written to {csv_file_path}')"
   ]
  },
  {
   "cell_type": "code",
   "execution_count": 4,
   "metadata": {},
   "outputs": [
    {
     "name": "stdout",
     "output_type": "stream",
     "text": [
      "   OrderID Product  Quantity    Status\n",
      "0      101  Widget        10   Shipped\n",
      "1      102  Gadget         5  Canceled\n",
      "2      103  Widget         0  Canceled\n",
      "3      104  Doodad         7   Shipped\n",
      "4      105  Widget        15   Shipped\n",
      "\n",
      "   OrderID Product  Quantity    Status\n",
      "0      101  Widget        10   Shipped\n",
      "1      102  Gadget         5  Canceled\n",
      "2      103  Widget         0  Canceled\n",
      "\n",
      "  Product    Status\n",
      "0  Widget   Shipped\n",
      "1  Gadget  Canceled\n",
      "2  Widget  Canceled\n",
      "\n",
      "   OrderID  Quantity    Status\n",
      "0      101        10   Shipped\n",
      "1      102         5  Canceled\n",
      "2      103         0  Canceled\n"
     ]
    }
   ],
   "source": [
    "data=pd.read_csv(\"output1.csv\")\n",
    "print(data)\n",
    "print()\n",
    "data1=pd.read_csv(\"output1.csv\",nrows=3)\n",
    "print(data1) \n",
    "print()\n",
    "data2=pd.read_csv(\"output1.csv\",nrows=3,usecols=[\"Product\",\"Status\"])\n",
    "print(data2)\n",
    "print()\n",
    "data3=pd.read_csv(\"output1.csv\",nrows=3,usecols=[0,2,3])\n",
    "print(data3)\n"
   ]
  },
  {
   "cell_type": "code",
   "execution_count": 5,
   "metadata": {},
   "outputs": [
    {
     "name": "stdout",
     "output_type": "stream",
     "text": [
      "   OrderID Product  Quantity    Status\n",
      "0      101  Widget        10   Shipped\n",
      "1      102  Gadget         5  Canceled\n",
      "2      103  Widget         0  Canceled\n",
      "3      104  Doodad         7   Shipped\n",
      "4      105  Widget        15   Shipped\n",
      "\n",
      "   101  Widget  10   Shipped\n",
      "0  102  Gadget   5  Canceled\n",
      "1  104  Doodad   7   Shipped\n",
      "2  105  Widget  15   Shipped\n",
      "\n",
      "        Product  Quantity    Status\n",
      "OrderID                            \n",
      "101      Widget        10   Shipped\n",
      "102      Gadget         5  Canceled\n",
      "103      Widget         0  Canceled\n",
      "104      Doodad         7   Shipped\n",
      "105      Widget        15   Shipped\n",
      "\n",
      "   102  Gadget   5  Canceled\n",
      "0  103  Widget   0  Canceled\n",
      "1  104  Doodad   7   Shipped\n",
      "2  105  Widget  15   Shipped\n"
     ]
    }
   ],
   "source": [
    "data=pd.read_csv(\"output1.csv\")\n",
    "print(data)\n",
    "print()\n",
    "data4=pd.read_csv(\"output1.csv\",nrows=5,skiprows=[0,3])\n",
    "print(data4)\n",
    "print()\n",
    "data4=pd.read_csv(\"output1.csv\",index_col=\"OrderID\")\n",
    "print(data4)\n",
    "print()\n",
    "data5=pd.read_csv(\"output1.csv\",header=2)\n",
    "print(data5)"
   ]
  },
  {
   "cell_type": "code",
   "execution_count": 6,
   "metadata": {},
   "outputs": [
    {
     "name": "stdout",
     "output_type": "stream",
     "text": [
      "   OrderID Product  Quantity    Status\n",
      "0      101  Widget        10   Shipped\n",
      "1      102  Gadget         5  Canceled\n",
      "2      103  Widget         0  Canceled\n",
      "3      104  Doodad         7   Shipped\n",
      "4      105  Widget        15   Shipped\n",
      "\n",
      "      col1     col2      col3      col4  col5\n",
      "0  OrderID  Product  Quantity    Status   NaN\n",
      "1      101   Widget        10   Shipped   NaN\n",
      "2      102   Gadget         5  Canceled   NaN\n",
      "3      103   Widget         0  Canceled   NaN\n",
      "4      104   Doodad         7   Shipped   NaN\n",
      "5      105   Widget        15   Shipped   NaN\n"
     ]
    }
   ],
   "source": [
    "data=pd.read_csv(\"output1.csv\")\n",
    "print(data)\n",
    "print()\n",
    "data6=pd.read_csv(\"output1.csv\",names=[\"col1\",\"col2\",\"col3\",\"col4\",\"col5\"])\n",
    "print(data6)"
   ]
  },
  {
   "cell_type": "code",
   "execution_count": 7,
   "metadata": {},
   "outputs": [
    {
     "name": "stdout",
     "output_type": "stream",
     "text": [
      "Index\n",
      "RangeIndex(start=0, stop=5, step=1)\n",
      "\n",
      "columns\n",
      "Index(['OrderID', 'Product', 'Quantity', 'Status'], dtype='object')\n",
      "\n",
      "describe() function\n",
      "          OrderID  Quantity\n",
      "count    5.000000   5.00000\n",
      "mean   103.000000   7.40000\n",
      "std      1.581139   5.59464\n",
      "min    101.000000   0.00000\n",
      "25%    102.000000   5.00000\n",
      "50%    103.000000   7.00000\n",
      "75%    104.000000  10.00000\n",
      "max    105.000000  15.00000\n",
      "\n",
      "head function\n",
      "   OrderID Product  Quantity    Status\n",
      "0      101  Widget        10   Shipped\n",
      "1      102  Gadget         5  Canceled\n",
      "2      103  Widget         0  Canceled\n",
      "3      104  Doodad         7   Shipped\n",
      "4      105  Widget        15   Shipped\n",
      "\n",
      "tail function \n",
      "   OrderID Product  Quantity    Status\n",
      "0      101  Widget        10   Shipped\n",
      "1      102  Gadget         5  Canceled\n",
      "2      103  Widget         0  Canceled\n",
      "3      104  Doodad         7   Shipped\n",
      "4      105  Widget        15   Shipped\n",
      "\n",
      "tail function \n",
      "   OrderID Product  Quantity    Status\n",
      "2      103  Widget         0  Canceled\n",
      "3      104  Doodad         7   Shipped\n",
      "4      105  Widget        15   Shipped\n"
     ]
    }
   ],
   "source": [
    "print(\"Index\")\n",
    "data7=pd.read_csv(\"output1.csv\")\n",
    "print(data7.index)\n",
    "print()\n",
    "print(\"columns\")\n",
    "data8=pd.read_csv(\"output1.csv\")\n",
    "print(data8.columns)\n",
    "print()\n",
    "print(\"describe() function\")\n",
    "data8=pd.read_csv(\"output1.csv\")\n",
    "print(data8.describe())\n",
    "print()\n",
    "print(\"head function\")\n",
    "data9=pd.read_csv(\"output1.csv\")\n",
    "print(data9.head(  ))\n",
    "print()\n",
    "print(\"tail function \")\n",
    "data10=pd.read_csv(\"output1.csv\")\n",
    "print(data10.tail())\n",
    "print()\n",
    "print(\"tail function \")\n",
    "data11=pd.read_csv(\"output1.csv\")\n",
    "print(data11.tail(3))"
   ]
  },
  {
   "cell_type": "code",
   "execution_count": 8,
   "metadata": {},
   "outputs": [
    {
     "name": "stdout",
     "output_type": "stream",
     "text": [
      "   OrderID Product  Quantity    Status\n",
      "1      102  Gadget         5  Canceled\n",
      "2      103  Widget         0  Canceled\n",
      "\n",
      "info function \n",
      "<class 'pandas.core.frame.DataFrame'>\n",
      "RangeIndex: 5 entries, 0 to 4\n",
      "Data columns (total 4 columns):\n",
      " #   Column    Non-Null Count  Dtype \n",
      "---  ------    --------------  ----- \n",
      " 0   OrderID   5 non-null      int64 \n",
      " 1   Product   5 non-null      object\n",
      " 2   Quantity  5 non-null      int64 \n",
      " 3   Status    5 non-null      object\n",
      "dtypes: int64(2), object(2)\n",
      "memory usage: 292.0+ bytes\n",
      "None\n"
     ]
    }
   ],
   "source": [
    "data12=pd.read_csv(\"output1.csv\")\n",
    "print(data12[1:3])\n",
    "print()\n",
    "print(\"info function \")\n",
    "data13=pd.read_csv(\"output1.csv\")\n",
    "print(data13.info())"
   ]
  },
  {
   "cell_type": "code",
   "execution_count": 9,
   "metadata": {},
   "outputs": [
    {
     "name": "stdout",
     "output_type": "stream",
     "text": [
      "info function \n",
      "<class 'pandas.core.frame.DataFrame'>\n",
      "RangeIndex: 5 entries, 0 to 4\n",
      "Data columns (total 4 columns):\n",
      " #   Column    Non-Null Count  Dtype \n",
      "---  ------    --------------  ----- \n",
      " 0   OrderID   5 non-null      int64 \n",
      " 1   Product   5 non-null      object\n",
      " 2   Quantity  5 non-null      int64 \n",
      " 3   Status    5 non-null      object\n",
      "dtypes: int64(2), object(2)\n",
      "memory usage: 292.0+ bytes\n",
      "None\n",
      "\n",
      "info function \n",
      "<class 'pandas.core.frame.DataFrame'>\n",
      "RangeIndex: 5 entries, 0 to 4\n",
      "Columns: 4 entries, OrderID to Status\n",
      "dtypes: int64(2), object(2)\n",
      "memory usage: 292.0+ bytes\n",
      "None\n",
      "\n"
     ]
    }
   ],
   "source": [
    "print(\"info function \")\n",
    "data13=pd.read_csv(\"output1.csv\")\n",
    "print(data13.info())\n",
    "print()\n",
    "print(\"info function \")\n",
    "data14=pd.read_csv(\"output1.csv\")\n",
    "print(data14.info(verbose=False))\n",
    "print()\n"
   ]
  },
  {
   "cell_type": "code",
   "execution_count": 10,
   "metadata": {},
   "outputs": [
    {
     "name": "stdout",
     "output_type": "stream",
     "text": [
      "info function \n",
      "<class 'pandas.core.frame.DataFrame'>\n",
      "RangeIndex: 5 entries, 0 to 4\n",
      "Columns: 4 entries, OrderID to Status\n",
      "dtypes: int64(2), object(2)\n",
      "memory usage: 292.0+ bytes\n",
      "None\n",
      "\n",
      "info function \n",
      "<class 'pandas.core.frame.DataFrame'>\n",
      "RangeIndex: 5 entries, 0 to 4\n",
      "Data columns (total 4 columns):\n",
      " #   Column    Non-Null Count  Dtype \n",
      "---  ------    --------------  ----- \n",
      " 0   OrderID   5 non-null      int64 \n",
      " 1   Product   5 non-null      object\n",
      " 2   Quantity  5 non-null      int64 \n",
      " 3   Status    5 non-null      object\n",
      "dtypes: int64(2), object(2)\n",
      "memory usage: 292.0+ bytes\n",
      "None\n",
      "\n"
     ]
    }
   ],
   "source": [
    "print(\"info function \")\n",
    "data15=pd.read_csv(\"output1.csv\")\n",
    "print(data15.info(max_cols=1))\n",
    "print()\n",
    "print(\"info function \")\n",
    "data16=pd.read_csv(\"output1.csv\")\n",
    "print(data16.info(memory_usage=True))\n",
    "print()"
   ]
  },
  {
   "cell_type": "code",
   "execution_count": 11,
   "metadata": {},
   "outputs": [
    {
     "name": "stdout",
     "output_type": "stream",
     "text": [
      "count function \n",
      "OrderID     5\n",
      "Product     5\n",
      "Quantity    5\n",
      "Status      5\n",
      "dtype: int64\n",
      "\n"
     ]
    }
   ],
   "source": [
    "print(\"count function \")\n",
    "data16=pd.read_csv(\"output1.csv\")\n",
    "print(data16.count())\n",
    "print()"
   ]
  },
  {
   "cell_type": "code",
   "execution_count": 12,
   "metadata": {},
   "outputs": [
    {
     "name": "stdout",
     "output_type": "stream",
     "text": [
      "OrderID  Product  Quantity  Status  \n",
      "101      Widget   10        Shipped     1\n",
      "102      Gadget   5         Canceled    1\n",
      "103      Widget   0         Canceled    1\n",
      "104      Doodad   7         Shipped     1\n",
      "105      Widget   15        Shipped     1\n",
      "Name: count, dtype: int64\n",
      "\n",
      "Before Removing nan Values\n",
      "<class 'pandas.core.frame.DataFrame'>\n",
      "RangeIndex: 5 entries, 0 to 4\n",
      "Data columns (total 4 columns):\n",
      " #   Column    Non-Null Count  Dtype \n",
      "---  ------    --------------  ----- \n",
      " 0   OrderID   5 non-null      int64 \n",
      " 1   Product   5 non-null      object\n",
      " 2   Quantity  5 non-null      int64 \n",
      " 3   Status    5 non-null      object\n",
      "dtypes: int64(2), object(2)\n",
      "memory usage: 292.0+ bytes\n",
      "None\n",
      "After Removing nan Values\n",
      "<class 'pandas.core.frame.DataFrame'>\n",
      "RangeIndex: 5 entries, 0 to 4\n",
      "Data columns (total 4 columns):\n",
      " #   Column    Non-Null Count  Dtype \n",
      "---  ------    --------------  ----- \n",
      " 0   OrderID   5 non-null      int64 \n",
      " 1   Product   5 non-null      object\n",
      " 2   Quantity  5 non-null      int64 \n",
      " 3   Status    5 non-null      object\n",
      "dtypes: int64(2), object(2)\n",
      "memory usage: 292.0+ bytes\n",
      "None\n",
      "\n",
      "\n",
      "Number of duplicate rows: 0\n"
     ]
    }
   ],
   "source": [
    "data16=pd.read_csv(\"output1.csv\")\n",
    "print(data16.value_counts())\n",
    "print()\n",
    "#printing the nan values\n",
    "print(\"Before Removing nan Values\")\n",
    "print(data16.info())\n",
    "#removing the nan values\n",
    "data.dropna(inplace=True)\n",
    "print(\"After Removing nan Values\")\n",
    "print(data16.info())\n",
    "\n",
    "print()\n",
    "print()\n",
    "#Find the duplicate values\n",
    "duplicate_rows = data.duplicated()\n",
    "#Printing the no of duplicate rows\n",
    "print(\"Number of duplicate rows:\", duplicate_rows.sum())"
   ]
  },
  {
   "cell_type": "markdown",
   "metadata": {},
   "source": [
    "## 6. Save the cleaned datase"
   ]
  },
  {
   "cell_type": "code",
   "execution_count": 13,
   "metadata": {},
   "outputs": [
    {
     "name": "stdout",
     "output_type": "stream",
     "text": [
      "Data has been written to duplicates.csv\n"
     ]
    }
   ],
   "source": [
    "\n",
    "import pandas as pd\n",
    "import numpy as np\n",
    "\n",
    "# Create sample data with null and duplicate values\n",
    "data = {\n",
    "    'Student ID': [10001, 10002, 10001, 10002, 10004, 10005],\n",
    "    'Name': ['Alice Smith', 'Bob Jones', 'Alice Smith', 'Bob Jones', 'Diana Garcia', 'Emily Wilson'],\n",
    "    'Age': [18, 19, 18, 20, 21, 18],  # Introducing null value\n",
    "    'Grade': ['A', 'B', 'A', 'B', 'A', 'B'],\n",
    "    'Major': ['Computer Science', 'Mathematics', 'Computer Science', 'Mathematics', 'Business', 'Biology'],\n",
    "    'GPA': [3.8, 3.5, 3.8, 3.5, 3.9, 3.7],\n",
    "    'City': ['New York', 'Los Angeles', \"New York\", None, 'Miami', 'Houston']\n",
    "}\n",
    "df = pd.DataFrame(data)\n",
    "\n",
    "csv_file_path = 'duplicates.csv'\n",
    "df.to_csv(csv_file_path, index=False)\n",
    "\n",
    "print(f'Data has been written to {csv_file_path}')"
   ]
  },
  {
   "cell_type": "code",
   "execution_count": 14,
   "metadata": {},
   "outputs": [
    {
     "name": "stdout",
     "output_type": "stream",
     "text": [
      "Before removing checking no of row and col\n",
      "(6, 7)\n",
      "   Student ID          Name  Age Grade             Major  GPA         City\n",
      "0       10001   Alice Smith   18     A  Computer Science  3.8     New York\n",
      "1       10002     Bob Jones   19     B       Mathematics  3.5  Los Angeles\n",
      "2       10001   Alice Smith   18     A  Computer Science  3.8     New York\n",
      "3       10002     Bob Jones   20     B       Mathematics  3.5          NaN\n",
      "4       10004  Diana Garcia   21     A          Business  3.9        Miami\n",
      "5       10005  Emily Wilson   18     B           Biology  3.7      Houston\n",
      "After removing checking no of row and col\n",
      "(5, 7)\n",
      "After removing Nan values no of row and col\n",
      "(4, 7)\n",
      "Data Saved \n",
      "   Student ID          Name  Age Grade             Major  GPA         City\n",
      "0       10001   Alice Smith   18     A  Computer Science  3.8     New York\n",
      "1       10002     Bob Jones   19     B       Mathematics  3.5  Los Angeles\n",
      "4       10004  Diana Garcia   21     A          Business  3.9        Miami\n",
      "5       10005  Emily Wilson   18     B           Biology  3.7      Houston\n"
     ]
    }
   ],
   "source": [
    "#import pandas\n",
    "import pandas as pd\n",
    "\n",
    "#read the data from the csv file\n",
    "data = pd.read_csv('duplicates.csv')\n",
    "#Before removing checking no of row and col\n",
    "print(\"Before removing checking no of row and col\")\n",
    "print(data.shape)\n",
    "print(data)\n",
    "#Remove duplicate values\n",
    "data.drop_duplicates(inplace=True)\n",
    "#After removing checking no of row and col\n",
    "print(\"After removing checking no of row and col\")\n",
    "print(data.shape)\n",
    "data.dropna(inplace=True)\n",
    "print(\"After removing Nan values no of row and col\")\n",
    "print(data.shape)\n",
    "#Save the files\n",
    "data.to_csv('cleaned_data.csv', index=False)\n",
    "print(\"Data Saved \")\n",
    "print(data)"
   ]
  },
  {
   "cell_type": "markdown",
   "metadata": {},
   "source": [
    "drop_duplicates() Function"
   ]
  },
  {
   "cell_type": "code",
   "execution_count": 15,
   "metadata": {},
   "outputs": [
    {
     "name": "stdout",
     "output_type": "stream",
     "text": [
      "Data has been written to duplicates.csv\n",
      "Before Removing Number of duplicate rows: 1\n",
      "   Student ID         Name  Age Grade             Major  GPA      City\n",
      "2       10001  Alice Smith   18     A  Computer Science  3.8  New York\n",
      "After Removing Number of duplicate rows: 0\n",
      "Empty DataFrame\n",
      "Columns: [Student ID, Name, Age, Grade, Major, GPA, City]\n",
      "Index: []\n",
      "   Student ID          Name  Age Grade             Major  GPA         City\n",
      "0       10001   Alice Smith   18     A  Computer Science  3.8     New York\n",
      "1       10002     Bob Jones   19     B       Mathematics  3.5  Los Angeles\n",
      "3       10002     Bob Jones   20     B       Mathematics  3.5         None\n",
      "4       10004  Diana Garcia   21     A          Business  3.9        Miami\n",
      "5       10005  Emily Wilson   18     B           Biology  3.7      Houston\n"
     ]
    }
   ],
   "source": [
    "\n",
    "import pandas as pd\n",
    "import numpy as np\n",
    "\n",
    "# Create sample data with null and duplicate values\n",
    "data = {\n",
    "    'Student ID': [10001, 10002, 10001, 10002, 10004, 10005],\n",
    "    'Name': ['Alice Smith', 'Bob Jones', 'Alice Smith', 'Bob Jones', 'Diana Garcia', 'Emily Wilson'],\n",
    "    'Age': [18, 19, 18, 20, 21, 18],  # Introducing null value\n",
    "    'Grade': ['A', 'B', 'A', 'B', 'A', 'B'],\n",
    "    'Major': ['Computer Science', 'Mathematics', 'Computer Science', 'Mathematics', 'Business', 'Biology'],\n",
    "    'GPA': [3.8, 3.5, 3.8, 3.5, 3.9, 3.7],\n",
    "    'City': ['New York', 'Los Angeles', \"New York\", None, 'Miami', 'Houston']\n",
    "}\n",
    "\n",
    "df = pd.DataFrame(data)\n",
    "\n",
    "csv_file_path = 'duplicates.csv'\n",
    "df.to_csv(csv_file_path, index=False)\n",
    "\n",
    "data = pd.DataFrame(data)\n",
    "print(f'Data has been written to {csv_file_path}')\n",
    "#Find the duplicate values\n",
    "duplicate_rows = data.duplicated()\n",
    "#Printing the no of duplicate rows\n",
    "print(\"Before Removing Number of duplicate rows:\", duplicate_rows.sum())\n",
    "print(data[duplicate_rows])\n",
    "#Removing duplicate values\n",
    "data.drop_duplicates(inplace=True)\n",
    "#Find the duplicate values\n",
    "duplicate_rows = data.duplicated()\n",
    "#Printing the no of duplicate rows\n",
    "print(\"After Removing Number of duplicate rows:\", duplicate_rows.sum())\n",
    "print(data[duplicate_rows])\n",
    "data.to_csv('after_drop.csv',index=False)\n",
    "print(data)"
   ]
  },
  {
   "cell_type": "markdown",
   "metadata": {},
   "source": [
    "## gpt"
   ]
  },
  {
   "cell_type": "code",
   "execution_count": 16,
   "metadata": {},
   "outputs": [
    {
     "name": "stdout",
     "output_type": "stream",
     "text": [
      "   Student ID     Name  Age Grade             Major  GPA         City\n",
      "0        1001    Alice   18     A  Computer Science  3.8     New York\n",
      "1        1002      Bob   19     B              Math  3.5  Los Angeles\n",
      "2        1003  Charlie   20     C           Physics  3.2      Chicago\n",
      "3        1001    Alice   18     A  Computer Science  NaN     New York\n",
      "4        1004    David   21     A           History  3.9      Houston\n",
      "Shape of the DataFrame: (5, 7)\n",
      "\n",
      "Information about the DataFrame:\n",
      "<class 'pandas.core.frame.DataFrame'>\n",
      "RangeIndex: 5 entries, 0 to 4\n",
      "Data columns (total 7 columns):\n",
      " #   Column      Non-Null Count  Dtype  \n",
      "---  ------      --------------  -----  \n",
      " 0   Student ID  5 non-null      int64  \n",
      " 1   Name        5 non-null      object \n",
      " 2   Age         5 non-null      int64  \n",
      " 3   Grade       5 non-null      object \n",
      " 4   Major       5 non-null      object \n",
      " 5   GPA         4 non-null      float64\n",
      " 6   City        5 non-null      object \n",
      "dtypes: float64(1), int64(2), object(4)\n",
      "memory usage: 412.0+ bytes\n",
      "None\n",
      "\n",
      "Descriptive statistics:\n",
      "       Student ID       Age       GPA\n",
      "count     5.00000   5.00000  4.000000\n",
      "mean   1002.20000  19.20000  3.600000\n",
      "std       1.30384   1.30384  0.316228\n",
      "min    1001.00000  18.00000  3.200000\n",
      "25%    1001.00000  18.00000  3.425000\n",
      "50%    1002.00000  19.00000  3.650000\n",
      "75%    1003.00000  20.00000  3.825000\n",
      "max    1004.00000  21.00000  3.900000\n"
     ]
    }
   ],
   "source": [
    "import pandas as pd\n",
    "import numpy as np\n",
    "\n",
    "# Create sample student data with potential duplicates and missing values\n",
    "data = {\n",
    "    'Student ID': [1001, 1002, 1003, 1001, 1004],\n",
    "    'Name': ['Alice', 'Bob', 'Charlie', 'Alice', 'David'],\n",
    "    'Age': [18, 19, 20, 18, 21],\n",
    "    'Grade': ['A', 'B', 'C', 'A', 'A'],\n",
    "    'Major': ['Computer Science', 'Math', 'Physics', 'Computer Science', 'History'],\n",
    "    'GPA': [3.8, 3.5, 3.2, np.nan, 3.9],  # Introduce a missing value\n",
    "    'City': ['New York', 'Los Angeles', 'Chicago', 'New York', 'Houston']\n",
    "}\n",
    "\n",
    "# Create DataFrame\n",
    "df = pd.DataFrame(data)\n",
    "\n",
    "# Drop duplicate rows based on all columns\n",
    "df = df.drop_duplicates()\n",
    "print(df)\n",
    "\n",
    "# Display shape of the DataFrame\n",
    "print(\"Shape of the DataFrame:\", df.shape)\n",
    "\n",
    "# Display information about the DataFrame\n",
    "print(\"\\nInformation about the DataFrame:\")\n",
    "print(df.info())\n",
    "\n",
    "# Display descriptive statistics\n",
    "print(\"\\nDescriptive statistics:\")\n",
    "print(df.describe())"
   ]
  }
 ],
 "metadata": {
  "kernelspec": {
   "display_name": "Python 3",
   "language": "python",
   "name": "python3"
  },
  "language_info": {
   "codemirror_mode": {
    "name": "ipython",
    "version": 3
   },
   "file_extension": ".py",
   "mimetype": "text/x-python",
   "name": "python",
   "nbconvert_exporter": "python",
   "pygments_lexer": "ipython3",
   "version": "3.11.3"
  }
 },
 "nbformat": 4,
 "nbformat_minor": 2
}
