{
 "cells": [
  {
   "cell_type": "markdown",
   "metadata": {},
   "source": [
    "We can calculate the mean, median, mode, maximum values, minimum values of\n",
    "individual columns and simply use these functions"
   ]
  },
  {
   "cell_type": "code",
   "execution_count": 18,
   "metadata": {},
   "outputs": [
    {
     "name": "stdout",
     "output_type": "stream",
     "text": [
      " Mean of Age : 19.0\n",
      " Median of Age : 18.5\n",
      " Mode of Age : 18\n",
      " Standard deviation of Age : 1.26\n",
      " Maximum of Age : 21\n",
      " Minimum of Age : 18\n"
     ]
    }
   ],
   "source": [
    "import pandas as pd\n",
    "# Provide the path to your CSV file\n",
    "csv_file_path = 'duplicates.csv' # Replace with the actual path to your CSV file\n",
    "# Use read_csv to read the data from the CSV file into a DataFrame\n",
    "df = pd.read_csv(csv_file_path)\n",
    "# Calculate Mean\n",
    "mean = df['Age'].mean()\n",
    "# Calculate Median\n",
    "median = df['Age'].median()\n",
    "#Calculate Mode\n",
    "mode = df['Age'].mode().iloc[0]\n",
    "# mode1 = df['Age'].mode()\n",
    "# Calculate standard deviation\n",
    "std = df['Age'].std()\n",
    "# Calculate Minimum values\n",
    "minimum = df['Age'].min()\n",
    "# Calculate Maximum values\n",
    "maximum = df.Age.max()\n",
    "print(f\" Mean of Age : {mean}\")\n",
    "print(f\" Median of Age : {median}\")\n",
    "print(f\" Mode of Age : {mode}\")\n",
    "# print(f\" Mode of Age1 : {mode1}\")\n",
    "print(f\" Standard deviation of Age : {std:.2f}\")\n",
    "print(f\" Maximum of Age : {maximum}\")\n",
    "print(f\" Minimum of Age : {minimum}\")"
   ]
  },
  {
   "cell_type": "markdown",
   "metadata": {},
   "source": [
    "Number of unique values in the category colum"
   ]
  },
  {
   "cell_type": "code",
   "execution_count": 24,
   "metadata": {},
   "outputs": [
    {
     "name": "stdout",
     "output_type": "stream",
     "text": [
      "4\n"
     ]
    }
   ],
   "source": [
    "import pandas as pd\n",
    "# Provide the path to your CSV file\n",
    "csv_file_path = 'duplicates.csv' # Replace with the actual path to your CSV file\n",
    "# Use read_csv to read the data from the CSV file into a DataFrame\n",
    "df = pd.read_csv(csv_file_path)\n",
    "# Printing Unique values\n",
    "print(df['Name'].nunique())"
   ]
  },
  {
   "cell_type": "markdown",
   "metadata": {},
   "source": [
    "Show all unique values"
   ]
  },
  {
   "cell_type": "code",
   "execution_count": 26,
   "metadata": {},
   "outputs": [
    {
     "name": "stdout",
     "output_type": "stream",
     "text": [
      "['Alice Smith' 'Bob Jones' 'Diana Garcia' 'Emily Wilson']\n"
     ]
    }
   ],
   "source": [
    "import pandas as pd\n",
    "# Provide the path to your CSV file\n",
    "csv_file_path = 'duplicates.csv' # Replace with the actual path to your CSV file\n",
    "# Use read_csv to read the data from the CSV file into a DataFrame\n",
    "df = pd.read_csv(csv_file_path)\n",
    "# Printing Unique values\n",
    "print(df['Name'].unique())"
   ]
  },
  {
   "cell_type": "markdown",
   "metadata": {},
   "source": [
    "Counts of unique values"
   ]
  },
  {
   "cell_type": "code",
   "execution_count": 30,
   "metadata": {},
   "outputs": [
    {
     "name": "stdout",
     "output_type": "stream",
     "text": [
      "Name\n",
      "Alice Smith     2\n",
      "Bob Jones       2\n",
      "Diana Garcia    1\n",
      "Emily Wilson    1\n",
      "Name: count, dtype: int64\n",
      "\n",
      "Student ID  Name          Age  Grade  Major             GPA  City       \n",
      "10001       Alice Smith   18   A      Computer Science  3.8  New York       2\n",
      "10002       Bob Jones     19   B      Mathematics       3.5  Los Angeles    1\n",
      "10004       Diana Garcia  21   A      Business          3.9  Miami          1\n",
      "10005       Emily Wilson  18   B      Biology           3.7  Houston        1\n",
      "Name: count, dtype: int64\n"
     ]
    }
   ],
   "source": [
    "import pandas as pd\n",
    "# Provide the path to your CSV file\n",
    "csv_file_path = 'duplicates.csv' # Replace with the actual path to your CSV file\n",
    "# Use read_csv to read the data from the CSV file into a DataFrame\n",
    "df = pd.read_csv(csv_file_path)\n",
    "# Counts of unique values\n",
    "print(df['Name'].value_counts())\n",
    "print()\n",
    "print(df.value_counts())"
   ]
  },
  {
   "cell_type": "markdown",
   "metadata": {},
   "source": [
    "Sort values"
   ]
  },
  {
   "cell_type": "code",
   "execution_count": 33,
   "metadata": {},
   "outputs": [
    {
     "name": "stdout",
     "output_type": "stream",
     "text": [
      "   Student ID         Name  Age Grade             Major  GPA         City\n",
      "0       10001  Alice Smith   18     A  Computer Science  3.8     New York\n",
      "2       10001  Alice Smith   18     A  Computer Science  3.8     New York\n",
      "1       10002    Bob Jones   19     B       Mathematics  3.5  Los Angeles\n"
     ]
    }
   ],
   "source": [
    "import pandas as pd\n",
    "# Provide the path to your CSV file\n",
    "csv_file_path = 'duplicates.csv' # Replace with the actual path to your CSV file\n",
    "# Use read_csv to read the data from the CSV file into a DataFrame\n",
    "df = pd.read_csv(csv_file_path)\n",
    "# Sort Values by State Names\n",
    "print(df.sort_values(by=['Name']).head(3))"
   ]
  },
  {
   "cell_type": "markdown",
   "metadata": {},
   "source": [
    "For sorting our data frame by Amount_spent with descending order"
   ]
  },
  {
   "cell_type": "code",
   "execution_count": 36,
   "metadata": {},
   "outputs": [
    {
     "name": "stdout",
     "output_type": "stream",
     "text": [
      "   Student ID          Name  Age Grade        Major  GPA         City\n",
      "5       10005  Emily Wilson   18     B      Biology  3.7      Houston\n",
      "4       10004  Diana Garcia   21     A     Business  3.9        Miami\n",
      "1       10002     Bob Jones   19     B  Mathematics  3.5  Los Angeles\n"
     ]
    }
   ],
   "source": [
    "import pandas as pd\n",
    "# Provide the path to your CSV file\n",
    "csv_file_path = 'duplicates.csv' \n",
    "# Use read_csv to read the data from the CSV file into a DataFrame\n",
    "df = pd.read_csv(csv_file_path)\n",
    "# Sort Values Amount_spent with descending order\n",
    "print(df.sort_values(by=['Name'], ascending=False).head(3))"
   ]
  },
  {
   "cell_type": "markdown",
   "metadata": {},
   "source": [
    "nlargest()"
   ]
  },
  {
   "cell_type": "code",
   "execution_count": 39,
   "metadata": {},
   "outputs": [
    {
     "name": "stdout",
     "output_type": "stream",
     "text": [
      "   Student ID          Name  Age Grade             Major  GPA      City\n",
      "4       10004  Diana Garcia   21     A          Business  3.9     Miami\n",
      "0       10001   Alice Smith   18     A  Computer Science  3.8  New York\n"
     ]
    }
   ],
   "source": [
    "import pandas as pd\n",
    "# Provide the path to your CSV file\n",
    "csv_file_path = 'duplicates.csv' # Replace with the actual path to your CSV file\n",
    "\n",
    "# Use read_csv to read the data from the CSV file into a DataFrame\n",
    "df = pd.read_csv(csv_file_path)\n",
    "# nlargest\n",
    "print(df.nlargest(2, 'GPA')) # first argument is how many rows you want to\n",
    "#display and second one is columns name"
   ]
  },
  {
   "cell_type": "markdown",
   "metadata": {},
   "source": [
    "nsmallest"
   ]
  },
  {
   "cell_type": "code",
   "execution_count": 41,
   "metadata": {},
   "outputs": [
    {
     "name": "stdout",
     "output_type": "stream",
     "text": [
      "   Student ID       Name  Age Grade        Major  GPA         City\n",
      "1       10002  Bob Jones   19     B  Mathematics  3.5  Los Angeles\n",
      "3       10002  Bob Jones   20     B  Mathematics  3.5          NaN\n"
     ]
    }
   ],
   "source": [
    "import pandas as pd\n",
    "# Provide the path to your CSV file\n",
    "csv_file_path = 'duplicates.csv' # Replace with the actual path to your CSV file\n",
    "\n",
    "# Use read_csv to read the data from the CSV file into a DataFrame\n",
    "df = pd.read_csv(csv_file_path)\n",
    "# nlargest\n",
    "print(df.nsmallest(2, 'GPA')) # first argument is how many rows you want to\n",
    "#display and second one is columns name"
   ]
  },
  {
   "cell_type": "markdown",
   "metadata": {},
   "source": [
    "Conditional queries on Data"
   ]
  },
  {
   "cell_type": "code",
   "execution_count": 43,
   "metadata": {},
   "outputs": [
    {
     "name": "stdout",
     "output_type": "stream",
     "text": [
      "   Student ID          Name  Age Grade             Major  GPA      City\n",
      "0       10001   Alice Smith   18     A  Computer Science  3.8  New York\n",
      "2       10001   Alice Smith   18     A  Computer Science  3.8  New York\n",
      "5       10005  Emily Wilson   18     B           Biology  3.7   Houston\n"
     ]
    }
   ],
   "source": [
    "import pandas as pd\n",
    "# Provide the path to your CSV file\n",
    "csv_file_path = 'duplicates.csv' # Replace with the actual path to your CSV file\n",
    "\n",
    "# Use read_csv to read the data from the CSV file into a DataFrame\n",
    "df = pd.read_csv(csv_file_path)\n",
    "# filtering - Only show Paypal users\n",
    "condition = df['Age'] == 18\n",
    "# display top 4 rows\n",
    "print(df[condition].head(4))"
   ]
  },
  {
   "cell_type": "markdown",
   "metadata": {},
   "source": [
    "We can apply multiple conditional queries like these"
   ]
  },
  {
   "cell_type": "code",
   "execution_count": 48,
   "metadata": {},
   "outputs": [
    {
     "name": "stdout",
     "output_type": "stream",
     "text": [
      "   Student ID          Name  Age Grade        Major  GPA     City\n",
      "3       10002     Bob Jones   18     B  Mathematics  3.5      NaN\n",
      "5       10005  Emily Wilson   18     B      Biology  3.7  Houston\n"
     ]
    }
   ],
   "source": [
    "import pandas as pd\n",
    "# Provide the path to your CSV file\n",
    "csv_file_path = 'duplicates.csv' # Replace with the actual path to your CSV file\n",
    "\n",
    "df = pd.read_csv(csv_file_path)\n",
    "# first create 3 condition\n",
    "grade_b = df['Grade'] == 'B'\n",
    "age_18 = df['Age'] == 18\n",
    "gpa_3 = df['GPA'] >= 3\n",
    "# we passing condition on our dataframe\n",
    "# printing top 4 records meeting the above criteria\n",
    "print(df[grade_b & age_18 & gpa_3].head(4))"
   ]
  },
  {
   "cell_type": "markdown",
   "metadata": {},
   "source": [
    "Summarizing or grouping data"
   ]
  },
  {
   "cell_type": "code",
   "execution_count": 52,
   "metadata": {},
   "outputs": [
    {
     "name": "stdout",
     "output_type": "stream",
     "text": [
      "                  Age  GPA\n",
      "Major                     \n",
      "Biology            18  3.7\n",
      "Business           21  3.9\n",
      "Computer Science   18  3.8\n",
      "Mathematics        19  3.9\n"
     ]
    }
   ],
   "source": [
    "import pandas as pd\n",
    "# Provide the path to your CSV file\n",
    "csv_file_path = 'duplicates.csv' # Replace with the actual path to your CSV file\n",
    "# Use read_csv to read the data from the CSV file into a DataFrame\n",
    "df = pd.read_csv(csv_file_path)\n",
    "print(df[['Age', 'GPA']].groupby(df['Major']).max())"
   ]
  },
  {
   "cell_type": "markdown",
   "metadata": {},
   "source": [
    "To find mean, count, and max values of Age and Amount_spent by Gender then we can\n",
    "use the agg() function with groupby()."
   ]
  },
  {
   "cell_type": "code",
   "execution_count": 65,
   "metadata": {},
   "outputs": [
    {
     "name": "stdout",
     "output_type": "stream",
     "text": [
      "   Student ID          Name  Age Grade             Major  GPA         City\n",
      "0       10001   Alice Smith   18     A  Computer Science  3.8     New York\n",
      "1       10002     Bob Jones   19     B       Mathematics  3.5  Los Angeles\n",
      "2       10001   Alice Smith   18     A  Computer Science  3.8     New York\n",
      "3       10002     Bob Jones   18     B       Mathematics  3.5          NaN\n",
      "4       10004  Diana Garcia   21     A          Business  3.9        Miami\n",
      "5       10005  Emily Wilson   18     B           Biology  3.7      Houston\n",
      "6       10006         Alice   18     A  Computer Science  3.1     New York\n",
      "7       10007           Bob   18     B       Mathematics  3.9          aaa\n",
      "8       10008        Diana    21     A          Business  3.9        Miami\n",
      "9       10009         Emily   18     B           Biology  3.2      Houston\n",
      "        Age             GPA           \n",
      "      count  mean max count  mean  max\n",
      "Grade                                 \n",
      "A         5  19.2  21     5  3.70  3.9\n",
      "B         5  18.2  19     5  3.56  3.9\n"
     ]
    }
   ],
   "source": [
    "import pandas as pd\n",
    "# Provide the path to your CSV file\n",
    "csv_file_path = 'duplicates.csv' # Replace with the actual path to your CSV file\n",
    "# Use read_csv to read the data from the CSV file into a DataFrame\n",
    "df = pd.read_csv(csv_file_path)\n",
    "print(df)\n",
    "# Group by one columns\n",
    "print(df[['Age','GPA']].groupby(df['Grade']).agg(['count', 'mean','max']))"
   ]
  },
  {
   "cell_type": "markdown",
   "metadata": {},
   "source": [
    "Cross Tabulation (Cross tab)"
   ]
  },
  {
   "cell_type": "markdown",
   "metadata": {},
   "source": [
    "### crosstab()\n",
    "Cross tabulation(also referred to as cross tab) is a method to quantitatively analyze the\n",
    "relationship between multiple variables. Also known as contingency tables\n",
    "\n",
    "pandas.crosstab(index, columns, values=None, rownames=None, colnames=None,\n",
    "aggfunc=None, margins=False, margins_name='All', dropna=True, normalize=False)"
   ]
  },
  {
   "cell_type": "code",
   "execution_count": 2,
   "metadata": {},
   "outputs": [
    {
     "name": "stdout",
     "output_type": "stream",
     "text": [
      "Age               18  19  21\n",
      "Major                       \n",
      "Biology            2   0   0\n",
      "Business           0   0   2\n",
      "Computer Science   3   0   0\n",
      "Mathematics        2   1   0\n"
     ]
    }
   ],
   "source": [
    "import pandas as pd\n",
    "# Provide the path to your CSV file\n",
    "csv_file_path = 'duplicates.csv' # Replace with the actual path to your CSV file\n",
    "# Use read_csv to read the data from the CSV file into a DataFrame\n",
    "df = pd.read_csv(csv_file_path)\n",
    "print(pd.crosstab(df.Major, df.Age))"
   ]
  },
  {
   "cell_type": "markdown",
   "metadata": {},
   "source": [
    "If We want a display with percentage than normalize=True parameter help\n",
    "Syntax:\n",
    "pd.crosstab(df.Marital_status, df.Payment_method, normalize=True, margins=True,\n",
    "margins_name=\"Total\")"
   ]
  },
  {
   "cell_type": "code",
   "execution_count": 6,
   "metadata": {},
   "outputs": [
    {
     "name": "stdout",
     "output_type": "stream",
     "text": [
      "Age                18   19   21  Total\n",
      "Major                                 \n",
      "Biology           0.2  0.0  0.0    0.2\n",
      "Business          0.0  0.0  0.2    0.2\n",
      "Computer Science  0.3  0.0  0.0    0.3\n",
      "Mathematics       0.2  0.1  0.0    0.3\n",
      "Total             0.7  0.1  0.2    1.0\n"
     ]
    }
   ],
   "source": [
    "import pandas as pd\n",
    "# Provide the path to your CSV file\n",
    "csv_file_path = 'duplicates.csv' # Replace with the actual path to your CSV file\n",
    "# Use read_csv to read the data from the CSV file into a DataFrame\n",
    "df = pd.read_csv(csv_file_path)\n",
    "print(pd.crosstab(df.Major, df.Age, normalize=True,\n",
    "margins=True, margins_name=\"Total\"))"
   ]
  },
  {
   "cell_type": "markdown",
   "metadata": {},
   "source": [
    "In these cross tab features, we can pass multiple columns names for grouping and\n",
    "analyzing data. For instance, If we want to see how the Payment_method and\n",
    "Employees_status are distributed by Marital_status then we will pass these columns’\n",
    "names in crosstab() function and it will show below.\n",
    "Syntax:\n",
    "pd.crosstab(df.Marital_status, [df.Payment_method, df.Employees_status])"
   ]
  },
  {
   "cell_type": "code",
   "execution_count": 4,
   "metadata": {},
   "outputs": [
    {
     "name": "stdout",
     "output_type": "stream",
     "text": [
      "Age              18    19 21\n",
      "Grade             A  B  B  A\n",
      "Major                       \n",
      "Biology           0  2  0  0\n",
      "Business          0  0  0  2\n",
      "Computer Science  3  0  0  0\n",
      "Mathematics       0  2  1  0\n"
     ]
    }
   ],
   "source": [
    "import pandas as pd\n",
    "# Provide the path to your CSV file\n",
    "csv_file_path = 'duplicates.csv' # Replace with the actual path to your CSV file\n",
    "# Use read_csv to read the data from the CSV file into a DataFrame\n",
    "df = pd.read_csv(csv_file_path)\n",
    "print(pd.crosstab(df.Major, [df.Age, df.Grade]))"
   ]
  },
  {
   "cell_type": "markdown",
   "metadata": {},
   "source": [
    "Here's a simple example to illustrate correlation"
   ]
  },
  {
   "cell_type": "code",
   "execution_count": 1,
   "metadata": {},
   "outputs": [
    {
     "name": "stdout",
     "output_type": "stream",
     "text": [
      "Correlation between Hours Studied and Exam Scores: 1.0\n"
     ]
    }
   ],
   "source": [
    "import pandas as pd\n",
    "# Sample data\n",
    "data = {\n",
    "'Hours Studied': [1, 2, 3, 4, 5, 6, 7, 8, 9,10],\n",
    "'Exam Scores': [50, 55, 60, 65, 70, 75, 80, 85, 90, 95]\n",
    "}\n",
    "# Create a DataFrame\n",
    "df = pd.DataFrame(data)\n",
    "# Calculate the correlation\n",
    "correlation = df['Hours Studied'].corr(df['Exam Scores'])\n",
    "print(\"Correlation between Hours Studied and Exam Scores:\", correlation)"
   ]
  },
  {
   "cell_type": "markdown",
   "metadata": {},
   "source": [
    "## Data Visualization using Panda"
   ]
  },
  {
   "cell_type": "markdown",
   "metadata": {},
   "source": [
    "line chart"
   ]
  },
  {
   "cell_type": "code",
   "execution_count": 7,
   "metadata": {},
   "outputs": [
    {
     "data": {
      "text/plain": [
       "<Axes: xlabel='month'>"
      ]
     },
     "execution_count": 7,
     "metadata": {},
     "output_type": "execute_result"
    },
    {
     "data": {
      "image/png": "[encoded data removed]",
      "text/plain": [
       "<Figure size 640x480 with 1 Axes>"
      ]
     },
     "metadata": {},
     "output_type": "display_data"
    }
   ],
   "source": [
    "import pandas as pd \n",
    "data = {\n",
    "    \"month\": [\"jan\",\"feb\",\"mar\",\"may\"],\n",
    "    \"sales\": [1345,2342,1500,2500]\n",
    "}\n",
    "df=pd.DataFrame(data)\n",
    "df.set_index(\"month\",inplace=True)\n",
    "df.plot(kind=\"line\")\n"
   ]
  },
  {
   "cell_type": "markdown",
   "metadata": {},
   "source": [
    "pie chart"
   ]
  },
  {
   "cell_type": "code",
   "execution_count": 10,
   "metadata": {},
   "outputs": [
    {
     "data": {
      "text/plain": [
       "<Axes: xlabel='sales'>"
      ]
     },
     "execution_count": 10,
     "metadata": {},
     "output_type": "execute_result"
    },
    {
     "data": {
      "image/png": "[encoded data removed]",
      "text/plain": [
       "<Figure size 640x480 with 1 Axes>"
      ]
     },
     "metadata": {},
     "output_type": "display_data"
    }
   ],
   "source": [
    "import pandas as pd \n",
    "data = {\n",
    "    \"month\": [\"jan\",\"feb\",\"mar\",\"may\",\"june\",\"july\",\"aug\"],\n",
    "    \"sales\": [1345,2342,1500,2500,1345,1500,2342]\n",
    "}\n",
    "df=pd.DataFrame(data)\n",
    "df['sales'].value_counts().plot(kind='bar')"
   ]
  },
  {
   "cell_type": "markdown",
   "metadata": {},
   "source": [
    "## pivot table"
   ]
  },
  {
   "cell_type": "code",
   "execution_count": 21,
   "metadata": {},
   "outputs": [
    {
     "data": {
      "text/html": [
       "<div>\n",
       "<style scoped>\n",
       "    .dataframe tbody tr th:only-of-type {\n",
       "        vertical-align: middle;\n",
       "    }\n",
       "\n",
       "    .dataframe tbody tr th {\n",
       "        vertical-align: top;\n",
       "    }\n",
       "\n",
       "    .dataframe thead tr th {\n",
       "        text-align: left;\n",
       "    }\n",
       "\n",
       "    .dataframe thead tr:last-of-type th {\n",
       "        text-align: right;\n",
       "    }\n",
       "</style>\n",
       "<table border=\"1\" class=\"dataframe\">\n",
       "  <thead>\n",
       "    <tr>\n",
       "      <th></th>\n",
       "      <th colspan=\"3\" halign=\"left\">Sales</th>\n",
       "    </tr>\n",
       "    <tr>\n",
       "      <th>Category</th>\n",
       "      <th>A</th>\n",
       "      <th>B</th>\n",
       "      <th>Total</th>\n",
       "    </tr>\n",
       "    <tr>\n",
       "      <th>Date</th>\n",
       "      <th></th>\n",
       "      <th></th>\n",
       "      <th></th>\n",
       "    </tr>\n",
       "  </thead>\n",
       "  <tbody>\n",
       "    <tr>\n",
       "      <th>2024-01-01</th>\n",
       "      <td>100</td>\n",
       "      <td>200</td>\n",
       "      <td>300</td>\n",
       "    </tr>\n",
       "    <tr>\n",
       "      <th>2024-01-02</th>\n",
       "      <td>150</td>\n",
       "      <td>0</td>\n",
       "      <td>150</td>\n",
       "    </tr>\n",
       "    <tr>\n",
       "      <th>2024-81-83</th>\n",
       "      <td>300</td>\n",
       "      <td>0</td>\n",
       "      <td>300</td>\n",
       "    </tr>\n",
       "    <tr>\n",
       "      <th>2824-01-02</th>\n",
       "      <td>0</td>\n",
       "      <td>250</td>\n",
       "      <td>250</td>\n",
       "    </tr>\n",
       "    <tr>\n",
       "      <th>Total</th>\n",
       "      <td>550</td>\n",
       "      <td>450</td>\n",
       "      <td>1000</td>\n",
       "    </tr>\n",
       "  </tbody>\n",
       "</table>\n",
       "</div>"
      ],
      "text/plain": [
       "           Sales           \n",
       "Category       A    B Total\n",
       "Date                       \n",
       "2024-01-01   100  200   300\n",
       "2024-01-02   150    0   150\n",
       "2024-81-83   300    0   300\n",
       "2824-01-02     0  250   250\n",
       "Total        550  450  1000"
      ]
     },
     "execution_count": 21,
     "metadata": {},
     "output_type": "execute_result"
    }
   ],
   "source": [
    "import pandas as pd\n",
    "\n",
    "data={\n",
    "'Date': ['2024-01-01', '2024-01-01', '2024-01-02', '2824-01-02', '2024-81-83'],\n",
    "'Category': ['A', 'B', 'A', 'B', 'A'],\n",
    "'Sales': [100, 200, 150, 250, 300],\n",
    "'Quantity': [10, 20, 15, 25, 30]\n",
    "}\n",
    "df=pd.DataFrame(data)\n",
    "pivot_table=pd.pivot_table(df,\n",
    "values=['Sales'],\n",
    "index=[\"Date\"],\n",
    "columns=['Category'],\n",
    "aggfunc={'Sales': 'sum'},\n",
    "fill_value=0,\n",
    "dropna=False,\n",
    "margins=True,\n",
    "margins_name='Total')                   \n",
    "pivot_table"
   ]
  },
  {
   "cell_type": "code",
   "execution_count": 25,
   "metadata": {},
   "outputs": [
    {
     "data": {
      "text/html": [
       "<div>\n",
       "<style scoped>\n",
       "    .dataframe tbody tr th:only-of-type {\n",
       "        vertical-align: middle;\n",
       "    }\n",
       "\n",
       "    .dataframe tbody tr th {\n",
       "        vertical-align: top;\n",
       "    }\n",
       "\n",
       "    .dataframe thead tr th {\n",
       "        text-align: left;\n",
       "    }\n",
       "\n",
       "    .dataframe thead tr:last-of-type th {\n",
       "        text-align: right;\n",
       "    }\n",
       "</style>\n",
       "<table border=\"1\" class=\"dataframe\">\n",
       "  <thead>\n",
       "    <tr>\n",
       "      <th></th>\n",
       "      <th colspan=\"3\" halign=\"left\">Sales</th>\n",
       "    </tr>\n",
       "    <tr>\n",
       "      <th>Category</th>\n",
       "      <th>A</th>\n",
       "      <th>B</th>\n",
       "      <th>Total</th>\n",
       "    </tr>\n",
       "    <tr>\n",
       "      <th>Date</th>\n",
       "      <th></th>\n",
       "      <th></th>\n",
       "      <th></th>\n",
       "    </tr>\n",
       "  </thead>\n",
       "  <tbody>\n",
       "    <tr>\n",
       "      <th>2024-01-01</th>\n",
       "      <td>100.00</td>\n",
       "      <td>200.0</td>\n",
       "      <td>150.0</td>\n",
       "    </tr>\n",
       "    <tr>\n",
       "      <th>2024-01-02</th>\n",
       "      <td>150.00</td>\n",
       "      <td>0.0</td>\n",
       "      <td>150.0</td>\n",
       "    </tr>\n",
       "    <tr>\n",
       "      <th>2024-81-83</th>\n",
       "      <td>300.00</td>\n",
       "      <td>0.0</td>\n",
       "      <td>300.0</td>\n",
       "    </tr>\n",
       "    <tr>\n",
       "      <th>2824-01-02</th>\n",
       "      <td>0.00</td>\n",
       "      <td>250.0</td>\n",
       "      <td>250.0</td>\n",
       "    </tr>\n",
       "    <tr>\n",
       "      <th>Total</th>\n",
       "      <td>183.33</td>\n",
       "      <td>225.0</td>\n",
       "      <td>200.0</td>\n",
       "    </tr>\n",
       "  </tbody>\n",
       "</table>\n",
       "</div>"
      ],
      "text/plain": [
       "             Sales              \n",
       "Category         A      B  Total\n",
       "Date                            \n",
       "2024-01-01  100.00  200.0  150.0\n",
       "2024-01-02  150.00    0.0  150.0\n",
       "2024-81-83  300.00    0.0  300.0\n",
       "2824-01-02    0.00  250.0  250.0\n",
       "Total       183.33  225.0  200.0"
      ]
     },
     "execution_count": 25,
     "metadata": {},
     "output_type": "execute_result"
    }
   ],
   "source": [
    "import pandas as pd\n",
    "import numpy as np \n",
    "data={\n",
    "'Date': ['2024-01-01', '2024-01-01', '2024-01-02', '2824-01-02', '2024-81-83'],\n",
    "'Category': ['A', 'B', 'A', 'B', 'A'],\n",
    "'Sales': [100, 200, 150, 250, 300],\n",
    "'Quantity': [10, 20, 15, 25, 30]\n",
    "}\n",
    "df=pd.DataFrame(data)\n",
    "pivot_table=np.round(pd.pivot_table(df,\n",
    "values=['Sales'],\n",
    "index=[\"Date\"],\n",
    "columns=['Category'],\n",
    "aggfunc={'Sales': 'mean'},\n",
    "fill_value=0,\n",
    "dropna=False,\n",
    "margins=True,\n",
    "margins_name='Total') ,2)                  \n",
    "pivot_table"
   ]
  },
  {
   "cell_type": "markdown",
   "metadata": {},
   "source": [
    "query()"
   ]
  },
  {
   "cell_type": "code",
   "execution_count": 30,
   "metadata": {},
   "outputs": [
    {
     "name": "stdout",
     "output_type": "stream",
     "text": [
      "original data\n",
      "   a   b     c\n",
      "0  1  10   foo\n",
      "1  2  20   bar\n",
      "2  3  30   buz\n",
      "3  4  40   qux\n",
      "4  5  50  quuz\n",
      "         Date Category  Sales  Quantity\n",
      "0  2024-01-01        A    100        10\n",
      "1  2024-01-01        B    200        20\n",
      "2  2024-01-02        A    150        15\n",
      "3  2824-01-02        B    250        25\n",
      "4  2024-81-83        A    300        30\n"
     ]
    }
   ],
   "source": [
    "import pandas as pd \n",
    "data =pd.DataFrame({'a':[1,2,3,4,5],\n",
    "'b':[10,20,30,40,50],\n",
    "'c':['foo','bar','buz','qux','quuz']\n",
    "})\n",
    "print(\"original data\")\n",
    "print(data)\n",
    "data.query('a>2 and a<=4', inplace=True)\n",
    "print(df)"
   ]
  }
 ],
 "metadata": {
  "kernelspec": {
   "display_name": "Python 3",
   "language": "python",
   "name": "python3"
  },
  "language_info": {
   "codemirror_mode": {
    "name": "ipython",
    "version": 3
   },
   "file_extension": ".py",
   "mimetype": "text/x-python",
   "name": "python",
   "nbconvert_exporter": "python",
   "pygments_lexer": "ipython3",
   "version": "3.11.3"
  }
 },
 "nbformat": 4,
 "nbformat_minor": 2
}
