{
 "cells": [
  {
   "cell_type": "markdown",
   "metadata": {},
   "source": [
    "### Lab1:\n",
    " Write a Pandas program to detect missing values of a given DataFrame.\n",
    "### Input:\n",
    "df = pd.DataFrame({\n",
    "'ord_no':[70001,np.nan,70002,70004,np.nan,70005,np.nan,70010,70003,70012,np.na\n",
    "n,70013],\n",
    "'purch_amt':[150.5,270.65,65.26,110.5,948.5,2400.6,5760,1983.43,2480.4,250.45,\n",
    "75.29,3045.6], 'ord_date':\n",
    "['2012-10-05','2012-09-10',np.nan,'2012-08-17','2012-09-10','2012-07-27','2012-09-10'\n",
    ",'2012-10-10','2012-10-10','2012-06-27','2012-08-17','2012-04-25'],\n",
    "'customer_id':[3002,3001,3001,3003,3002,3001,3001,3004,3003,3002,3001,3001],\n",
    "'salesman_id':[5002,5003,5001,np.nan,5002,5001,5001,np.nan,5003,5002,5003,np.n\n",
    "an]})"
   ]
  },
  {
   "cell_type": "code",
   "execution_count": 2,
   "metadata": {},
   "outputs": [
    {
     "name": "stdout",
     "output_type": "stream",
     "text": [
      "original data\n",
      "     ord_no  purch_amt    ord_date  customer_id  salesman_id\n",
      "0   70001.0     150.50  2012-10-05         3002       5002.0\n",
      "1       NaN     270.65  2012-09-10         3001       5003.0\n",
      "2   70002.0      65.26         NaN         3001       5001.0\n",
      "3   70004.0     110.50  2012-08-17         3003          NaN\n",
      "4       NaN     948.50  2012-09-10         3002       5002.0\n",
      "5   70005.0    2400.60  2012-07-27         3001       5001.0\n",
      "6       NaN    5760.00  2012-09-10         3001       5001.0\n",
      "7    7010.0    1983.43  2012-10-10         3004          NaN\n",
      "8   70003.0    2480.40  2012-10-10         3003       5003.0\n",
      "9   70012.0     250.45  2012-06-27         3002       5002.0\n",
      "10      NaN      75.29  2012-08-17         3001       5003.0\n",
      "11  70013.0    3045.60  2012-04-25         3001       5003.0\n",
      "Missing values per column:\n",
      "ord_no         4\n",
      "purch_amt      0\n",
      "ord_date       1\n",
      "customer_id    0\n",
      "salesman_id    2\n",
      "dtype: int64\n"
     ]
    }
   ],
   "source": [
    "import pandas as pd\n",
    "import numpy as np\n",
    "\n",
    "# Define the DataFrame\n",
    "df = pd.DataFrame({\n",
    "'ord_no':[70001,np.nan,70002,70004,np.nan,70005,np.nan,7010,70003,70012,np.nan,70013],\n",
    "'purch_amt':[150.5,270.65,65.26,110.5,948.5,2400.6,5760,1983.43,2480.4,250.45,75.29,3045.6],\n",
    "'ord_date':['2012-10-05','2012-09-10',np.nan,'2012-08-17','2012-09-10','2012-07-27','2012-09-10','2012-10-10','2012-10-10','2012-06-27','2012-08-17','2012-04-25'],\n",
    "'customer_id':[3002,3001,3001,3003,3002,3001,3001,3004,3003,3002,3001,3001],\n",
    "'salesman_id':[5002,5003,5001,np.nan,5002,5001,5001,np.nan,5003,5002,5003,5003]})\n",
    "print(\"original data\")\n",
    "print(df)\n",
    "\n",
    "\n",
    "missing_values = df.isnull().sum()\n",
    "\n",
    "# Print the results\n",
    "print(\"Missing values per column:\")\n",
    "print(missing_values)\n",
    "\n"
   ]
  },
  {
   "cell_type": "markdown",
   "metadata": {},
   "source": [
    "### Lab2: \n",
    "Write a Pandas program to drop the rows where at least one element is\n",
    "missing in a given DataFrame.\n",
    "### Input:\n",
    "df = pd.DataFrame({\n",
    "'ord_no':[70001,np.nan,70002,70004,np.nan,70005,np.nan,70010,70003,70012,np.na\n",
    "n,70013],\n",
    "'purch_amt':[150.5,270.65,65.26,110.5,948.5,2400.6,5760,1983.43,2480.4,250.45,\n",
    "75.29,3045.6],\n",
    "'ord_date':\n",
    "['2012-10-05','2012-09-10',np.nan,'2012-08-17','2012-09-10','2012-07-27','2012-09-10'\n",
    ",'2012-10-10','2012-10-10','2012-06-27','2012-08-17','2012-04-25'],\n",
    "'customer_id':[3002,3001,3001,3003,3002,3001,3001,3004,3003,3002,3001,3001],\n",
    "'salesman_id':[5002,5003,5001,np.nan,5002,5001,5001,np.nan,5003,5002,5003,np.n\n",
    "an]})"
   ]
  },
  {
   "cell_type": "code",
   "execution_count": 2,
   "metadata": {},
   "outputs": [
    {
     "name": "stdout",
     "output_type": "stream",
     "text": [
      "original data\n",
      "     ord_no  purch_amt    ord_date  customer_id  salesman_id\n",
      "0   70001.0     150.50  2012-10-05         3002       5002.0\n",
      "1       NaN     270.65  2012-09-10         3001       5003.0\n",
      "2   70002.0      65.26         NaN         3001       5001.0\n",
      "3   70004.0     110.50  2012-08-17         3003          NaN\n",
      "4       NaN     948.50  2012-09-10         3002       5002.0\n",
      "5   70005.0    2400.60  2012-07-27         3001       5001.0\n",
      "6       NaN    5760.00  2012-09-10         3001       5001.0\n",
      "7    7010.0    1983.43  2012-10-10         3004          NaN\n",
      "8   70003.0    2480.40  2012-10-10         3003       5003.0\n",
      "9   70012.0     250.45  2012-06-27         3002       5002.0\n",
      "10      NaN      75.29  2012-08-17         3001       5003.0\n",
      "11  70013.0    3045.60  2012-04-25         3001       5003.0\n",
      "     ord_no  purch_amt    ord_date  customer_id  salesman_id\n",
      "0   70001.0     150.50  2012-10-05         3002       5002.0\n",
      "5   70005.0    2400.60  2012-07-27         3001       5001.0\n",
      "8   70003.0    2480.40  2012-10-10         3003       5003.0\n",
      "9   70012.0     250.45  2012-06-27         3002       5002.0\n",
      "11  70013.0    3045.60  2012-04-25         3001       5003.0\n"
     ]
    }
   ],
   "source": [
    "import pandas as pd\n",
    "import numpy as np\n",
    "\n",
    "# Define the DataFrame\n",
    "df = pd.DataFrame({\n",
    "'ord_no':[70001,np.nan,70002,70004,np.nan,70005,np.nan,7010,70003,70012,np.nan,70013],\n",
    "'purch_amt':[150.5,270.65,65.26,110.5,948.5,2400.6,5760,1983.43,2480.4,250.45,75.29,3045.6],\n",
    "'ord_date':['2012-10-05','2012-09-10',np.nan,'2012-08-17','2012-09-10','2012-07-27','2012-09-10','2012-10-10','2012-10-10','2012-06-27','2012-08-17','2012-04-25'],\n",
    "'customer_id':[3002,3001,3001,3003,3002,3001,3001,3004,3003,3002,3001,3001],\n",
    "'salesman_id':[5002,5003,5001,np.nan,5002,5001,5001,np.nan,5003,5002,5003,5003]})\n",
    "print(\"original data\")\n",
    "print(df)\n",
    "\n",
    "df_dropna = df.dropna()  \n",
    "print(\"drop the rows where att least one elemenet is missing\")\n",
    "# Print the result\n",
    "print(df_dropna)"
   ]
  },
  {
   "cell_type": "markdown",
   "metadata": {},
   "source": [
    "### Lab3:\n",
    " Write a Pandas program to drop the rows where all elements are missing in\n",
    "a given DataFrame.\n",
    "### input :\n",
    "df = pd.DataFrame({\n",
    "'ord_no':[np.nan,np.nan,70002,70004,np.nan,70005,np.nan,70010,70003,70012,np.n\n",
    "an,70013],\n",
    "'purch_amt':[np.nan,270.65,65.26,110.5,948.5,2400.6,5760,1983.43,2480.4,250.45,\n",
    "75.29,3045.6],\n",
    "'ord_date':\n",
    "[np.nan,'2012-09-10',np.nan,'2012-08-17','2012-09-10','2012-07-27','2012-09-10','201\n",
    "2-10-10','2012-10-10','2012-06-27','2012-08-17','2012-04-25'],\n",
    "'customer_id':[np.nan,3001,3001,3003,3002,3001,3001,3004,3003,3002,3001,3001]})"
   ]
  },
  {
   "cell_type": "code",
   "execution_count": 4,
   "metadata": {},
   "outputs": [
    {
     "name": "stdout",
     "output_type": "stream",
     "text": [
      "original data\n",
      "     ord_no  purch_amt    ord_date  customer_id\n",
      "0       NaN        NaN         NaN          NaN\n",
      "1       NaN     270.65  2012-09-10       3001.0\n",
      "2   70002.0      65.26         NaN       3001.0\n",
      "3   70004.0     110.50  2012-08-17       3003.0\n",
      "4       NaN     948.50  2012-09-10       3002.0\n",
      "5   70005.0    2400.60  2012-07-27       3001.0\n",
      "6       NaN    5760.00  2012-09-10       3001.0\n",
      "7   70010.0    1983.43  2012-10-10       3004.0\n",
      "8   70003.0    2480.40  2012-10-10       3003.0\n",
      "9   70012.0     250.45  2012-06-27       3002.0\n",
      "10      NaN      75.29  2012-08-17       3001.0\n",
      "11  70013.0    3045.60  2012-04-25       3001.0\n",
      "drop the rows where all elements are missing\n",
      "     ord_no  purch_amt    ord_date  customer_id\n",
      "1       NaN     270.65  2012-09-10       3001.0\n",
      "2   70002.0      65.26         NaN       3001.0\n",
      "3   70004.0     110.50  2012-08-17       3003.0\n",
      "4       NaN     948.50  2012-09-10       3002.0\n",
      "5   70005.0    2400.60  2012-07-27       3001.0\n",
      "6       NaN    5760.00  2012-09-10       3001.0\n",
      "7   70010.0    1983.43  2012-10-10       3004.0\n",
      "8   70003.0    2480.40  2012-10-10       3003.0\n",
      "9   70012.0     250.45  2012-06-27       3002.0\n",
      "10      NaN      75.29  2012-08-17       3001.0\n",
      "11  70013.0    3045.60  2012-04-25       3001.0\n"
     ]
    }
   ],
   "source": [
    "import pandas as pd\n",
    "import numpy as np\n",
    "\n",
    "# Create the DataFrame\n",
    "df = pd.DataFrame({\n",
    "    'ord_no': [np.nan, np.nan, 70002, 70004, np.nan, 70005, np.nan, 70010, 70003, 70012, np.nan, 70013],\n",
    "    'purch_amt': [np.nan, 270.65, 65.26, 110.5, 948.5, 2400.6, 5760, 1983.43, 2480.4, 250.45, 75.29, 3045.6],\n",
    "    'ord_date': [np.nan, '2012-09-10', np.nan, '2012-08-17', '2012-09-10', '2012-07-27', '2012-09-10', '2012-10-10', '2012-10-10', '2012-06-27', '2012-08-17', '2012-04-25'],\n",
    "    'customer_id': [np.nan, 3001, 3001, 3003, 3002, 3001, 3001, 3004, 3003, 3002, 3001, 3001]})\n",
    "\n",
    "print(\"original data\")\n",
    "print(df)\n",
    "\n",
    "df_cleaned = df.dropna(how='all')\n",
    "print(\"drop the rows where all elements are missing\")\n",
    "print(df_cleaned)\n"
   ]
  },
  {
   "cell_type": "markdown",
   "metadata": {},
   "source": [
    " ### Lab4:\n",
    "  Write a Pandas program to drop those rows from a given DataFrame in\n",
    "which specific columns have missing values.\n",
    "### Input:\n",
    "df = pd.DataFrame({\n",
    "'ord_no':[np.nan,np.nan,70002,np.nan,np.nan,70005,np.nan,70010,70003,70012,np.n\n",
    "an,np.nan],\n",
    "'purch_amt':[np.nan,270.65,65.26,np.nan,948.5,2400.6,5760,1983.43,2480.4,250.45,\n",
    "75.29,np.nan],\n",
    "'ord_date':\n",
    "[np.nan,'2012-09-10',np.nan,np.nan,'2012-09-10','2012-07-27','2012-09-10','2012-10-\n",
    "10','2012-10-10','2012-06-27','2012-08-17',np.nan],\n",
    "'customer_id':[np.nan,3001,3001,np.nan,3002,3001,3001,3004,3003,3002,3001,np.na\n",
    "n]})"
   ]
  },
  {
   "cell_type": "code",
   "execution_count": 6,
   "metadata": {},
   "outputs": [
    {
     "name": "stdout",
     "output_type": "stream",
     "text": [
      "original orders dataframe :\n",
      "     ord_no  purch_amt    ord_date  customer_id\n",
      "0       NaN        NaN         NaN          NaN\n",
      "1       NaN     270.65  2012-09-10       3001.0\n",
      "2   70002.0      65.26         NaN       3001.0\n",
      "3       NaN        NaN         NaN          NaN\n",
      "4       NaN     948.50  2012-09-10       3002.0\n",
      "5   70005.0    2400.60  2012-07-27       3001.0\n",
      "6       NaN    5760.00  2012-09-10       3001.0\n",
      "7   70010.0    1983.43  2012-10-10       3004.0\n",
      "8   70003.0    2480.40  2012-10-10       3003.0\n",
      "9   70012.0     250.45  2012-06-27       3002.0\n",
      "10      NaN      75.29  2012-08-17       3001.0\n",
      "11      NaN        NaN         NaN          NaN\n",
      "drop those rows in which specific column have missing values:\n",
      "    ord_no  purch_amt    ord_date  customer_id\n",
      "5  70005.0    2400.60  2012-07-27       3001.0\n",
      "7  70010.0    1983.43  2012-10-10       3004.0\n",
      "8  70003.0    2480.40  2012-10-10       3003.0\n",
      "9  70012.0     250.45  2012-06-27       3002.0\n"
     ]
    }
   ],
   "source": [
    "import pandas as pd\n",
    "import numpy as np\n",
    "\n",
    "# Define the DataFrame\n",
    "df = pd.DataFrame({\n",
    "'ord_no':[np.nan,np.nan,70002,np.nan,np.nan,70005,np.nan,70010,70003,70012,np.nan,np.nan],\n",
    "'purch_amt':[np.nan,270.65,65.26,np.nan,948.5,2400.6,5760,1983.43,2480.4,250.45,75.29,np.nan],\n",
    "'ord_date':\n",
    "[np.nan,'2012-09-10',np.nan,np.nan,'2012-09-10','2012-07-27','2012-09-10','2012-10-10','2012-10-10','2012-06-27','2012-08-17',np.nan],\n",
    "'customer_id':[np.nan,3001,3001,np.nan,3002,3001,3001,3004,3003,3002,3001,np.nan]})\n",
    "print(\"original orders dataframe :\")\n",
    "print(df)\n",
    "\n",
    "specific_cols = ['ord_no', 'ord_date', 'customer_id']  \n",
    "\n",
    "df_cleaned = df.dropna(subset=specific_cols)  # subset specifies columns to check\n",
    "print(\"drop those rows in which specific column have missing values:\")\n",
    "# Print the result\n",
    "print(df_cleaned)\n"
   ]
  },
  {
   "cell_type": "markdown",
   "metadata": {},
   "source": [
    "### ChatGPT Exercise\n",
    "Using ChatGPT generate the python code to solve the same problem\n",
    "Scenario:Analyzing Real Estate Data\n",
    "Suppose you have a dummy dataset with real estate property listings. The data\n",
    "contains information about property prices, square footage, the number of bedrooms\n",
    "and bathrooms, and other details. You want to perform data cleaning like Remove rows\n",
    "with missing values, Remove duplicate and then save the cleaned data to a CSV file.\n",
    "Create a ChatGPT prompt to generate the code for this scenario. Based on the code\n",
    "generated, ask ChatGPT to give the conclusion/inference.\n",
    "Note. You can provide the data to ChatGPT in the form of a list or dictionary or ask it to\n",
    "use sample data."
   ]
  },
  {
   "cell_type": "code",
   "execution_count": 8,
   "metadata": {},
   "outputs": [
    {
     "name": "stdout",
     "output_type": "stream",
     "text": [
      "Data cleaning complete. Cleaned data saved to cleaned_real_estate_data.csv\n"
     ]
    }
   ],
   "source": [
    "import pandas as pd\n",
    "import numpy as np\n",
    "\n",
    "# Generate sample data\n",
    "np.random.seed(42)\n",
    "num_records = 100\n",
    "\n",
    "# Create sample data\n",
    "data = {\n",
    "    'Price': np.random.randint(100000, 1000000, size=num_records),\n",
    "    'Square Footage': np.random.randint(500, 5000, size=num_records),\n",
    "    'Bedrooms': np.random.randint(1, 6, size=num_records),\n",
    "    'Bathrooms': np.random.randint(1, 4, size=num_records)\n",
    "}\n",
    "e\n",
    "df = pd.DataFrame(data)\n",
    "\n",
    "\n",
    "df.loc[np.random.choice(num_records, 10, replace=False), 'Price'] = np.nan\n",
    "df.loc[np.random.choice(num_records, 10, replace=False), 'Square Footage'] = np.nan\n",
    "df.loc[np.random.choice(num_records, 10, replace=False), 'Bedrooms'] = np.nan\n",
    "df.loc[np.random.choice(num_records, 10, replace=False), 'Bathrooms'] = np.nan\n",
    "\n",
    "df = pd.DataFrame(data)\n",
    "\n",
    "df_cleaned = df.dropna()\n",
    "\n",
    "# Save cleaned data to CSV\n",
    "df_cleaned.to_csv('cleaned_real_estate_data.csv', index=False)\n",
    "\n",
    "print(\"Data cleaning complete. Cleaned data saved to cleaned_real_estate_data.csv\")\n"
   ]
  }
 ],
 "metadata": {
  "kernelspec": {
   "display_name": "Python 3",
   "language": "python",
   "name": "python3"
  },
  "language_info": {
   "codemirror_mode": {
    "name": "ipython",
    "version": 3
   },
   "file_extension": ".py",
   "mimetype": "text/x-python",
   "name": "python",
   "nbconvert_exporter": "python",
   "pygments_lexer": "ipython3",
   "version": "3.11.3"
  }
 },
 "nbformat": 4,
 "nbformat_minor": 2
}
