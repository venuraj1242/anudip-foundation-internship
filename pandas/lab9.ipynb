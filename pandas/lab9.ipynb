{
 "cells": [
  {
   "cell_type": "markdown",
   "metadata": {},
   "source": [
    " ### lab1:\n",
    " Write a Pandas program to create a Pivot table and find the total sale\n",
    "amount region wise, manager wise, sales man wise."
   ]
  },
  {
   "cell_type": "code",
   "execution_count": 6,
   "metadata": {},
   "outputs": [
    {
     "name": "stdout",
     "output_type": "stream",
     "text": [
      "                           Sale_amt\n",
      "Region  Manager SalesMan           \n",
      "Central Douglas John       124016.0\n",
      "        Hermann Luis       206373.0\n",
      "                Shelli      33698.0\n",
      "                Sigal      125037.5\n",
      "        Martha  Steven     199690.0\n",
      "East    Martha  Alexander  236703.0\n",
      "                Diana       36100.0\n",
      "        Timothy David       48204.0\n",
      "West    Douglas Michael    102936.0\n",
      "        Timothy Stephen     88063.0\n"
     ]
    }
   ],
   "source": [
    "import pandas as pd\n",
    "\n",
    "# Sample data (replace with your actual data)\n",
    "data = {\n",
    "    'Region': ['Central', 'Central', 'Central', 'Central', 'Central', 'Central', 'East', 'East', 'East', 'West', 'West', 'West'],\n",
    "    'Manager': ['Douglas', 'Hermann', 'Hermann', 'Hermann', 'Martha', 'Martha', 'Timothy', 'Martha', 'Martha', 'Douglas', 'Timothy', 'Douglas'],\n",
    "    'SalesMan': ['John', 'Luis', 'Shelli', 'Sigal', 'Steven', 'Steven', 'David', 'Alexander', 'Diana', 'Michael', 'Stephen', 'Michael'],\n",
    "    'Sale_amt': [124016, 206373, 33698, 125037.5, 14000, 185690, 48204, 236703, 36100, 66836, 88063, 36100],\n",
    "    'Item': ['Cell Phone', 'Desk', 'Home Theater', 'Television', 'Video Games', 'Cell Phone', 'Desk', 'Home Theater', 'Television', 'Video Games', 'Cell Phone', 'Desk'],\n",
    "    'Units': [10, 2, 50, 60, 30, 15, 1, 35, 40, 25, 5, 1]\n",
    "}\n",
    "\n",
    "df = pd.DataFrame(data)\n",
    "# Create pivot table\n",
    "pivot_table = df.pivot_table(index=['Region', 'Manager', 'SalesMan'], values='Sale_amt', aggfunc='sum')\n",
    "\n",
    "print(pivot_table)\n"
   ]
  },
  {
   "cell_type": "markdown",
   "metadata": {},
   "source": [
    "Lab2: Write a Pandas program to create a Pivot table and find the item wise\n",
    "unit sold."
   ]
  },
  {
   "cell_type": "code",
   "execution_count": 7,
   "metadata": {},
   "outputs": [
    {
     "name": "stdout",
     "output_type": "stream",
     "text": [
      "              Units\n",
      "Item               \n",
      "Cell Phone       30\n",
      "Desk              4\n",
      "Home Theater     85\n",
      "Television      100\n",
      "Video Games      55\n"
     ]
    }
   ],
   "source": [
    "import pandas as pd\n",
    "\n",
    "# Sample data (replace with your actual data)\n",
    "data = {\n",
    "    'Region': ['Central', 'Central', 'Central', 'Central', 'Central', 'Central', 'East', 'East', 'East', 'West', 'West', 'West'],\n",
    "    'Manager': ['Douglas', 'Hermann', 'Hermann', 'Hermann', 'Martha', 'Martha', 'Timothy', 'Martha', 'Martha', 'Douglas', 'Timothy', 'Douglas'],\n",
    "    'SalesMan': ['John', 'Luis', 'Shelli', 'Sigal', 'Steven', 'Steven', 'David', 'Alexander', 'Diana', 'Michael', 'Stephen', 'Michael'],\n",
    "    'Sale_amt': [124016, 206373, 33698, 125037.5, 14000, 185690, 48204, 236703, 36100, 66836, 88063, 36100],\n",
    "    'Item': ['Cell Phone', 'Desk', 'Home Theater', 'Television', 'Video Games', 'Cell Phone', 'Desk', 'Home Theater', 'Television', 'Video Games', 'Cell Phone', 'Desk'],\n",
    "    'Units': [10, 2, 50, 60, 30, 15, 1, 35, 40, 25, 5, 1]\n",
    "}\n",
    "\n",
    "df = pd.DataFrame(data)\n",
    "\n",
    "pivot_table = df.pivot_table(index='Item', values='Units', aggfunc='sum')\n",
    "\n",
    "\n",
    "print(pivot_table)"
   ]
  },
  {
   "cell_type": "markdown",
   "metadata": {},
   "source": [
    " ### lab 3:\n",
    " Write a Pandas program to create a Pivot table and find the region\n",
    "wise, item wise unit sold."
   ]
  },
  {
   "cell_type": "code",
   "execution_count": 8,
   "metadata": {},
   "outputs": [
    {
     "name": "stdout",
     "output_type": "stream",
     "text": [
      "                      Units\n",
      "Region  Item               \n",
      "Central Cell Phone       25\n",
      "        Desk              2\n",
      "        Home Theater     50\n",
      "        Television       60\n",
      "        Video Games      30\n",
      "East    Desk              1\n",
      "        Home Theater     35\n",
      "        Television       40\n",
      "West    Cell Phone        5\n",
      "        Desk              1\n",
      "        Video Games      25\n"
     ]
    }
   ],
   "source": [
    "import pandas as pd\n",
    "\n",
    "# Sample data (replace with your actual data)\n",
    "data = {\n",
    "    'Region': ['Central', 'Central', 'Central', 'Central', 'Central', 'Central', 'East', 'East', 'East', 'West', 'West', 'West'],\n",
    "    'Manager': ['Douglas', 'Hermann', 'Hermann', 'Hermann', 'Martha', 'Martha', 'Timothy', 'Martha', 'Martha', 'Douglas', 'Timothy', 'Douglas'],\n",
    "    'SalesMan': ['John', 'Luis', 'Shelli', 'Sigal', 'Steven', 'Steven', 'David', 'Alexander', 'Diana', 'Michael', 'Stephen', 'Michael'],\n",
    "    'Sale_amt': [124016, 206373, 33698, 125037.5, 14000, 185690, 48204, 236703, 36100, 66836, 88063, 36100],\n",
    "    'Item': ['Cell Phone', 'Desk', 'Home Theater', 'Television', 'Video Games', 'Cell Phone', 'Desk', 'Home Theater', 'Television', 'Video Games', 'Cell Phone', 'Desk'],\n",
    "    'Units': [10, 2, 50, 60, 30, 15, 1, 35, 40, 25, 5, 1]\n",
    "}\n",
    "\n",
    "df = pd.DataFrame(data)\n",
    "\n",
    "pivot_table = df.pivot_table(index=['Region', 'Item'], values='Units', aggfunc='sum')\n",
    "\n",
    "\n",
    "print(pivot_table)"
   ]
  },
  {
   "cell_type": "markdown",
   "metadata": {},
   "source": [
    "### Lab4:\n",
    " Write a Pandas program to create a Pivot table and count the\n",
    "manager wise sale and mean value of sale amount."
   ]
  },
  {
   "cell_type": "code",
   "execution_count": 9,
   "metadata": {},
   "outputs": [
    {
     "name": "stdout",
     "output_type": "stream",
     "text": [
      "         count           mean\n",
      "Manager                      \n",
      "Douglas      3   75650.666667\n",
      "Hermann      3  121702.833333\n",
      "Martha       4  118123.250000\n",
      "Timothy      2   68133.500000\n"
     ]
    }
   ],
   "source": [
    "import pandas as pd\n",
    "\n",
    "# Create a DataFrame from the provided data\n",
    "data = {\n",
    "    'Region': ['Central', 'Central', 'Central', 'Central', 'Central', 'Central', 'East', 'East', 'East', 'West', 'West', 'West'],\n",
    "    'Manager': ['Douglas', 'Hermann', 'Hermann', 'Hermann', 'Martha', 'Martha', 'Timothy', 'Martha', 'Martha', 'Douglas', 'Timothy', 'Douglas'],\n",
    "    'SalesMan': ['John', 'Luis', 'Shelli', 'Sigal', 'Steven', 'Steven', 'David', 'Alexander', 'Diana', 'Michael', 'Stephen', 'Michael'],\n",
    "    'Sale_amt': [124016, 206373, 33698, 125037.5, 14000, 185690, 48204, 236703, 36100, 66836, 88063, 36100],\n",
    "    'Item': ['Cell Phone', 'Desk', 'Home Theater', 'Television', 'Video Games', 'Cell Phone', 'Desk', 'Home Theater', 'Television', 'Video Games', 'Cell Phone', 'Desk'],\n",
    "    'Units': [10, 2, 50, 60, 30, 15, 1, 35, 40, 25, 5, 1]\n",
    "}\n",
    "\n",
    "df = pd.DataFrame(data)\n",
    "\n",
    "# Create the pivot table\n",
    "pivot_table = df.pivot_table(index='Manager', values='Sale_amt', aggfunc={'Sale_amt': ['count', 'mean']})\n",
    "\n",
    "# Display the pivot table\n",
    "print(pivot_table)\n"
   ]
  },
  {
   "cell_type": "markdown",
   "metadata": {},
   "source": [
    "### ChatGPT Exercise\n",
    "Using ChatGPT generate the python code to solve the same problem\n",
    "Scenario:Analyzing Sales Data with a Pivot Table\n",
    "Suppose you work for a retail company, and you have a dataset containing sales data.\n",
    "The data includes information about sales transactions, products, and salespeople. You\n",
    "want to create a pivot table to summarize sales by product and salesperson like\n",
    "Calculate the total sales for each product,Calculate the total sales for each\n",
    "salesperson,Identify the top-selling product and salesperson.\n",
    "Create a ChatGPT prompt to generate the code for this scenario. Based on the code\n",
    "generated, ask ChatGPT to give the conclusion/inference.\n",
    "Note. You can provide the data to ChatGPT in the form of a list or dictionary or ask it to\n",
    "use sample data."
   ]
  },
  {
   "cell_type": "code",
   "execution_count": 10,
   "metadata": {},
   "outputs": [
    {
     "name": "stdout",
     "output_type": "stream",
     "text": [
      "                        Sale_amt\n",
      "                             sum\n",
      "Item         SalesMan           \n",
      "Cell Phone   John       124016.0\n",
      "             Stephen     88063.0\n",
      "             Steven     185690.0\n",
      "Desk         David       48204.0\n",
      "             Luis       206373.0\n",
      "             Michael     36100.0\n",
      "Home Theater Alexander  236703.0\n",
      "             Shelli      33698.0\n",
      "Television   Diana       36100.0\n",
      "             Sigal      125037.5\n",
      "Video Games  Michael     66836.0\n",
      "             Steven      14000.0\n",
      "\n",
      "Total sales by product:\n",
      "               Sale_amt\n",
      "                   sum\n",
      "Item                  \n",
      "Cell Phone    397769.0\n",
      "Desk          290677.0\n",
      "Home Theater  270401.0\n",
      "Television    161137.5\n",
      "Video Games    80836.0\n",
      "\n",
      "Total sales by salesperson:\n",
      "            Sale_amt\n",
      "                sum\n",
      "SalesMan           \n",
      "Alexander  236703.0\n",
      "David       48204.0\n",
      "Diana       36100.0\n",
      "John       124016.0\n",
      "Luis       206373.0\n",
      "Michael    102936.0\n",
      "Shelli      33698.0\n",
      "Sigal      125037.5\n",
      "Stephen     88063.0\n",
      "Steven     199690.0\n",
      "\n",
      "Top-selling product: Cell Phone\n",
      "Top salesperson: Alexander\n"
     ]
    }
   ],
   "source": [
    "import pandas as pd\n",
    "\n",
    "# Sample data\n",
    "data = {\n",
    "    'Region': ['Central', 'Central', 'Central', 'Central', 'Central', 'Central', 'East', 'East', 'East', 'West', 'West', 'West'],\n",
    "    'Manager': ['Douglas', 'Hermann', 'Hermann', 'Hermann', 'Martha', 'Martha', 'Timothy', 'Martha', 'Martha', 'Douglas', 'Timothy', 'Douglas'],\n",
    "    'SalesMan': ['John', 'Luis', 'Shelli', 'Sigal', 'Steven', 'Steven', 'David', 'Alexander', 'Diana', 'Michael', 'Stephen', 'Michael'],\n",
    "    'Sale_amt': [124016, 206373, 33698, 125037.5, 14000, 185690, 48204, 236703, 36100, 66836, 88063, 36100],\n",
    "    'Item': ['Cell Phone', 'Desk', 'Home Theater', 'Television', 'Video Games', 'Cell Phone', 'Desk', 'Home Theater', 'Television', 'Video Games', 'Cell Phone', 'Desk'],\n",
    "    'Units': [10, 2, 50, 60, 30, 15, 1, 35, 40, 25, 5, 1]\n",
    "}\n",
    "\n",
    "df = pd.DataFrame(data)\n",
    "\n",
    "# Create pivot table\n",
    "pivot_table = df.pivot_table(\n",
    "    index=['Item', 'SalesMan'],\n",
    "    values=['Sale_amt'],\n",
    "    aggfunc={'Sale_amt': ['sum']}\n",
    ")\n",
    "\n",
    "# Display pivot table\n",
    "print(pivot_table)\n",
    "\n",
    "# Calculate total sales by product\n",
    "total_sales_by_product = pivot_table.groupby(level='Item').sum()\n",
    "print(\"\\nTotal sales by product:\\n\", total_sales_by_product)\n",
    "\n",
    "# Calculate total sales by salesperson\n",
    "total_sales_by_salesperson = pivot_table.groupby(level='SalesMan').sum()\n",
    "print(\"\\nTotal sales by salesperson:\\n\", total_sales_by_salesperson)\n",
    "\n",
    "# Identify top-selling product and salesperson\n",
    "top_product = total_sales_by_product.sort_values(by=('Sale_amt', 'sum'), ascending=False).index[0]\n",
    "top_salesperson = total_sales_by_salesperson.sort_values(by=('Sale_amt', 'sum'), ascending=False).index[0]\n",
    "print(\"\\nTop-selling product:\", top_product)\n",
    "print(\"Top salesperson:\", top_salesperson)\n"
   ]
  }
 ],
 "metadata": {
  "kernelspec": {
   "display_name": "Python 3",
   "language": "python",
   "name": "python3"
  },
  "language_info": {
   "codemirror_mode": {
    "name": "ipython",
    "version": 3
   },
   "file_extension": ".py",
   "mimetype": "text/x-python",
   "name": "python",
   "nbconvert_exporter": "python",
   "pygments_lexer": "ipython3",
   "version": "3.11.3"
  }
 },
 "nbformat": 4,
 "nbformat_minor": 2
}
