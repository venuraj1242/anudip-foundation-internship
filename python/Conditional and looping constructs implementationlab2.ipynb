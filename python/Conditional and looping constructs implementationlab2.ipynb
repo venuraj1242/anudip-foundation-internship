{
 "cells": [
  {
   "cell_type": "markdown",
   "metadata": {},
   "source": [
    "1. Python program to check leap year"
   ]
  },
  {
   "cell_type": "code",
   "execution_count": 1,
   "metadata": {},
   "outputs": [
    {
     "name": "stdout",
     "output_type": "stream",
     "text": [
      "2100 is not a leap year\n"
     ]
    }
   ],
   "source": [
    "def is_leap_year(year):\n",
    "\n",
    "    if year % 400 == 0:\n",
    "        return True\n",
    "    if year % 100 == 0:\n",
    "        return False\n",
    "    return year % 4 == 0\n",
    "\n",
    "year = int(input(\"Enter a year: \"))\n",
    "\n",
    "if is_leap_year(year):\n",
    "    print(year, \"is a leap year\")\n",
    "else:\n",
    "    print(year, \"is not a leap year\")"
   ]
  },
  {
   "cell_type": "markdown",
   "metadata": {},
   "source": [
    "2. Python Program to Find the Largest Among Three Numbers"
   ]
  },
  {
   "cell_type": "code",
   "execution_count": 2,
   "metadata": {},
   "outputs": [
    {
     "name": "stdout",
     "output_type": "stream",
     "text": [
      "The largest number is: 55.0\n"
     ]
    }
   ],
   "source": [
    "def find_largest(num1, num2, num3):\n",
    "\n",
    "  largest = num1\n",
    "  if num2 > largest:\n",
    "    largest = num2\n",
    "  if num3 > largest:\n",
    "    largest = num3\n",
    "  return largest\n",
    "\n",
    "num1 = float(input(\"Enter the first number: \"))\n",
    "num2 = float(input(\"Enter the second number: \"))\n",
    "num3 = float(input(\"Enter the third number: \"))\n",
    "\n",
    "largest_number = find_largest(num1, num2, num3)\n",
    "print(\"The largest number is:\", largest_number)\n"
   ]
  },
  {
   "cell_type": "markdown",
   "metadata": {},
   "source": [
    "3. Python Program to Check if a Number is Positive, Negative or 0"
   ]
  },
  {
   "cell_type": "code",
   "execution_count": 3,
   "metadata": {},
   "outputs": [
    {
     "name": "stdout",
     "output_type": "stream",
     "text": [
      "The number is: Negative\n"
     ]
    }
   ],
   "source": [
    "def check_number(number):\n",
    "\n",
    "    if number > 0:\n",
    "        return \"Positive\"\n",
    "    elif number < 0:\n",
    "        return \"Negative\"\n",
    "    else:\n",
    "        return \"Zero\"\n",
    "\n",
    "\n",
    "number = float(input(\"Enter a number: \"))\n",
    "\n",
    "result = check_number(number)\n",
    "print(\"The number is:\", result)"
   ]
  },
  {
   "cell_type": "markdown",
   "metadata": {},
   "source": [
    "4. A toy vendor supplies three types of toys: Battery Based Toys, Key-based\n",
    "\n",
    "Toys, and Electrical Charging Based Toys. The vendor gives a discount of\n",
    "\n",
    "10% on orders for battery-based toys if the order is for more than Rs. 1000.\n",
    "\n",
    "On orders of more than Rs. 100 for key-based toys, a discount of 5% is\n",
    "\n",
    "given, and a discount of 10% is given on orders for electrical charging based\n",
    "\n",
    "toys of value more than Rs. 500. Assume that the numeric codes 1,2 and 3\n",
    "\n",
    "are used for battery based toys, key-based toys, and electrical charging based\n",
    "\n",
    "toys respectively. Write a program that reads the product code and the order\n",
    "\n",
    "amount and prints out the net amount that the customer is required to pay\n",
    "\n",
    "after the discount."
   ]
  },
  {
   "cell_type": "code",
   "execution_count": 4,
   "metadata": {},
   "outputs": [
    {
     "name": "stdout",
     "output_type": "stream",
     "text": [
      "Net amount to be paid: 2033.0\n"
     ]
    }
   ],
   "source": [
    "def calculate_discount(product_code, order_amount):\n",
    "\n",
    "  if product_code == 1 and order_amount > 1000:\n",
    "    discount = 0.1 * order_amount\n",
    "  elif product_code == 2 and order_amount > 100:\n",
    "    discount = 0.05 * order_amount\n",
    "  elif product_code == 3 and order_amount > 500:\n",
    "    discount = 0.1 * order_amount\n",
    "  else:\n",
    "    discount = 0\n",
    "\n",
    "  return discount\n",
    "\n",
    "def calculate_net_amount(product_code, order_amount):\n",
    "  \n",
    "  discount = calculate_discount(product_code, order_amount)\n",
    "  net_amount = order_amount - discount\n",
    "  return net_amount\n",
    "\n",
    "product_code = int(input(\"Enter product code (1 for Battery, 2 for Key, 3 for Electrical): \"))\n",
    "order_amount = float(input(\"Enter order amount: \"))\n",
    "\n",
    "net_amount = calculate_net_amount(product_code, order_amount)\n",
    "print(\"Net amount to be paid:\", net_amount)\n"
   ]
  },
  {
   "cell_type": "markdown",
   "metadata": {},
   "source": [
    "5. A transport company charges the fare according to following table:\n",
    "\n",
    "Distance Charges\n",
    "\n",
    "1-50 8 Rs./Km\n",
    "\n",
    "51-100 10 Rs./Km\n",
    "\n",
    "> 100 12 Rs/Km"
   ]
  },
  {
   "cell_type": "code",
   "execution_count": 5,
   "metadata": {},
   "outputs": [
    {
     "name": "stdout",
     "output_type": "stream",
     "text": [
      "Total fare: 160.0\n"
     ]
    }
   ],
   "source": [
    "def calculate_fare(distance):\n",
    "\n",
    "  if distance <= 50:\n",
    "    fare = distance * 8\n",
    "  elif distance <= 100:\n",
    "    fare = 50 * 8 + (distance - 50) * 10\n",
    "  else:\n",
    "    fare = 50 * 8 + 50 * 10 + (distance - 100) * 12\n",
    "  return fare\n",
    "\n",
    "distance = float(input(\"Enter the distance traveled (in km): \"))\n",
    "\n",
    "total_fare = calculate_fare(distance)\n",
    "print(\"Total fare:\", total_fare)\n"
   ]
  },
  {
   "cell_type": "markdown",
   "metadata": {},
   "source": [
    "6. Write a python program to reverse a number using a while loop."
   ]
  },
  {
   "cell_type": "code",
   "execution_count": 6,
   "metadata": {},
   "outputs": [
    {
     "name": "stdout",
     "output_type": "stream",
     "text": [
      "The reversed number is: 431\n"
     ]
    }
   ],
   "source": [
    "def reverse_number(num):\n",
    "\n",
    "  reversed_num = 0\n",
    "  while num != 0:\n",
    "    digit = num % 10\n",
    "    reversed_num = reversed_num * 10 + digit\n",
    "    num //= 10\n",
    "  return reversed_num\n",
    "\n",
    "number = int(input(\"Enter a number: \"))\n",
    "\n",
    "reversed_number = reverse_number(number)\n",
    "print(\"The reversed number is:\", reversed_number)\n"
   ]
  },
  {
   "cell_type": "markdown",
   "metadata": {},
   "source": [
    "7. Write a python program to check whether a number is palindrome or\n",
    "\n",
    "not?"
   ]
  },
  {
   "cell_type": "code",
   "execution_count": 7,
   "metadata": {},
   "outputs": [
    {
     "name": "stdout",
     "output_type": "stream",
     "text": [
      "345 is not a palindrome\n"
     ]
    }
   ],
   "source": [
    "def is_palindrome(number):\n",
    "  original_number = number\n",
    "  reversed_number = 0\n",
    "  while number > 0:\n",
    "    digit = number % 10\n",
    "    reversed_number = reversed_number * 10 + digit\n",
    "    number //= 10\n",
    "  return original_number == reversed_number\n",
    "\n",
    "\n",
    "number = int(input(\"Enter a number: \"))\n",
    "\n",
    "if is_palindrome(number):\n",
    "  print(number, \"is a palindrome\")\n",
    "else:\n",
    "  print(number, \"is not a palindrome\")\n"
   ]
  },
  {
   "cell_type": "markdown",
   "metadata": {},
   "source": [
    "8. Write a python program finding the factorial of a given number using\n",
    "\n",
    "a while loop."
   ]
  },
  {
   "cell_type": "code",
   "execution_count": 9,
   "metadata": {},
   "outputs": [
    {
     "name": "stdout",
     "output_type": "stream",
     "text": [
      "Factorial of 8 is 40320\n"
     ]
    }
   ],
   "source": [
    "def factorial(num):\n",
    "\n",
    "  if num < 0:\n",
    "    return \"Factorial is not defined for negative numbers\"\n",
    "  elif num == 0:\n",
    "    return 1\n",
    "  else:\n",
    "    factorial = 1\n",
    "    while num > 1:\n",
    "      factorial *= num\n",
    "      num -= 1\n",
    "    return factorial\n",
    "\n",
    "number = int(input(\"Enter a non-negative number: \"))\n",
    "\n",
    "factorial_result = factorial(number)\n",
    "print(\"Factorial of\", number, \"is\", factorial_result)\n"
   ]
  },
  {
   "cell_type": "markdown",
   "metadata": {},
   "source": [
    "9. Accept numbers using input() function until the user enters 0. If user\n",
    "\n",
    "input 0 then break the while loop and display the sum of all the\n",
    "\n",
    "numbers."
   ]
  },
  {
   "cell_type": "code",
   "execution_count": 10,
   "metadata": {},
   "outputs": [
    {
     "name": "stdout",
     "output_type": "stream",
     "text": [
      "Sum of all numbers: 278\n"
     ]
    }
   ],
   "source": [
    "numbers = []\n",
    "while True:\n",
    "  number = int(input(\"Enter a number (0 to stop): \"))\n",
    "  if number == 0:\n",
    "    break\n",
    "  numbers.append(number)\n",
    "\n",
    "sum_of_numbers = sum(numbers)\n",
    "print(\"Sum of all numbers:\", sum_of_numbers)\n"
   ]
  },
  {
   "cell_type": "markdown",
   "metadata": {},
   "source": [
    "10. Print the first 10 natural numbers using for loop"
   ]
  },
  {
   "cell_type": "code",
   "execution_count": 11,
   "metadata": {},
   "outputs": [
    {
     "name": "stdout",
     "output_type": "stream",
     "text": [
      "1 2 3 4 5 6 7 8 9 10 "
     ]
    }
   ],
   "source": [
    "for i in range(1, 11):\n",
    "  print(i, end=\" \")\n"
   ]
  },
  {
   "cell_type": "markdown",
   "metadata": {},
   "source": [
    "11. Python program to check if the given string is a palindrome"
   ]
  },
  {
   "cell_type": "code",
   "execution_count": 13,
   "metadata": {},
   "outputs": [
    {
     "name": "stdout",
     "output_type": "stream",
     "text": [
      "hello is not a palindrome\n"
     ]
    }
   ],
   "source": [
    "def is_palindrome(string):\n",
    " \n",
    "  string = string.replace(\" \", \"\").lower()\n",
    "  return string == string[::-1]\n",
    "\n",
    "string = input(\"Enter a string: \")\n",
    "\n",
    "# Check if the string is a palindrome\n",
    "if is_palindrome(string):\n",
    "  print(string, \"is a palindrome\")\n",
    "else:\n",
    "  print(string, \"is not a palindrome\")\n"
   ]
  },
  {
   "cell_type": "markdown",
   "metadata": {},
   "source": [
    "12. Python program to check if a given number is an Armstrong number"
   ]
  },
  {
   "cell_type": "code",
   "execution_count": 14,
   "metadata": {},
   "outputs": [
    {
     "name": "stdout",
     "output_type": "stream",
     "text": [
      "122334 is not an Armstrong number\n"
     ]
    }
   ],
   "source": [
    "def is_armstrong_number(number):\n",
    "\n",
    "  order = len(str(number))\n",
    "  sum = 0\n",
    "  temp = number\n",
    "  while temp > 0:\n",
    "    digit = temp % 10\n",
    "    sum += digit ** order\n",
    "    temp //= 10\n",
    "  return number == sum\n",
    "\n",
    "number = int(input(\"Enter a number: \"))\n",
    "\n",
    "if is_armstrong_number(number):\n",
    "  print(number, \"is an Armstrong number\")\n",
    "else:\n",
    "  print(number, \"is not an Armstrong number\")\n"
   ]
  },
  {
   "cell_type": "markdown",
   "metadata": {},
   "source": [
    "13. Python program to get the Fibonacci series between 0 to 50"
   ]
  },
  {
   "cell_type": "code",
   "execution_count": 15,
   "metadata": {},
   "outputs": [
    {
     "name": "stdout",
     "output_type": "stream",
     "text": [
      "Fibonacci series up to 50: [0, 1, 1, 2, 3, 5, 8, 13, 21, 34]\n"
     ]
    }
   ],
   "source": [
    "def fibonacci_series(n):\n",
    "  fib_series = [0, 1]\n",
    "  while len(fib_series) < n:\n",
    "    next_num = fib_series[-1] + fib_series[-2]\n",
    "    if next_num > n:\n",
    "      break\n",
    "    fib_series.append(next_num)\n",
    "  return fib_series\n",
    "\n",
    "\n",
    "fib_numbers = fibonacci_series(50)\n",
    "print(\"Fibonacci series up to 50:\", fib_numbers)\n"
   ]
  },
  {
   "cell_type": "markdown",
   "metadata": {},
   "source": [
    "14. Python program to check the validity of password input by users"
   ]
  },
  {
   "cell_type": "code",
   "execution_count": 16,
   "metadata": {},
   "outputs": [
    {
     "name": "stdout",
     "output_type": "stream",
     "text": [
      "Invalid password\n"
     ]
    }
   ],
   "source": [
    "import re\n",
    "\n",
    "def is_valid_password(password):\n",
    "\n",
    "  if len(password) < 8:\n",
    "    return False\n",
    "\n",
    "  if not re.search(r'[A-Z]', password):\n",
    "    return False\n",
    "  if not re.search(r'[a-z]', password):\n",
    "    return False\n",
    "  if not re.search(r'\\d', password):\n",
    "    return False\n",
    "\n",
    "  return True\n",
    "\n",
    "\n",
    "password = input(\"Enter a password: \")\n",
    "\n",
    "if is_valid_password(password):\n",
    "  print(\"Valid password\")\n",
    "else:\n",
    "  print(\"Invalid password\")\n"
   ]
  }
 ],
 "metadata": {
  "kernelspec": {
   "display_name": "Python 3",
   "language": "python",
   "name": "python3"
  },
  "language_info": {
   "codemirror_mode": {
    "name": "ipython",
    "version": 3
   },
   "file_extension": ".py",
   "mimetype": "text/x-python",
   "name": "python",
   "nbconvert_exporter": "python",
   "pygments_lexer": "ipython3",
   "version": "3.11.3"
  }
 },
 "nbformat": 4,
 "nbformat_minor": 2
}
