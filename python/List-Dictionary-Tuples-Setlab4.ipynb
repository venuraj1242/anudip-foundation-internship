{
 "cells": [
  {
   "cell_type": "markdown",
   "metadata": {},
   "source": [
    "LIST"
   ]
  },
  {
   "cell_type": "markdown",
   "metadata": {},
   "source": [
    "1. Write a Python program to sum all the items in a list."
   ]
  },
  {
   "cell_type": "code",
   "execution_count": 1,
   "metadata": {},
   "outputs": [
    {
     "name": "stdout",
     "output_type": "stream",
     "text": [
      "The sum of all items in the list: 15\n"
     ]
    }
   ],
   "source": [
    "def sum_list(items):\n",
    "    total = 0\n",
    "    for item in items:\n",
    "        total += item\n",
    "    return total\n",
    "my_list = [1, 2, 3, 4, 5]\n",
    "print(\"The sum of all items in the list:\", sum_list(my_list))\n"
   ]
  },
  {
   "cell_type": "markdown",
   "metadata": {},
   "source": [
    "2. Write a Python program to get the largest and smallest number from a list without\n",
    "\n",
    "builtin functions."
   ]
  },
  {
   "cell_type": "code",
   "execution_count": 2,
   "metadata": {},
   "outputs": [
    {
     "name": "stdout",
     "output_type": "stream",
     "text": [
      "The largest number is: 10\n",
      "The smallest number is: 2\n"
     ]
    }
   ],
   "source": [
    "def find_largest_and_smallest(numbers):\n",
    " \n",
    "    if len(numbers) == 0:\n",
    "        return None, None \n",
    "\n",
    "    largest = numbers[0]\n",
    "    smallest = numbers[0]\n",
    "\n",
    "    \n",
    "    for num in numbers[1:]:\n",
    "        if num > largest:\n",
    "            largest = num\n",
    "        if num < smallest:\n",
    "            smallest = num\n",
    "\n",
    "    return largest, smallest\n",
    "my_list = [10, 3, 5, 7, 2, 8]\n",
    "largest, smallest = find_largest_and_smallest(my_list)\n",
    "print(\"The largest number is:\", largest)\n",
    "print(\"The smallest number is:\", smallest)\n"
   ]
  },
  {
   "cell_type": "markdown",
   "metadata": {},
   "source": [
    "3. Write a Python program to find duplicate values from a list and display those."
   ]
  },
  {
   "cell_type": "code",
   "execution_count": 3,
   "metadata": {},
   "outputs": [
    {
     "name": "stdout",
     "output_type": "stream",
     "text": [
      "Duplicate values are: [2, 3, 1]\n"
     ]
    }
   ],
   "source": [
    "def find_duplicates(numbers):\n",
    "    duplicates = []\n",
    "    seen = {}\n",
    "\n",
    "    for num in numbers:\n",
    "        if num in seen:\n",
    "            if seen[num] == 1:\n",
    "                duplicates.append(num)\n",
    "            seen[num] += 1\n",
    "        else:\n",
    "            seen[num] = 1\n",
    "\n",
    "    return duplicates\n",
    "\n",
    "\n",
    "my_list = [1, 2, 3, 4, 5, 2, 6, 7, 3, 8, 9, 1]\n",
    "duplicates = find_duplicates(my_list)\n",
    "print(\"Duplicate values are:\", duplicates)\n"
   ]
  },
  {
   "cell_type": "markdown",
   "metadata": {},
   "source": [
    "4. Write a Python program to split a given list into two parts where the length of the first\n",
    "\n",
    "part of the list is given.\n",
    "\n",
    "Original list:\n",
    "\n",
    "[1, 1, 2, 3, 4, 4, 5, 1]\n",
    "\n",
    "Length of the first part of the list: 3\n",
    "\n",
    "Splitted the said list into two parts:\n",
    "\n",
    "([1, 1, 2], [3, 4, 4, 5, 1])"
   ]
  },
  {
   "cell_type": "code",
   "execution_count": 4,
   "metadata": {},
   "outputs": [
    {
     "name": "stdout",
     "output_type": "stream",
     "text": [
      "Original list:\n",
      "[1, 1, 2, 3, 4, 4, 5, 1]\n",
      "Length of the first part of the list: 3\n",
      "Splitted the said list into two parts:\n",
      "([1, 1, 2], [3, 4, 4, 5, 1])\n"
     ]
    }
   ],
   "source": [
    "def split_list(input_list, length_of_first_part):\n",
    "    if length_of_first_part > len(input_list):\n",
    "        return \"Length of the first part is greater than the list length\"\n",
    "\n",
    "    first_part = input_list[:length_of_first_part]\n",
    "    second_part = input_list[length_of_first_part:]\n",
    "    return first_part, second_part\n",
    "\n",
    "\n",
    "original_list = [1, 1, 2, 3, 4, 4, 5, 1]\n",
    "length_of_first_part = 3\n",
    "split_parts = split_list(original_list, length_of_first_part)\n",
    "print(\"Original list:\")\n",
    "print(original_list)\n",
    "print(\"Length of the first part of the list:\", length_of_first_part)\n",
    "print(\"Splitted the said list into two parts:\")\n",
    "print(split_parts)\n"
   ]
  },
  {
   "cell_type": "markdown",
   "metadata": {},
   "source": [
    "5. Write a Python program to traverse a given list in reverse order, and print the\n",
    "\n",
    "elements with the original index.\n",
    "\n",
    "Original list:\n",
    "\n",
    "['red', 'green', 'white', 'black']\n",
    "\n",
    "Traverse the said list in reverse order:\n",
    "\n",
    "black\n",
    "\n",
    "white\n",
    "\n",
    "green\n",
    "\n",
    "red"
   ]
  },
  {
   "cell_type": "code",
   "execution_count": 5,
   "metadata": {},
   "outputs": [
    {
     "name": "stdout",
     "output_type": "stream",
     "text": [
      "Original list:\n",
      "['red', 'green', 'white', 'black']\n",
      "\n",
      "Traverse the said list in reverse order with original indices:\n",
      "Index 3: black\n",
      "Index 2: white\n",
      "Index 1: green\n",
      "Index 0: red\n"
     ]
    }
   ],
   "source": [
    "def traverse_reverse_with_indices(input_list):\n",
    "    for index in range(len(input_list) - 1, -1, -1):\n",
    "        print(f\"Index {index}: {input_list[index]}\")\n",
    "\n",
    "\n",
    "original_list = ['red', 'green', 'white', 'black']\n",
    "print(\"Original list:\")\n",
    "print(original_list)\n",
    "print(\"\\nTraverse the said list in reverse order with original indices:\")\n",
    "traverse_reverse_with_indices(original_list)\n"
   ]
  },
  {
   "cell_type": "markdown",
   "metadata": {},
   "source": [
    " Dictionary"
   ]
  },
  {
   "cell_type": "markdown",
   "metadata": {},
   "source": [
    "1. Write a Python program and calculate the mean of the below dictionary.\n",
    "\n",
    "test_dict = {\"A\" : 6, \"B\" : 9, \"C\" : 5, \"D\" : 7, \"E\" : 4}\n",
    "\n",
    "Output: 6.2\n",
    "\n"
   ]
  },
  {
   "cell_type": "code",
   "execution_count": 6,
   "metadata": {},
   "outputs": [
    {
     "name": "stdout",
     "output_type": "stream",
     "text": [
      "The mean of the values in the dictionary is: 6.2\n"
     ]
    }
   ],
   "source": [
    "def calculate_mean(dictionary):\n",
    "    total_sum = sum(dictionary.values())\n",
    "    count = len(dictionary)\n",
    "    mean = total_sum / count\n",
    "    return mean\n",
    "\n",
    "\n",
    "test_dict = {\"A\": 6, \"B\": 9, \"C\": 5, \"D\": 7, \"E\": 4}\n",
    "mean_value = calculate_mean(test_dict)\n",
    "print(f\"The mean of the values in the dictionary is: {mean_value}\")\n"
   ]
  },
  {
   "cell_type": "markdown",
   "metadata": {},
   "source": [
    "2.Write a Python script to concatenate the following dictionaries to create a new one.\n",
    "\n",
    "Sample Dictionary :\n",
    "\n",
    "dic1={1:10, 2:20}\n",
    "\n",
    "dic2={3:30, 4:40}\n",
    "\n",
    "dic3={5:50,6:60}\n",
    "\n",
    "Expected Result : {1: 10, 2: 20, 3: 30, 4: 40, 5: 50, 6: 60}"
   ]
  },
  {
   "cell_type": "code",
   "execution_count": 7,
   "metadata": {},
   "outputs": [
    {
     "name": "stdout",
     "output_type": "stream",
     "text": [
      "{1: 10, 2: 20, 3: 30, 4: 40, 5: 50, 6: 60}\n"
     ]
    }
   ],
   "source": [
    "dic1 = {1: 10, 2: 20}\n",
    "dic2 = {3: 30, 4: 40}\n",
    "dic3 = {5: 50, 6: 60}\n",
    "\n",
    "# Create a new dictionary by concatenating dic1, dic2, and dic3\n",
    "result = {**dic1, **dic2, **dic3}\n",
    "\n",
    "print(result)\n"
   ]
  },
  {
   "cell_type": "markdown",
   "metadata": {},
   "source": [
    "3.Write a Python program to get the key, value and item in a dictionary.\n",
    "\n",
    "input:dict_num = {1: 10, 2: 20, 3: 30, 4: 40, 5: 50, 6: 60}\n",
    "\n",
    "Output:\n",
    "\n",
    "\n",
    "\n",
    "Key \tValue\n",
    "\n",
    "1\t10\n",
    "\n",
    "2\t20\n",
    "\n",
    "3\t30\n",
    "\n",
    "4\t40\n",
    "\n",
    "5\t50\n",
    "\n",
    "6\t60"
   ]
  },
  {
   "cell_type": "code",
   "execution_count": 8,
   "metadata": {},
   "outputs": [
    {
     "name": "stdout",
     "output_type": "stream",
     "text": [
      "Key\tValue\n",
      "1\t10\n",
      "2\t20\n",
      "3\t30\n",
      "4\t40\n",
      "5\t50\n",
      "6\t60\n"
     ]
    }
   ],
   "source": [
    "dict_num = {1: 10, 2: 20, 3: 30, 4: 40, 5: 50, 6: 60}\n",
    "\n",
    "print(\"Key\\tValue\")\n",
    "for key, value in dict_num.items():\n",
    "    print(f\"{key}\\t{value}\")\n"
   ]
  },
  {
   "cell_type": "markdown",
   "metadata": {},
   "source": [
    "4.Write a Python program to get the key, value and item in a dictionary.\n",
    "\n",
    "Input: input_dict = {1: 10, 2: 20, 3:None, 4: 40, 5: None, 6: 60}\n",
    "\n",
    "\n",
    "\n",
    "Output:\n",
    "\n",
    "dict with empty items Dropped :\n",
    "\n",
    "{1:10,2:40,4:40,6:60}"
   ]
  },
  {
   "cell_type": "code",
   "execution_count": 9,
   "metadata": {},
   "outputs": [
    {
     "name": "stdout",
     "output_type": "stream",
     "text": [
      "Dict with empty items dropped:\n",
      "{1: 10, 2: 20, 4: 40, 6: 60}\n"
     ]
    }
   ],
   "source": [
    "input_dict = {1: 10, 2: 20, 3: None, 4: 40, 5: None, 6: 60}\n",
    "\n",
    "\n",
    "cleaned_dict = {k: v for k, v in input_dict.items() if v is not None}\n",
    "\n",
    "print(\"Dict with empty items dropped:\")\n",
    "print(cleaned_dict)\n"
   ]
  },
  {
   "cell_type": "markdown",
   "metadata": {},
   "source": [
    "Tuple"
   ]
  },
  {
   "cell_type": "markdown",
   "metadata": {},
   "source": [
    "1. Write a Python program to find the number of times 4 appears in the tuple.\n",
    "\n",
    "Input:\n",
    "\n",
    "tuplex = (2, 4, 5, 6, 2, 3, 4, 4, 7 )\n",
    "\n",
    "Output: 3"
   ]
  },
  {
   "cell_type": "code",
   "execution_count": 10,
   "metadata": {},
   "outputs": [
    {
     "name": "stdout",
     "output_type": "stream",
     "text": [
      "3\n"
     ]
    }
   ],
   "source": [
    "\n",
    "tuplex = (2, 4, 5, 6, 2, 3, 4, 4, 7)\n",
    "\n",
    "\n",
    "count_of_4 = tuplex.count(4)\n",
    "\n",
    "\n",
    "print(count_of_4)\n"
   ]
  },
  {
   "cell_type": "markdown",
   "metadata": {},
   "source": [
    "2.Write a Python program to convert a list to a tuple.\n",
    "\n",
    "Input: listx = [5, 10, 7, 4, 15, 3]\n",
    "\n",
    "Output: (5, 10, 7, 4, 15, 3)\n",
    "\n"
   ]
  },
  {
   "cell_type": "code",
   "execution_count": 11,
   "metadata": {},
   "outputs": [
    {
     "name": "stdout",
     "output_type": "stream",
     "text": [
      "(5, 10, 7, 4, 15, 3)\n"
     ]
    }
   ],
   "source": [
    "\n",
    "listx = [5, 10, 7, 4, 15, 3]\n",
    "\n",
    "\n",
    "tuplex = tuple(listx)\n",
    "\n",
    "\n",
    "print(tuplex)\n"
   ]
  },
  {
   "cell_type": "markdown",
   "metadata": {},
   "source": [
    "3. Write a Python program to calculate the sum of the numbers in a given tuple.\n",
    "\n",
    "Input: tuples_list = [(1, 2), (3, 4), (5, 6)]\n",
    "\n",
    "Output:\n",
    "\n",
    "sum of tuple is : 21 "
   ]
  },
  {
   "cell_type": "code",
   "execution_count": 12,
   "metadata": {},
   "outputs": [
    {
     "name": "stdout",
     "output_type": "stream",
     "text": [
      "Sum of tuple is: 21\n"
     ]
    }
   ],
   "source": [
    "\n",
    "tuples_list = [(1, 2), (3, 4), (5, 6)]\n",
    "\n",
    "total_sum = sum(sum(tup) for tup in tuples_list)\n",
    "\n",
    "\n",
    "print(\"Sum of tuple is:\", total_sum)\n"
   ]
  },
  {
   "cell_type": "markdown",
   "metadata": {},
   "source": [
    "4.Write a python program and iterate the given tuples\n",
    "\n",
    "Input:\n",
    "\n",
    "employee1 = (\"John Doe\", 101, \"Human Resources\", 60000)\n",
    "\n",
    "employee2 = (\"Alice Smith\", 102, \"Marketing\", 55000)\n",
    "\n",
    "employee3 = (\"Bob Johnson\", 103, \"Engineering\", 75000)\n",
    "\n",
    "Output:\n",
    "\n",
    "Employee Records :\n",
    "\n",
    "Name : John Doe\n",
    "\n",
    "Employee ID : 101\n",
    "\n",
    "Department : Human Resources\n",
    "\n",
    "Salary\t:  60000\n",
    "\n",
    " \n",
    "\n",
    "Name : Alice Smith\n",
    "\n",
    "Employee ID : 102\n",
    "\n",
    "Department :Marketing\n",
    "\n",
    "Salary\t:  55000\n",
    "\n",
    "\n",
    "\n",
    "Name : Bob Johnson\n",
    "\n",
    "Employee ID : 103\n",
    "\n",
    "Department : Engineering\n",
    "\n",
    "Salary\t:  75000\n",
    "\n"
   ]
  },
  {
   "cell_type": "code",
   "execution_count": 14,
   "metadata": {},
   "outputs": [
    {
     "name": "stdout",
     "output_type": "stream",
     "text": [
      "Employee Records:\n",
      "\n",
      "Name : John Doe\n",
      "Employee ID : 101\n",
      "Department : Human Resources\n",
      "Salary : 60000\n",
      "\n",
      "Name : Alice Smith\n",
      "Employee ID : 102\n",
      "Department : Marketing\n",
      "Salary : 55000\n",
      "\n",
      "Name : Bob Johnson\n",
      "Employee ID : 103\n",
      "Department : Engineering\n",
      "Salary : 75000\n",
      "\n"
     ]
    }
   ],
   "source": [
    "\n",
    "employee1 = (\"John Doe\", 101, \"Human Resources\", 60000)\n",
    "employee2 = (\"Alice Smith\", 102, \"Marketing\", 55000)\n",
    "employee3 = (\"Bob Johnson\", 103, \"Engineering\", 75000)\n",
    "\n",
    "\n",
    "employees = [employee1, employee2, employee3]\n",
    "\n",
    "print(\"Employee Records:\\n\")\n",
    "\n",
    "for employee in employees:\n",
    "    name, emp_id, department, salary = employee\n",
    "    print(f\"Name : {name}\")\n",
    "    print(f\"Employee ID : {emp_id}\")\n",
    "    print(f\"Department : {department}\")\n",
    "    print(f\"Salary : {salary}\")\n",
    "    print()  \n"
   ]
  },
  {
   "cell_type": "markdown",
   "metadata": {},
   "source": [
    "SETS"
   ]
  },
  {
   "cell_type": "markdown",
   "metadata": {},
   "source": [
    "1. Write a Python program to Get Only unique items from two sets.\n",
    "\n",
    "Input:\n",
    "\n",
    "set1 = {10, 20, 30, 40, 50}\n",
    "\n",
    "set2 = {30, 40, 50, 60, 70}\n",
    "\n",
    "Output:\n",
    "\n",
    "{70, 40, 10, 50, 20, 60, 30}"
   ]
  },
  {
   "cell_type": "code",
   "execution_count": 15,
   "metadata": {},
   "outputs": [
    {
     "name": "stdout",
     "output_type": "stream",
     "text": [
      "{70, 40, 10, 50, 20, 60, 30}\n"
     ]
    }
   ],
   "source": [
    "\n",
    "set1 = {10, 20, 30, 40, 50}\n",
    "set2 = {30, 40, 50, 60, 70}\n",
    "\n",
    "\n",
    "unique_items = set1.union(set2)  \n",
    "\n",
    "\n",
    "print(unique_items)\n"
   ]
  },
  {
   "cell_type": "markdown",
   "metadata": {},
   "source": [
    "2. Write a Python program to Return a set of elements present in Set A or B, but\n",
    "\n",
    "not both.\n",
    "\n",
    "Input:\n",
    "\n",
    "set1 = {10, 20, 30, 40, 50}\n",
    "\n",
    "set2 = {30, 40, 50, 60, 70}\n",
    "\n",
    "Output:\n",
    "\n",
    "{20, 70, 10, 60}\n",
    "\n"
   ]
  },
  {
   "cell_type": "code",
   "execution_count": 16,
   "metadata": {},
   "outputs": [
    {
     "name": "stdout",
     "output_type": "stream",
     "text": [
      "{20, 70, 10, 60}\n"
     ]
    }
   ],
   "source": [
    "\n",
    "set1 = {10, 20, 30, 40, 50}\n",
    "set2 = {30, 40, 50, 60, 70}\n",
    "\n",
    "unique_elements = set1.symmetric_difference(set2)\n",
    "\n",
    "\n",
    "print(unique_elements)\n"
   ]
  },
  {
   "cell_type": "markdown",
   "metadata": {},
   "source": [
    "3. Write a Python program to Check if two sets have any elements in common. If\n",
    "\n",
    "yes, display the common elements.\n",
    "\n",
    "Input:\n",
    "\n",
    "set1 = {10, 20, 30, 40, 50}\n",
    "\n",
    "set2 = {60, 70, 80, 90, 10}\n",
    "\n",
    "Output:\n",
    "\n",
    "{10}"
   ]
  },
  {
   "cell_type": "code",
   "execution_count": 17,
   "metadata": {},
   "outputs": [
    {
     "name": "stdout",
     "output_type": "stream",
     "text": [
      "{10}\n"
     ]
    }
   ],
   "source": [
    "\n",
    "set1 = {10, 20, 30, 40, 50}\n",
    "set2 = {60, 70, 80, 90, 10}\n",
    "\n",
    "\n",
    "common_elements = set1.intersection(set2)\n",
    "\n",
    "\n",
    "if common_elements:\n",
    "    print(common_elements)\n",
    "else:\n",
    "    print(\"No common elements\")\n"
   ]
  },
  {
   "cell_type": "markdown",
   "metadata": {},
   "source": [
    "4. Write a Python program to Remove items from set1 that are not common to\n",
    "\n",
    "both set1 and set2.\n",
    "\n",
    "Input:\n",
    "\n",
    "set1 = {10, 20, 30, 40, 50}\n",
    "\n",
    "set2 = {30, 40, 50, 60, 70}\n",
    "\n",
    "Output:\n",
    "\n",
    "{40, 50, 30}"
   ]
  },
  {
   "cell_type": "code",
   "execution_count": 19,
   "metadata": {},
   "outputs": [
    {
     "name": "stdout",
     "output_type": "stream",
     "text": [
      "{40, 50, 30}\n"
     ]
    }
   ],
   "source": [
    "\n",
    "set1 = {10, 20, 30, 40, 50}\n",
    "set2 = {30, 40, 50, 60, 70}\n",
    "\n",
    "\n",
    "common_elements = set1.intersection(set2)\n",
    "\n",
    "\n",
    "set1.intersection_update(set2)\n",
    "\n",
    "\n",
    "print(set1)\n"
   ]
  }
 ],
 "metadata": {
  "kernelspec": {
   "display_name": "Python 3",
   "language": "python",
   "name": "python3"
  },
  "language_info": {
   "codemirror_mode": {
    "name": "ipython",
    "version": 3
   },
   "file_extension": ".py",
   "mimetype": "text/x-python",
   "name": "python",
   "nbconvert_exporter": "python",
   "pygments_lexer": "ipython3",
   "version": "3.8.10"
  }
 },
 "nbformat": 4,
 "nbformat_minor": 2
}
