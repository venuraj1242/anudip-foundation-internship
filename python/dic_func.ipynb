{
 "cells": [
  {
   "cell_type": "code",
   "execution_count": 11,
   "metadata": {},
   "outputs": [
    {
     "name": "stdout",
     "output_type": "stream",
     "text": [
      "{'stdid': 'std101', 'stdname': 'ashish kumar', 'standard': '10th', 'age': 15, 'hindi': 67, 'english': 89}\n"
     ]
    }
   ],
   "source": [
    "studentdata ={ \"stdid\":'std101', \"stdname\": 'ashish kumar', 'standard': '10th', 'age': 15, 'hindi':67, 'english':89}\n",
    "print(studentdata)"
   ]
  },
  {
   "cell_type": "code",
   "execution_count": 12,
   "metadata": {},
   "outputs": [
    {
     "data": {
      "text/plain": [
       "67"
      ]
     },
     "execution_count": 12,
     "metadata": {},
     "output_type": "execute_result"
    }
   ],
   "source": [
    "#delete element having key as hindi \n",
    "studentdata.pop('hindi')"
   ]
  },
  {
   "cell_type": "code",
   "execution_count": 13,
   "metadata": {},
   "outputs": [
    {
     "ename": "TypeError",
     "evalue": "pop expected at least 1 argument, got 0",
     "output_type": "error",
     "traceback": [
      "\u001b[1;31m---------------------------------------------------------------------------\u001b[0m",
      "\u001b[1;31mTypeError\u001b[0m                                 Traceback (most recent call last)",
      "Cell \u001b[1;32mIn[13], line 1\u001b[0m\n\u001b[1;32m----> 1\u001b[0m \u001b[43mstudentdata\u001b[49m\u001b[38;5;241;43m.\u001b[39;49m\u001b[43mpop\u001b[49m\u001b[43m(\u001b[49m\u001b[43m)\u001b[49m\n",
      "\u001b[1;31mTypeError\u001b[0m: pop expected at least 1 argument, got 0"
     ]
    }
   ],
   "source": [
    "studentdata.pop()"
   ]
  },
  {
   "cell_type": "code",
   "execution_count": null,
   "metadata": {},
   "outputs": [
    {
     "data": {
      "text/plain": [
       "15"
      ]
     },
     "execution_count": 6,
     "metadata": {},
     "output_type": "execute_result"
    }
   ],
   "source": [
    "studentdata.pop('age','english')"
   ]
  },
  {
   "cell_type": "code",
   "execution_count": null,
   "metadata": {},
   "outputs": [
    {
     "name": "stdout",
     "output_type": "stream",
     "text": [
      "{'stdid': 'std101', 'stdname': 'ashish kumar', 'standard': '10th', 'english': 89}\n"
     ]
    }
   ],
   "source": [
    "print(studentdata)"
   ]
  },
  {
   "cell_type": "code",
   "execution_count": null,
   "metadata": {},
   "outputs": [
    {
     "name": "stdout",
     "output_type": "stream",
     "text": [
      "{'stdid': 'std101', 'stdname': 'ashish kumar'}\n"
     ]
    }
   ],
   "source": [
    "studentdata.popitem()\n",
    "print(studentdata)"
   ]
  },
  {
   "cell_type": "code",
   "execution_count": 14,
   "metadata": {},
   "outputs": [
    {
     "name": "stdout",
     "output_type": "stream",
     "text": [
      "dict_keys(['stdid', 'stdname', 'standard', 'age', 'english'])\n"
     ]
    }
   ],
   "source": [
    "# keys() find all the keys of dic \n",
    "elements=studentdata.keys()\n",
    "print(elements)"
   ]
  },
  {
   "cell_type": "code",
   "execution_count": 15,
   "metadata": {},
   "outputs": [
    {
     "name": "stdout",
     "output_type": "stream",
     "text": [
      "dict_values(['std101', 'ashish kumar', '10th', 15, 89])\n"
     ]
    }
   ],
   "source": [
    "# find out all the elements\n",
    "elements=studentdata.values()\n",
    "print(elements)"
   ]
  },
  {
   "cell_type": "code",
   "execution_count": 17,
   "metadata": {},
   "outputs": [
    {
     "name": "stdout",
     "output_type": "stream",
     "text": [
      "dict_items([('stdid', 'std101'), ('stdname', 'ashish kumar'), ('standard', '10th'), ('age', 15), ('english', 89)])\n"
     ]
    }
   ],
   "source": [
    "# find out all the elements\n",
    "elements=studentdata.items()\n",
    "print(elements)"
   ]
  },
  {
   "cell_type": "code",
   "execution_count": 18,
   "metadata": {},
   "outputs": [
    {
     "name": "stdout",
     "output_type": "stream",
     "text": [
      "std101\n",
      "ashish kumar\n",
      "10th\n",
      "15\n",
      "89\n"
     ]
    }
   ],
   "source": [
    "# to find the values of all the elements\n",
    "for data in studentdata.values():\n",
    "    print(data)"
   ]
  },
  {
   "cell_type": "code",
   "execution_count": 20,
   "metadata": {},
   "outputs": [
    {
     "name": "stdout",
     "output_type": "stream",
     "text": [
      "None\n"
     ]
    }
   ],
   "source": [
    "x=studentdata.get('maths')\n",
    "print(x)"
   ]
  },
  {
   "cell_type": "code",
   "execution_count": 22,
   "metadata": {},
   "outputs": [
    {
     "name": "stdout",
     "output_type": "stream",
     "text": [
      "kill\n"
     ]
    }
   ],
   "source": [
    "x=studentdata.get('maths',\"kill\")\n",
    "print(x)"
   ]
  },
  {
   "cell_type": "code",
   "execution_count": 25,
   "metadata": {},
   "outputs": [
    {
     "name": "stdout",
     "output_type": "stream",
     "text": [
      "first= {'name': 'amit', 'age': 15, 'standard': '10th'}\n",
      "first= {'hindi': 67, 'age': 16, 'standard': '12th', 'english': 67}\n"
     ]
    }
   ],
   "source": [
    "# first dic object \n",
    "dicobj1={'name': 'amit', 'age': 15, 'standard': '10th'}\n",
    "print(\"first=\",dicobj1)\n",
    "dicobj2={'hindi': 67, 'age':16, 'standard': '12th','english':67}\n",
    "print(\"first=\",dicobj2)"
   ]
  },
  {
   "cell_type": "code",
   "execution_count": 26,
   "metadata": {},
   "outputs": [
    {
     "name": "stdout",
     "output_type": "stream",
     "text": [
      "{'name': 'amit', 'age': 16, 'standard': '12th', 'hindi': 67, 'english': 67}\n"
     ]
    }
   ],
   "source": [
    "# inseting all the elements of second dic into first \n",
    "dicobj1.update(dicobj2)\n",
    "print(dicobj1)"
   ]
  },
  {
   "cell_type": "code",
   "execution_count": 32,
   "metadata": {},
   "outputs": [
    {
     "name": "stdout",
     "output_type": "stream",
     "text": [
      "{'name': dict_values([67, 16, '12th', 67]), 'age': dict_values([67, 16, '12th', 67]), 'standard': dict_values([67, 16, '12th', 67]), 'hindi': dict_values([67, 16, '12th', 67]), 'english': dict_values([67, 16, '12th', 67])}\n"
     ]
    }
   ],
   "source": [
    "x=dicobj1.fromkeys(dicobj1.keys(),dicobj2.values())\n",
    "print(x)"
   ]
  },
  {
   "cell_type": "code",
   "execution_count": 48,
   "metadata": {},
   "outputs": [
    {
     "name": "stdout",
     "output_type": "stream",
     "text": [
      "{'name': 15, 'age': 15, 'standard': 15, 'hindi': 15, 'english': 15}\n"
     ]
    }
   ],
   "source": [
    "x=dicobj1.fromkeys(dicobj1.keys(),15)\n",
    "print(x)\n",
    "\n"
   ]
  },
  {
   "cell_type": "code",
   "execution_count": 49,
   "metadata": {},
   "outputs": [
    {
     "name": "stdout",
     "output_type": "stream",
     "text": [
      "5\n"
     ]
    }
   ],
   "source": [
    "x=len(dicobj1)\n",
    "print(x)"
   ]
  }
 ],
 "metadata": {
  "kernelspec": {
   "display_name": "Python 3",
   "language": "python",
   "name": "python3"
  },
  "language_info": {
   "codemirror_mode": {
    "name": "ipython",
    "version": 3
   },
   "file_extension": ".py",
   "mimetype": "text/x-python",
   "name": "python",
   "nbconvert_exporter": "python",
   "pygments_lexer": "ipython3",
   "version": "3.11.3"
  }
 },
 "nbformat": 4,
 "nbformat_minor": 2
}
