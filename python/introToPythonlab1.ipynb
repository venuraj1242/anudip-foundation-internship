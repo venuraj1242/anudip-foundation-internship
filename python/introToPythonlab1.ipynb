{
 "cells": [
  {
   "cell_type": "markdown",
   "metadata": {},
   "source": [
    "1. Using input() function take one number from the user and using ternary operators\n",
    "\n",
    "check whether the number is even or odd"
   ]
  },
  {
   "cell_type": "code",
   "execution_count": 1,
   "metadata": {},
   "outputs": [
    {
     "name": "stdout",
     "output_type": "stream",
     "text": [
      "Even\n"
     ]
    }
   ],
   "source": [
    "number = int(input(\"Enter a number: \"))\n",
    "result = \"Even\" if number % 2 == 0 else \"Odd\"\n",
    "print(result)\n"
   ]
  },
  {
   "cell_type": "markdown",
   "metadata": {},
   "source": [
    "2. Using input function take two number and then swap the number"
   ]
  },
  {
   "cell_type": "code",
   "execution_count": 2,
   "metadata": {},
   "outputs": [
    {
     "name": "stdout",
     "output_type": "stream",
     "text": [
      "Swapped numbers:\n",
      "Number 1: 6\n",
      "Number 2: 2\n"
     ]
    }
   ],
   "source": [
    "num1 = int(input(\"Enter the first number: \"))\n",
    "num2 = int(input(\"Enter the second number: \"))\n",
    "\n",
    "# Swapping numbers using tuple unpacking\n",
    "num1, num2 = num2, num1\n",
    "\n",
    "print(\"Swapped numbers:\")\n",
    "print(\"Number 1:\", num1)\n",
    "print(\"Number 2:\", num2)\n"
   ]
  },
  {
   "cell_type": "markdown",
   "metadata": {},
   "source": [
    "3. Write a Program to Convert Kilometers to Miles"
   ]
  },
  {
   "cell_type": "code",
   "execution_count": 3,
   "metadata": {},
   "outputs": [
    {
     "name": "stdout",
     "output_type": "stream",
     "text": [
      "3.0 kilometers is equal to 1.86 miles\n"
     ]
    }
   ],
   "source": [
    "def km_to_miles(kilometers):\n",
    "  \"\"\"Converts kilometers to miles.\"\"\"\n",
    "  miles = kilometers * 0.621371\n",
    "  return miles\n",
    "\n",
    "kilometers = float(input(\"Enter distance in kilometers: \"))\n",
    "miles = km_to_miles(kilometers)\n",
    "print(f\"{kilometers} kilometers is equal to {miles:.2f} miles\")"
   ]
  },
  {
   "cell_type": "markdown",
   "metadata": {},
   "source": [
    "4. Find the Simple Interest on Rs. 200 for 5 years at 5% per year"
   ]
  },
  {
   "cell_type": "code",
   "execution_count": 4,
   "metadata": {},
   "outputs": [
    {
     "name": "stdout",
     "output_type": "stream",
     "text": [
      "Simple Interest = 50.0\n"
     ]
    }
   ],
   "source": [
    "def simple_interest(principal, rate, time):\n",
    "  \"\"\"Calculates simple interest.\"\"\"\n",
    "  si = (principal * rate * time) / 100\n",
    "  return si\n",
    "\n",
    "principal = 200\n",
    "rate = 5\n",
    "time = 5\n",
    "\n",
    "interest = simple_interest(principal, rate, time)\n",
    "print(\"Simple Interest =\", interest)"
   ]
  }
 ],
 "metadata": {
  "kernelspec": {
   "display_name": "Python 3",
   "language": "python",
   "name": "python3"
  },
  "language_info": {
   "codemirror_mode": {
    "name": "ipython",
    "version": 3
   },
   "file_extension": ".py",
   "mimetype": "text/x-python",
   "name": "python",
   "nbconvert_exporter": "python",
   "pygments_lexer": "ipython3",
   "version": "3.11.3"
  }
 },
 "nbformat": 4,
 "nbformat_minor": 2
}
