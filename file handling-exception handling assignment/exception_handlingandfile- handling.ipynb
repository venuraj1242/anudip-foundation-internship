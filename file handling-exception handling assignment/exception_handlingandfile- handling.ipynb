{
 "cells": [
  {
   "cell_type": "markdown",
   "metadata": {},
   "source": [
    "FILE-HANDLING"
   ]
  },
  {
   "cell_type": "markdown",
   "metadata": {},
   "source": [
    "1. Write a function in python to read the content from a text file \"ABC.txt\" line by line\n",
    "\n",
    "and display the same on screen."
   ]
  },
  {
   "cell_type": "code",
   "execution_count": 1,
   "metadata": {},
   "outputs": [
    {
     "name": "stdout",
     "output_type": "stream",
     "text": [
      "In the beginning.\n",
      "There was light.\n",
      "It is a beautiful day outside.\n",
      "There was light.\n",
      "Ice cream is a delicious treat on a hot day.\n",
      "Invest in yourself, it pays the best interest.\n"
     ]
    }
   ],
   "source": [
    "def read_file_line_by_line(filename):\n",
    "  with open(filename, \"r\") as file:\n",
    "    for line in file:\n",
    "      print(line.strip())\n",
    "\n",
    "read_file_line_by_line(\"ABC.txt\")"
   ]
  },
  {
   "cell_type": "markdown",
   "metadata": {},
   "source": [
    "2. Write a function in Python to count and display the total number of words in a text\n",
    "\n",
    "file “ABC.txt”"
   ]
  },
  {
   "cell_type": "code",
   "execution_count": 2,
   "metadata": {},
   "outputs": [
    {
     "name": "stdout",
     "output_type": "stream",
     "text": [
      "Total words: 33\n"
     ]
    }
   ],
   "source": [
    "def count_words(filename):\n",
    "  word_count = 0\n",
    "  with open(filename, \"r\") as file:\n",
    "    for line in file:\n",
    "      words = line.split()\n",
    "      word_count += len(words)\n",
    "  return word_count\n",
    "total_words = count_words(\"ABC.txt\")\n",
    "print(\"Total words:\", total_words)"
   ]
  },
  {
   "cell_type": "markdown",
   "metadata": {},
   "source": [
    "3. Write a function in Python to count uppercase character in a text file “ABC.txt”"
   ]
  },
  {
   "cell_type": "code",
   "execution_count": 3,
   "metadata": {},
   "outputs": [
    {
     "name": "stdout",
     "output_type": "stream",
     "text": [
      "Number of uppercase characters: 6\n"
     ]
    }
   ],
   "source": [
    "def count_uppercase_characters(filename):\n",
    "  uppercase_count = 0\n",
    "  with open(filename, \"r\") as file:\n",
    "    for line in file:\n",
    "      for char in line:\n",
    "        if char.isupper():\n",
    "          uppercase_count += 1\n",
    "  return uppercase_count\n",
    "\n",
    "uppercase_count = count_uppercase_characters(\"ABC.txt\")\n",
    "print(\"Number of uppercase characters:\", uppercase_count)\n"
   ]
  },
  {
   "cell_type": "markdown",
   "metadata": {},
   "source": [
    "4. Write a function display_words() in python to read lines from a text file \"story.txt\",\n",
    "\n",
    "and display those words, which are less than 4 characters."
   ]
  },
  {
   "cell_type": "code",
   "execution_count": 4,
   "metadata": {},
   "outputs": [
    {
     "name": "stdout",
     "output_type": "stream",
     "text": [
      "The\n",
      "fox\n",
      "the\n",
      "Sky\n",
      "is\n"
     ]
    }
   ],
   "source": [
    "def display_words(filename):\n",
    "  with open(filename, \"r\") as file:\n",
    "    for line in file:\n",
    "      words = line.split()\n",
    "      for word in words:\n",
    "        if len(word) < 4:\n",
    "          print(word)\n",
    "\n",
    "display_words(\"story.txt\")"
   ]
  },
  {
   "cell_type": "markdown",
   "metadata": {},
   "source": [
    "EXCEPTION HANDLING"
   ]
  },
  {
   "cell_type": "markdown",
   "metadata": {},
   "source": [
    "1: Write a Python program to handle a ZeroDivisionError exception when dividing a number by zero."
   ]
  },
  {
   "cell_type": "code",
   "execution_count": null,
   "metadata": {},
   "outputs": [],
   "source": [
    "def divide_numbers(a, b):\n",
    "    try:\n",
    "        result = a / b\n",
    "        print(f\"The result of dividing {a} by {b} is {result}\")\n",
    "    except ZeroDivisionError:\n",
    "        print(\"Error: Division by zero is not allowed.\")\n",
    "\n",
    "# Test the function\n",
    "num1 = float(input(\"Enter the numerator: \"))\n",
    "num2 = float(input(\"Enter the denominator: \"))\n",
    "divide_numbers(num1, num2)\n"
   ]
  },
  {
   "cell_type": "markdown",
   "metadata": {},
   "source": [
    "QUES 2:Write a Python program that prompts the user to input an integer and raises a ValueError exception if the input is not a valid integer."
   ]
  },
  {
   "cell_type": "code",
   "execution_count": null,
   "metadata": {},
   "outputs": [],
   "source": [
    "def get_integer():\n",
    "    while True:\n",
    "        user_input = input(\"Please enter an integer: \")\n",
    "        try:\n",
    "            user_input = int(user_input)\n",
    "            print(f\"Thank you! You entered the integer: {user_input}\")\n",
    "            break\n",
    "        except ValueError:\n",
    "            print(\"Error: That was not a valid integer. Please try again.\")\n",
    "\n",
    "get_integer()\n"
   ]
  },
  {
   "cell_type": "markdown",
   "metadata": {},
   "source": [
    "QUES 3:Write a Python program that opens a file and handles a FileNotFoundError exception if the file does not exist."
   ]
  },
  {
   "cell_type": "code",
   "execution_count": null,
   "metadata": {},
   "outputs": [],
   "source": [
    "def open_file(filename):\n",
    "    try:\n",
    "        with open(filename, 'r') as file:\n",
    "            content = file.read()\n",
    "            print(f\"File content:\\n{content}\")\n",
    "    except FileNotFoundError:\n",
    "        print(f\"Error: The file '{filename}' does not exist.\")\n",
    "\n",
    "# Test the function\n",
    "filename = input(\"Please enter the filename to open: \")\n",
    "open_file(filename)\n"
   ]
  },
  {
   "cell_type": "markdown",
   "metadata": {},
   "source": [
    "QUES 4:Write a Python program that prompts the user to input two numbers and raises a TypeError exception if the inputs are not numerical"
   ]
  },
  {
   "cell_type": "code",
   "execution_count": null,
   "metadata": {},
   "outputs": [],
   "source": [
    "def get_numbers():\n",
    "    try:\n",
    "        num1 = input(\"Please enter the first number: \")\n",
    "        num2 = input(\"Please enter the second number: \")\n",
    "\n",
    "        # Attempt to convert inputs to float\n",
    "        num1 = float(num1)\n",
    "        num2 = float(num2)\n",
    "\n",
    "        print(f\"Thank you! You entered the numbers: {num1} and {num2}\")\n",
    "    except ValueError:\n",
    "        raise TypeError(\"Error: Both inputs must be numerical values.\")\n",
    "\n",
    "# Test the function\n",
    "get_numbers()\n"
   ]
  }
 ],
 "metadata": {
  "kernelspec": {
   "display_name": "Python 3",
   "language": "python",
   "name": "python3"
  },
  "language_info": {
   "codemirror_mode": {
    "name": "ipython",
    "version": 3
   },
   "file_extension": ".py",
   "mimetype": "text/x-python",
   "name": "python",
   "nbconvert_exporter": "python",
   "pygments_lexer": "ipython3",
   "version": "3.12.1"
  }
 },
 "nbformat": 4,
 "nbformat_minor": 2
}
