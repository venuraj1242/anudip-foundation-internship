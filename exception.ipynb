{
 "cells": [
  {
   "cell_type": "code",
   "execution_count": 2,
   "metadata": {},
   "outputs": [
    {
     "name": "stdout",
     "output_type": "stream",
     "text": [
      "line 1 \n",
      "line 2 \n",
      "line 3 \n",
      "line 4 \n"
     ]
    },
    {
     "ename": "ZeroDivisionError",
     "evalue": "division by zero",
     "output_type": "error",
     "traceback": [
      "\u001b[1;31m---------------------------------------------------------------------------\u001b[0m",
      "\u001b[1;31mZeroDivisionError\u001b[0m                         Traceback (most recent call last)",
      "Cell \u001b[1;32mIn[2], line 7\u001b[0m\n\u001b[0;32m      5\u001b[0m num1\u001b[38;5;241m=\u001b[39m \u001b[38;5;28mint\u001b[39m(\u001b[38;5;28minput\u001b[39m(\u001b[38;5;124m\"\u001b[39m\u001b[38;5;124menter first number\u001b[39m\u001b[38;5;124m\"\u001b[39m))\n\u001b[0;32m      6\u001b[0m num2\u001b[38;5;241m=\u001b[39m \u001b[38;5;28mint\u001b[39m(\u001b[38;5;28minput\u001b[39m(\u001b[38;5;124m\"\u001b[39m\u001b[38;5;124menter second number\u001b[39m\u001b[38;5;124m\"\u001b[39m))\n\u001b[1;32m----> 7\u001b[0m \u001b[38;5;28mprint\u001b[39m(\u001b[43mnum1\u001b[49m\u001b[38;5;241;43m/\u001b[39;49m\u001b[43mnum2\u001b[49m)\n\u001b[0;32m      8\u001b[0m \u001b[38;5;28mprint\u001b[39m(\u001b[38;5;124m\"\u001b[39m\u001b[38;5;124mline 5\u001b[39m\u001b[38;5;124m\"\u001b[39m)\n\u001b[0;32m      9\u001b[0m \u001b[38;5;28mprint\u001b[39m(\u001b[38;5;124m\"\u001b[39m\u001b[38;5;124mline 6\u001b[39m\u001b[38;5;124m\"\u001b[39m)\n",
      "\u001b[1;31mZeroDivisionError\u001b[0m: division by zero"
     ]
    }
   ],
   "source": [
    "print(\"line 1 \")\n",
    "print(\"line 2 \")\n",
    "print(\"line 3 \")\n",
    "print(\"line 4 \")\n",
    "\n",
    "num1= int(input(\"enter first number\"))\n",
    "num2= int(input(\"enter second number\"))\n",
    "print(num1/num2)\n",
    "print(\"line 5\")\n",
    "print(\"line 6\")\n",
    "\n"
   ]
  },
  {
   "cell_type": "code",
   "execution_count": 5,
   "metadata": {},
   "outputs": [
    {
     "name": "stdout",
     "output_type": "stream",
     "text": [
      "line 1 \n",
      "line 2 \n",
      "line 3 \n",
      "line 4 \n",
      "11.0\n",
      "inside the try\n",
      "line 6\n"
     ]
    }
   ],
   "source": [
    "print(\"line 1 \")\n",
    "print(\"line 2 \")\n",
    "print(\"line 3 \")\n",
    "print(\"line 4 \")\n",
    "\n",
    "num1 = int(input(\"enter first number\"))\n",
    "num2 = int(input(\"enter second number\"))\n",
    "try:\n",
    "    print(num1 / num2)\n",
    "    print(\"inside the try\")\n",
    "except ZeroDivisionError as e:\n",
    "    print(\"inside the except :\", e)\n",
    "print(\"line 6\")"
   ]
  },
  {
   "cell_type": "code",
   "execution_count": 7,
   "metadata": {},
   "outputs": [
    {
     "name": "stdout",
     "output_type": "stream",
     "text": [
      "line 1 \n",
      "line 2 \n",
      "line 3 \n",
      "line 4 \n",
      "inside the except :\n",
      "line 6\n"
     ]
    }
   ],
   "source": [
    "print(\"line 1 \")\n",
    "print(\"line 2 \")\n",
    "print(\"line 3 \")\n",
    "print(\"line 4 \")\n",
    "\n",
    "num1 = int(input(\"enter first number\"))\n",
    "num2 = int(input(\"enter second number\"))\n",
    "try:\n",
    "    print(num1 / num2)\n",
    "    print(\"inside the try\")\n",
    "    open(\"r.txt\")\n",
    "except (ZeroDivisionError , FileNotFoundError) :\n",
    "    print(\"inside the except :\")\n",
    "print(\"line 6\")"
   ]
  },
  {
   "cell_type": "code",
   "execution_count": 10,
   "metadata": {},
   "outputs": [
    {
     "name": "stdout",
     "output_type": "stream",
     "text": [
      "line 1 \n",
      "line 2 \n",
      "line 3 \n",
      "line 4 \n",
      "1.0\n",
      "inside the try\n",
      "inside the except 2 [Errno 2] No such file or directory: 'r.txt'\n",
      "line 6\n"
     ]
    }
   ],
   "source": [
    "print(\"line 1 \")\n",
    "print(\"line 2 \")\n",
    "print(\"line 3 \")\n",
    "print(\"line 4 \")\n",
    "\n",
    "num1 = int(input(\"enter first number\"))\n",
    "num2 = int(input(\"enter second number\"))\n",
    "try:\n",
    "    print(num1 / num2)\n",
    "    print(\"inside the try\")\n",
    "    open(\"r.txt\")\n",
    "except ZeroDivisionError as e: \n",
    "    print(\"inside the except :\",e)\n",
    "except FileNotFoundError as e :\n",
    "    print(\"inside the except 2\",e)\n",
    "print(\"line 6\")"
   ]
  },
  {
   "cell_type": "markdown",
   "metadata": {},
   "source": [
    "indentation error,name error, type error, value error, zerodivision error"
   ]
  },
  {
   "cell_type": "code",
   "execution_count": 11,
   "metadata": {},
   "outputs": [
    {
     "name": "stdout",
     "output_type": "stream",
     "text": [
      "line 1 \n",
      "line 2 \n",
      "line 3 \n",
      "line 4 \n",
      "1.3333333333333333\n",
      "inside the try\n",
      "inside the except\n",
      "line 6\n"
     ]
    }
   ],
   "source": [
    "print(\"line 1 \")\n",
    "print(\"line 2 \")\n",
    "print(\"line 3 \")\n",
    "print(\"line 4 \")\n",
    "\n",
    "num1 = int(input(\"enter first number\"))\n",
    "num2 = int(input(\"enter second number\"))\n",
    "try:\n",
    "    print(num1 / num2)\n",
    "    print(\"inside the try\")\n",
    "    open(\"r.txt\")\n",
    "except :\n",
    "    print(\"inside the except\")\n",
    "print(\"line 6\")"
   ]
  },
  {
   "cell_type": "code",
   "execution_count": 14,
   "metadata": {},
   "outputs": [
    {
     "name": "stdout",
     "output_type": "stream",
     "text": [
      "line 1 \n",
      "line 2 \n",
      "line 3 \n",
      "line 4 \n",
      "11.0\n",
      "inside the try\n",
      "else block\n",
      "finally block\n",
      "line 6\n"
     ]
    }
   ],
   "source": [
    "print(\"line 1 \")\n",
    "print(\"line 2 \")\n",
    "print(\"line 3 \")\n",
    "print(\"line 4 \")\n",
    "\n",
    "num1 = int(input(\"enter first number\"))\n",
    "num2 = int(input(\"enter second number\"))\n",
    "try:\n",
    "    print(num1 / num2)\n",
    "    print(\"inside the try\")\n",
    "   \n",
    "except :\n",
    "    print(\"inside the except\")\n",
    "else:\n",
    "    print(\"else block\")\n",
    "finally:\n",
    "    print(\"finally block\")\n",
    "print(\"line 6\")"
   ]
  }
 ],
 "metadata": {
  "kernelspec": {
   "display_name": "Python 3",
   "language": "python",
   "name": "python3"
  },
  "language_info": {
   "codemirror_mode": {
    "name": "ipython",
    "version": 3
   },
   "file_extension": ".py",
   "mimetype": "text/x-python",
   "name": "python",
   "nbconvert_exporter": "python",
   "pygments_lexer": "ipython3",
   "version": "3.11.3"
  }
 },
 "nbformat": 4,
 "nbformat_minor": 2
}
